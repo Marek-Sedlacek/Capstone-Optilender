{
 "cells": [
  {
   "cell_type": "code",
   "execution_count": 2,
   "metadata": {
    "collapsed": true
   },
   "outputs": [],
   "source": [
    "import os\n",
    "import collections\n",
    "import pandas as pd\n",
    "import sqlalchemy as sql\n",
    "import datetime as dt"
   ]
  },
  {
   "cell_type": "code",
   "execution_count": 3,
   "metadata": {
    "collapsed": true
   },
   "outputs": [],
   "source": [
    "LOANS_DIR = '/p2p_lending/prosper/loans'\n",
    "LISTINGS_DIR = '/p2p_lending/prosper/listings'"
   ]
  },
  {
   "cell_type": "markdown",
   "metadata": {},
   "source": [
    "## Preparation"
   ]
  },
  {
   "cell_type": "code",
   "execution_count": 4,
   "metadata": {
    "collapsed": true
   },
   "outputs": [],
   "source": [
    "def payment(amount,rate,periods):\n",
    "    '''Calculate loan payment, given principal amount, monthly interest rate, and term (periods).'''\n",
    "    increase    = (1+rate)**periods\n",
    "    if abs(increase - 1) < 10**(-10):\n",
    "        return 0\n",
    "    pmt         = rate*amount*increase/float(increase - 1)\n",
    "    return pmt"
   ]
  },
  {
   "cell_type": "markdown",
   "metadata": {},
   "source": [
    "### Get Samples for Work on Column Setup"
   ]
  },
  {
   "cell_type": "code",
   "execution_count": 5,
   "metadata": {
    "collapsed": true
   },
   "outputs": [],
   "source": [
    "seed = 324"
   ]
  },
  {
   "cell_type": "code",
   "execution_count": null,
   "metadata": {
    "collapsed": true
   },
   "outputs": [],
   "source": [
    "loan_sample = pd.read_csv(os.path.join(LOANS_DIR,\n",
    "                                 'Loans_20140101to20150101_20161007T060016.csv'),\n",
    "                                 header=0,\n",
    "                                 low_memory=True).sample(10000,random_state=seed)"
   ]
  },
  {
   "cell_type": "code",
   "execution_count": 6,
   "metadata": {
    "collapsed": false
   },
   "outputs": [
    {
     "name": "stderr",
     "output_type": "stream",
     "text": [
      "/usr/local/lib/python2.7/site-packages/IPython/core/interactiveshell.py:2717: DtypeWarning: Columns (535) have mixed types. Specify dtype option on import or set low_memory=False.\n",
      "  interactivity=interactivity, compiler=compiler, result=result)\n"
     ]
    }
   ],
   "source": [
    "listing_sample = pd.read_csv(os.path.join(LISTINGS_DIR,\n",
    "                                 'Listings_20150101to20160101_20161007T060524.csv'),\n",
    "                                 header=0,\n",
    "                                 low_memory=True).sample(10000,random_state=seed)\n",
    "\n",
    "#note samples retain indices, so they won't count normally\n",
    "# for example loans.ix[0] returns an error if item 0 is not in the sample "
   ]
  },
  {
   "cell_type": "markdown",
   "metadata": {},
   "source": [
    "#### Add a payment column and simple return column"
   ]
  },
  {
   "cell_type": "code",
   "execution_count": 5,
   "metadata": {
    "collapsed": false
   },
   "outputs": [],
   "source": [
    "loan_sample['payment'] = loan_sample.apply(lambda row: payment(row.amount_borrowed,row.borrower_rate/12.,row.term),axis=1)\n",
    "loan_sample['simple_return'] = (loan_sample.interest_paid + loan_sample.principal_paid)/loan_sample.amount_borrowed"
   ]
  },
  {
   "cell_type": "markdown",
   "metadata": {},
   "source": [
    "#### Get rid of columns without any data or without any variation"
   ]
  },
  {
   "cell_type": "code",
   "execution_count": 6,
   "metadata": {
    "collapsed": false
   },
   "outputs": [
    {
     "data": {
      "text/plain": [
       "loan_default_reason_description      792\n",
       "loan_default_reason                  792\n",
       "next_payment_due_date               9928\n",
       "loan_number                        10000\n",
       "next_payment_due_amount            10000\n",
       "dtype: int64"
      ]
     },
     "execution_count": 6,
     "metadata": {},
     "output_type": "execute_result"
    }
   ],
   "source": [
    "loan_sample.count().sort_values().head()"
   ]
  },
  {
   "cell_type": "code",
   "execution_count": 7,
   "metadata": {
    "collapsed": false
   },
   "outputs": [
    {
     "data": {
      "text/plain": [
       "group_name                    0\n",
       "verification_stage            0\n",
       "prior_prosper_loans61dpd      2\n",
       "prior_prosper_loans31dpd      3\n",
       "whole_loan_end_date         135\n",
       "dtype: int64"
      ]
     },
     "execution_count": 7,
     "metadata": {},
     "output_type": "execute_result"
    }
   ],
   "source": [
    "listing_sample.count().sort_values().head()"
   ]
  },
  {
   "cell_type": "markdown",
   "metadata": {},
   "source": [
    "Documentation on the fields indicates that there are several fields which are deprecated. \n",
    "- group_name\n",
    "- group_indicator\n",
    "- borrower_listing_description\n",
    "- channel_code\n",
    "- listing_purpose"
   ]
  },
  {
   "cell_type": "markdown",
   "metadata": {},
   "source": [
    "It makes sense to get rid of these fields since they won't be useful for current/future loans. Actually, some of them have already been removed in the data. The verification_stage field is not deprecated, but it appears to always be 0, which isn't helpful to us."
   ]
  },
  {
   "cell_type": "code",
   "execution_count": 8,
   "metadata": {
    "collapsed": false
   },
   "outputs": [],
   "source": [
    "del listing_sample['group_indicator'], listing_sample['group_name']\n",
    "del listing_sample['channel_code']"
   ]
  },
  {
   "cell_type": "markdown",
   "metadata": {},
   "source": [
    "#### Get rid of fields without variation"
   ]
  },
  {
   "cell_type": "code",
   "execution_count": 9,
   "metadata": {
    "collapsed": false
   },
   "outputs": [
    {
     "data": {
      "text/plain": [
       "verification_stage            0\n",
       "prior_prosper_loans31dpd      1\n",
       "prior_prosper_loans61dpd      1\n",
       "amount_participation          1\n",
       "borrower_metropolitan_area    1\n",
       "gbl007                        1\n",
       "rev113                        2\n",
       "listing_term                  2\n",
       "iln113                        2\n",
       "rev110                        2\n",
       "dtype: int64"
      ]
     },
     "execution_count": 9,
     "metadata": {},
     "output_type": "execute_result"
    }
   ],
   "source": [
    "listing_sample.apply(lambda col: pd.value_counts(col).count(), axis=0).sort_values().head(10)"
   ]
  },
  {
   "cell_type": "code",
   "execution_count": 10,
   "metadata": {
    "collapsed": false
   },
   "outputs": [
    {
     "name": "stdout",
     "output_type": "stream",
     "text": [
      "loans31dpd:  [ nan]\n",
      "amount_participation:  [0]\n",
      "borrower_metro:  ['(Not Implemented)']\n",
      "verification_stage:  [ nan]\n",
      "loans61dpd:  [ nan]\n",
      "gbl007:  [ 0.]\n"
     ]
    }
   ],
   "source": [
    "print 'loans31dpd: ', listing_sample.prior_prosper_loans31dpd.head(1).values\n",
    "print 'amount_participation: ', listing_sample.amount_participation.head(1).values\n",
    "print 'borrower_metro: ', listing_sample.borrower_metropolitan_area.head(1).values\n",
    "print 'verification_stage: ', listing_sample.verification_stage.head(1).values\n",
    "print 'loans61dpd: ', listing_sample.prior_prosper_loans61dpd.head(1).values\n",
    "print 'gbl007: ', listing_sample.gbl007.head(1).values"
   ]
  },
  {
   "cell_type": "code",
   "execution_count": 11,
   "metadata": {
    "collapsed": true
   },
   "outputs": [],
   "source": [
    "del listing_sample['prior_prosper_loans31dpd'], listing_sample['prior_prosper_loans61dpd']\n",
    "del listing_sample['amount_participation'], listing_sample['borrower_metropolitan_area']\n",
    "del listing_sample['gbl007'], listing_sample['verification_stage']"
   ]
  },
  {
   "cell_type": "markdown",
   "metadata": {},
   "source": [
    "#### Fix Dates from string type to datetime type"
   ]
  },
  {
   "cell_type": "markdown",
   "metadata": {},
   "source": [
    "The oldest_trade_open_date column has multiple formats within some files (i.e. 08231992, '8/25/200', '9/19/199, 1, 2, NaN); this breaks the pd.to_datetime function.\n",
    "Therefore, I have decided to get rid of this column."
   ]
  },
  {
   "cell_type": "code",
   "execution_count": 14,
   "metadata": {
    "collapsed": true
   },
   "outputs": [],
   "source": [
    "del listing_sample['oldest_trade_open_date']"
   ]
  },
  {
   "cell_type": "code",
   "execution_count": null,
   "metadata": {
    "collapsed": true
   },
   "outputs": [],
   "source": [
    "for col in loan_sample.columns:\n",
    "    if 'date' in col:\n",
    "        loan_sample[col] = pd.to_datetime(loan_sample[col])"
   ]
  },
  {
   "cell_type": "code",
   "execution_count": 15,
   "metadata": {
    "collapsed": true
   },
   "outputs": [],
   "source": [
    "for col in listing_sample.columns:\n",
    "    if 'date' in col:\n",
    "        listing_sample[col] = pd.to_datetime(listing_sample[col])"
   ]
  },
  {
   "cell_type": "code",
   "execution_count": 16,
   "metadata": {
    "collapsed": false
   },
   "outputs": [],
   "source": [
    "listing_sample['first_recorded_credit_line'] = pd.to_datetime(listing_sample['first_recorded_credit_line'])"
   ]
  },
  {
   "cell_type": "markdown",
   "metadata": {},
   "source": [
    "#### Set up column types"
   ]
  },
  {
   "cell_type": "code",
   "execution_count": 55,
   "metadata": {
    "collapsed": true
   },
   "outputs": [],
   "source": [
    "ln_col_types = loan_sample.apply(lambda col: collections.Counter(\n",
    "                            [type(i) for i in col if type(i)!=object]).most_common(1)[0][0])\n",
    " "
   ]
  },
  {
   "cell_type": "code",
   "execution_count": 17,
   "metadata": {
    "collapsed": false
   },
   "outputs": [],
   "source": [
    "listing_col_types = listing_sample.apply(lambda col: collections.Counter(\n",
    "                            [type(i) for i in col if type(i)!=object]).most_common(1)[0][0])         "
   ]
  },
  {
   "cell_type": "code",
   "execution_count": 18,
   "metadata": {
    "collapsed": false
   },
   "outputs": [
    {
     "data": {
      "text/plain": [
       "listing_end_date                 {<class 'pandas.tslib.Timestamp'>, <class 'pan...\n",
       "loan_origination_date            {<class 'pandas.tslib.Timestamp'>, <class 'pan...\n",
       "scorex                                              {<type 'str'>, <type 'float'>}\n",
       "scorex_change                                       {<type 'str'>, <type 'float'>}\n",
       "employment_status_description                       {<type 'str'>, <type 'float'>}\n",
       "occupation                                          {<type 'str'>, <type 'float'>}\n",
       "whole_loan_start_date            {<class 'pandas.tslib.Timestamp'>, <class 'pan...\n",
       "whole_loan_end_date              {<class 'pandas.tslib.Timestamp'>, <class 'pan...\n",
       "dtype: object"
      ]
     },
     "execution_count": 18,
     "metadata": {},
     "output_type": "execute_result"
    }
   ],
   "source": [
    "chking = listing_sample.apply(lambda col: set(col.apply(type)))\n",
    "chking[chking.apply(len) > 1]"
   ]
  },
  {
   "cell_type": "code",
   "execution_count": 19,
   "metadata": {
    "collapsed": true
   },
   "outputs": [],
   "source": [
    "listing_col_types['scorex_change'] = str    #most of these are np.nan, but correct type is str\n",
    "listing_col_types['scorex'] = str\n",
    "listing_col_types['employment_status_description'] = str\n",
    "listing_col_types['occupation'] =str"
   ]
  },
  {
   "cell_type": "code",
   "execution_count": 20,
   "metadata": {
    "collapsed": true
   },
   "outputs": [],
   "source": [
    "for col in listing_col_types.index:\n",
    "    if 'date' in col:\n",
    "        listing_col_types[col] = pd.tslib.Timestamp"
   ]
  },
  {
   "cell_type": "code",
   "execution_count": 16,
   "metadata": {
    "collapsed": false
   },
   "outputs": [
    {
     "data": {
      "text/plain": [
       "prosper_rating             <type 'str'>\n",
       "loan_status_description    <type 'str'>\n",
       "dtype: object"
      ]
     },
     "execution_count": 16,
     "metadata": {},
     "output_type": "execute_result"
    }
   ],
   "source": [
    "ln_col_types[ln_col_types==str]"
   ]
  },
  {
   "cell_type": "code",
   "execution_count": 21,
   "metadata": {
    "collapsed": false
   },
   "outputs": [
    {
     "data": {
      "text/plain": [
       "member_key                       <type 'str'>\n",
       "listing_status_reason            <type 'str'>\n",
       "prosper_rating                   <type 'str'>\n",
       "scorex                           <type 'str'>\n",
       "scorex_change                    <type 'str'>\n",
       "fico_score                       <type 'str'>\n",
       "income_range_description         <type 'str'>\n",
       "employment_status_description    <type 'str'>\n",
       "occupation                       <type 'str'>\n",
       "borrower_state                   <type 'str'>\n",
       "borrower_city                    <type 'str'>\n",
       "investment_type_description      <type 'str'>\n",
       "dtype: object"
      ]
     },
     "execution_count": 21,
     "metadata": {},
     "output_type": "execute_result"
    }
   ],
   "source": [
    "listing_col_types[listing_col_types==str]"
   ]
  },
  {
   "cell_type": "code",
   "execution_count": 18,
   "metadata": {
    "collapsed": false,
    "scrolled": false
   },
   "outputs": [
    {
     "name": "stdout",
     "output_type": "stream",
     "text": [
      "[<type 'int'> <type 'float'> <type 'str'> <class 'pandas.tslib.Timestamp'>]\n"
     ]
    }
   ],
   "source": [
    "print pd.unique(ln_col_types)"
   ]
  },
  {
   "cell_type": "code",
   "execution_count": 18,
   "metadata": {
    "collapsed": false,
    "scrolled": true
   },
   "outputs": [
    {
     "name": "stdout",
     "output_type": "stream",
     "text": [
      "[<type 'str'> <type 'int'> <class 'pandas.tslib.Timestamp'> <type 'float'>\n",
      " <type 'bool'>]\n"
     ]
    }
   ],
   "source": [
    "print pd.unique(listing_col_types)"
   ]
  },
  {
   "cell_type": "markdown",
   "metadata": {},
   "source": [
    "To convert a DataFrame to an sql table, we will need to use sqlalchemy types. A conversion table will help with this."
   ]
  },
  {
   "cell_type": "code",
   "execution_count": 22,
   "metadata": {
    "collapsed": true
   },
   "outputs": [],
   "source": [
    "type_cvert = {int: sql.types.Integer,\n",
    "              float: sql.types.Float,\n",
    "              pd.tslib.Timestamp: sql.types.Date, \n",
    "              bool: sql.types.Boolean,\n",
    "              pd.tslib.NaTType: sql.types.NullType}"
   ]
  },
  {
   "cell_type": "markdown",
   "metadata": {},
   "source": [
    "#### Loan Columns: Convert to sqlalchemy types"
   ]
  },
  {
   "cell_type": "code",
   "execution_count": 21,
   "metadata": {
    "collapsed": false
   },
   "outputs": [
    {
     "data": {
      "text/plain": [
       "loan_number                                            <type 'int'>\n",
       "amount_borrowed                                      <type 'float'>\n",
       "borrower_rate                                        <type 'float'>\n",
       "prosper_rating                                         <type 'str'>\n",
       "term                                                   <type 'int'>\n",
       "age_in_months                                          <type 'int'>\n",
       "origination_date                   <class 'pandas.tslib.Timestamp'>\n",
       "days_past_due                                          <type 'int'>\n",
       "principal_balance                                    <type 'float'>\n",
       "service_fees_paid                                    <type 'float'>\n",
       "principal_paid                                       <type 'float'>\n",
       "interest_paid                                        <type 'float'>\n",
       "prosper_fees_paid                                    <type 'float'>\n",
       "late_fees_paid                                       <type 'float'>\n",
       "debt_sale_proceeds_received                          <type 'float'>\n",
       "loan_status                                            <type 'int'>\n",
       "loan_status_description                                <type 'str'>\n",
       "loan_default_reason                                  <type 'float'>\n",
       "loan_default_reason_description                      <type 'float'>\n",
       "next_payment_due_date              <class 'pandas.tslib.Timestamp'>\n",
       "next_payment_due_amount                              <type 'float'>\n",
       "payment                                              <type 'float'>\n",
       "simple_return                                        <type 'float'>\n",
       "dtype: object"
      ]
     },
     "execution_count": 21,
     "metadata": {},
     "output_type": "execute_result"
    }
   ],
   "source": [
    "ln_col_types"
   ]
  },
  {
   "cell_type": "markdown",
   "metadata": {},
   "source": [
    "#### Fix loan_default_reason_description column to be varchar"
   ]
  },
  {
   "cell_type": "code",
   "execution_count": 57,
   "metadata": {
    "collapsed": false
   },
   "outputs": [],
   "source": [
    "import numpy as np\n",
    "ln_col_types.loan_default_reason_description = str\n",
    "#listing_sample.ix[listing_sample.scorex.apply(type)==float, listing_col_types.index[listing_col_types==str]]\n",
    "str_columns = ln_col_types.index[ln_col_types==str]\n",
    "fixna_dict = dict.fromkeys(str_columns,'')\n",
    "fixna = loan_sample.fillna(fixna_dict, inplace=True)"
   ]
  },
  {
   "cell_type": "code",
   "execution_count": 58,
   "metadata": {
    "collapsed": false
   },
   "outputs": [],
   "source": [
    "for ind in ln_col_types.index:\n",
    "    if ln_col_types[ind] != str:\n",
    "        ln_col_types[ind] = type_cvert[ln_col_types[ind]]\n",
    "    else:\n",
    "        ln_col_types[ind] = sql.types.String(loan_sample[ind].apply(len).max())"
   ]
  },
  {
   "cell_type": "code",
   "execution_count": 59,
   "metadata": {
    "collapsed": false
   },
   "outputs": [
    {
     "data": {
      "text/plain": [
       "loan_number                        <class 'sqlalchemy.sql.sqltypes.Integer'>\n",
       "amount_borrowed                      <class 'sqlalchemy.sql.sqltypes.Float'>\n",
       "borrower_rate                        <class 'sqlalchemy.sql.sqltypes.Float'>\n",
       "prosper_rating                                                    VARCHAR(2)\n",
       "term                               <class 'sqlalchemy.sql.sqltypes.Integer'>\n",
       "age_in_months                      <class 'sqlalchemy.sql.sqltypes.Integer'>\n",
       "origination_date                      <class 'sqlalchemy.sql.sqltypes.Date'>\n",
       "days_past_due                      <class 'sqlalchemy.sql.sqltypes.Integer'>\n",
       "principal_balance                    <class 'sqlalchemy.sql.sqltypes.Float'>\n",
       "service_fees_paid                    <class 'sqlalchemy.sql.sqltypes.Float'>\n",
       "principal_paid                       <class 'sqlalchemy.sql.sqltypes.Float'>\n",
       "interest_paid                        <class 'sqlalchemy.sql.sqltypes.Float'>\n",
       "prosper_fees_paid                    <class 'sqlalchemy.sql.sqltypes.Float'>\n",
       "late_fees_paid                       <class 'sqlalchemy.sql.sqltypes.Float'>\n",
       "debt_sale_proceeds_received          <class 'sqlalchemy.sql.sqltypes.Float'>\n",
       "loan_status                        <class 'sqlalchemy.sql.sqltypes.Integer'>\n",
       "loan_status_description                                           VARCHAR(9)\n",
       "loan_default_reason                  <class 'sqlalchemy.sql.sqltypes.Float'>\n",
       "loan_default_reason_description                                  VARCHAR(13)\n",
       "next_payment_due_date                 <class 'sqlalchemy.sql.sqltypes.Date'>\n",
       "next_payment_due_amount              <class 'sqlalchemy.sql.sqltypes.Float'>\n",
       "payment                              <class 'sqlalchemy.sql.sqltypes.Float'>\n",
       "simple_return                        <class 'sqlalchemy.sql.sqltypes.Float'>\n",
       "dtype: object"
      ]
     },
     "execution_count": 59,
     "metadata": {},
     "output_type": "execute_result"
    }
   ],
   "source": [
    "ln_col_types"
   ]
  },
  {
   "cell_type": "markdown",
   "metadata": {},
   "source": [
    "#### Listing Columns: Convert to sqlalchemy types"
   ]
  },
  {
   "cell_type": "markdown",
   "metadata": {},
   "source": [
    "The str type columns had some NaN values, which were of type float. I replace these with the empty string. "
   ]
  },
  {
   "cell_type": "code",
   "execution_count": 23,
   "metadata": {
    "collapsed": false
   },
   "outputs": [],
   "source": [
    "import numpy as np\n",
    "#listing_sample.ix[listing_sample.scorex.apply(type)==float, listing_col_types.index[listing_col_types==str]]\n",
    "str_columns = listing_col_types.index[listing_col_types==str]\n",
    "fixna_dict = dict.fromkeys(str_columns,'')\n",
    "fixna = listing_sample.fillna(fixna_dict, inplace=True)"
   ]
  },
  {
   "cell_type": "code",
   "execution_count": 24,
   "metadata": {
    "collapsed": false
   },
   "outputs": [],
   "source": [
    "for ind in listing_col_types.index:\n",
    "    if listing_col_types[ind] != str:\n",
    "        listing_col_types[ind] = type_cvert[listing_col_types[ind]]\n",
    "    elif ind in ['borrower_city','borrower_metropolitan_area']:\n",
    "        listing_col_types[ind] = sql.types.String(int(listing_sample[ind].apply(len).max()*1.6))\n",
    "    else:\n",
    "        listing_col_types[ind] = sql.types.String(listing_sample[ind].apply(len).max())"
   ]
  },
  {
   "cell_type": "code",
   "execution_count": 25,
   "metadata": {
    "collapsed": false,
    "scrolled": true
   },
   "outputs": [
    {
     "data": {
      "text/plain": [
       "member_key                                                     VARCHAR(23)\n",
       "listing_number                   <class 'sqlalchemy.sql.sqltypes.Integer'>\n",
       "credit_pull_date                    <class 'sqlalchemy.sql.sqltypes.Date'>\n",
       "listing_start_date                  <class 'sqlalchemy.sql.sqltypes.Date'>\n",
       "listing_end_date                    <class 'sqlalchemy.sql.sqltypes.Date'>\n",
       "listing_creation_date               <class 'sqlalchemy.sql.sqltypes.Date'>\n",
       "loan_origination_date               <class 'sqlalchemy.sql.sqltypes.Date'>\n",
       "listing_status                   <class 'sqlalchemy.sql.sqltypes.Integer'>\n",
       "listing_status_reason                                           VARCHAR(9)\n",
       "listing_amount                     <class 'sqlalchemy.sql.sqltypes.Float'>\n",
       "amount_funded                      <class 'sqlalchemy.sql.sqltypes.Float'>\n",
       "amount_remaining                   <class 'sqlalchemy.sql.sqltypes.Float'>\n",
       "percent_funded                     <class 'sqlalchemy.sql.sqltypes.Float'>\n",
       "partial_funding_indicator        <class 'sqlalchemy.sql.sqltypes.Boolean'>\n",
       "funding_threshold                  <class 'sqlalchemy.sql.sqltypes.Float'>\n",
       "prosper_rating                                                  VARCHAR(2)\n",
       "estimated_return                   <class 'sqlalchemy.sql.sqltypes.Float'>\n",
       "estimated_loss_rate                <class 'sqlalchemy.sql.sqltypes.Float'>\n",
       "lender_yield                       <class 'sqlalchemy.sql.sqltypes.Float'>\n",
       "effective_yield                    <class 'sqlalchemy.sql.sqltypes.Float'>\n",
       "borrower_rate                      <class 'sqlalchemy.sql.sqltypes.Float'>\n",
       "borrower_apr                       <class 'sqlalchemy.sql.sqltypes.Float'>\n",
       "listing_term                     <class 'sqlalchemy.sql.sqltypes.Integer'>\n",
       "listing_monthly_payment            <class 'sqlalchemy.sql.sqltypes.Float'>\n",
       "scorex                                                          VARCHAR(7)\n",
       "scorex_change                                                  VARCHAR(23)\n",
       "fico_score                                                      VARCHAR(7)\n",
       "prosper_score                      <class 'sqlalchemy.sql.sqltypes.Float'>\n",
       "listing_category_id              <class 'sqlalchemy.sql.sqltypes.Integer'>\n",
       "income_range                     <class 'sqlalchemy.sql.sqltypes.Integer'>\n",
       "                                                   ...                    \n",
       "delinquencies_last7_years        <class 'sqlalchemy.sql.sqltypes.Integer'>\n",
       "public_records_last10_years      <class 'sqlalchemy.sql.sqltypes.Integer'>\n",
       "public_records_last12_months     <class 'sqlalchemy.sql.sqltypes.Integer'>\n",
       "first_recorded_credit_line          <class 'sqlalchemy.sql.sqltypes.Date'>\n",
       "credit_lines_last7_years         <class 'sqlalchemy.sql.sqltypes.Integer'>\n",
       "inquiries_last6_months           <class 'sqlalchemy.sql.sqltypes.Integer'>\n",
       "amount_delinquent                <class 'sqlalchemy.sql.sqltypes.Integer'>\n",
       "current_credit_lines             <class 'sqlalchemy.sql.sqltypes.Integer'>\n",
       "open_credit_lines                <class 'sqlalchemy.sql.sqltypes.Integer'>\n",
       "bankcard_utilization               <class 'sqlalchemy.sql.sqltypes.Float'>\n",
       "total_open_revolving_accounts    <class 'sqlalchemy.sql.sqltypes.Integer'>\n",
       "installment_balance                <class 'sqlalchemy.sql.sqltypes.Float'>\n",
       "real_estate_balance                <class 'sqlalchemy.sql.sqltypes.Float'>\n",
       "revolving_balance                  <class 'sqlalchemy.sql.sqltypes.Float'>\n",
       "real_estate_payment                <class 'sqlalchemy.sql.sqltypes.Float'>\n",
       "revolving_available_percent        <class 'sqlalchemy.sql.sqltypes.Float'>\n",
       "total_inquiries                  <class 'sqlalchemy.sql.sqltypes.Integer'>\n",
       "total_trade_items                <class 'sqlalchemy.sql.sqltypes.Integer'>\n",
       "satisfactory_accounts            <class 'sqlalchemy.sql.sqltypes.Integer'>\n",
       "now_delinquent_derog             <class 'sqlalchemy.sql.sqltypes.Integer'>\n",
       "was_delinquent_derog             <class 'sqlalchemy.sql.sqltypes.Integer'>\n",
       "delinquencies_over30_days        <class 'sqlalchemy.sql.sqltypes.Integer'>\n",
       "delinquencies_over60_days        <class 'sqlalchemy.sql.sqltypes.Integer'>\n",
       "delinquencies_over90_days        <class 'sqlalchemy.sql.sqltypes.Integer'>\n",
       "is_homeowner                     <class 'sqlalchemy.sql.sqltypes.Boolean'>\n",
       "investment_typeid                <class 'sqlalchemy.sql.sqltypes.Integer'>\n",
       "investment_type_description                                    VARCHAR(10)\n",
       "whole_loan_start_date               <class 'sqlalchemy.sql.sqltypes.Date'>\n",
       "whole_loan_end_date                 <class 'sqlalchemy.sql.sqltypes.Date'>\n",
       "last_updated_date                   <class 'sqlalchemy.sql.sqltypes.Date'>\n",
       "dtype: object"
      ]
     },
     "execution_count": 25,
     "metadata": {},
     "output_type": "execute_result"
    }
   ],
   "source": [
    "listing_col_types"
   ]
  },
  {
   "cell_type": "markdown",
   "metadata": {},
   "source": [
    "As shown below, there are 102 duplicate listing_number entries. After investigation, these represent the same listings (recorded multiple times). "
   ]
  },
  {
   "cell_type": "code",
   "execution_count": 26,
   "metadata": {
    "collapsed": false
   },
   "outputs": [
    {
     "name": "stderr",
     "output_type": "stream",
     "text": [
      "/usr/local/lib/python2.7/site-packages/IPython/core/interactiveshell.py:2717: DtypeWarning: Columns (16) have mixed types. Specify dtype option on import or set low_memory=False.\n",
      "  interactivity=interactivity, compiler=compiler, result=result)\n"
     ]
    }
   ],
   "source": [
    "listing_files = os.listdir(LISTINGS_DIR)\n",
    "\n",
    "for i,f in enumerate(listing_files):\n",
    "    if i ==0:\n",
    "        df = pd.read_csv(os.path.join(LISTINGS_DIR,f), header=0, low_memory=True, usecols=['listing_number','borrower_rate',\n",
    "                                                                                          'prosper_rating','estimated_return',\n",
    "                                                                                          'loan_origination_date','amount_funded'])\n",
    "    else:\n",
    "        df.append(pd.read_csv(os.path.join(LISTINGS_DIR,f), header=0, low_memory=True, usecols=['listing_number','borrower_rate',\n",
    "                                                                                          'prosper_rating','estimated_return',\n",
    "                                                                                          'loan_origination_date','amount_funded']))"
   ]
  },
  {
   "cell_type": "code",
   "execution_count": 27,
   "metadata": {
    "collapsed": false
   },
   "outputs": [
    {
     "data": {
      "text/plain": [
       "102"
      ]
     },
     "execution_count": 27,
     "metadata": {},
     "output_type": "execute_result"
    }
   ],
   "source": [
    "df[df.duplicated(subset=['listing_number'])].listing_number.count()"
   ]
  },
  {
   "cell_type": "markdown",
   "metadata": {},
   "source": [
    "### Database Connection"
   ]
  },
  {
   "cell_type": "code",
   "execution_count": 28,
   "metadata": {
    "collapsed": true
   },
   "outputs": [],
   "source": [
    "creds = '<username>:<password>'"
   ]
  },
  {
   "cell_type": "code",
   "execution_count": 29,
   "metadata": {
    "collapsed": true
   },
   "outputs": [],
   "source": [
    "eng = sql.create_engine('postgresql://%s@localhost:5432/p2p_lending' %creds)"
   ]
  },
  {
   "cell_type": "code",
   "execution_count": 30,
   "metadata": {
    "collapsed": true
   },
   "outputs": [],
   "source": [
    "con = eng.connect()"
   ]
  },
  {
   "cell_type": "markdown",
   "metadata": {},
   "source": [
    "### Loans Data Ingest"
   ]
  },
  {
   "cell_type": "markdown",
   "metadata": {},
   "source": [
    "#### Create table"
   ]
  },
  {
   "cell_type": "code",
   "execution_count": 31,
   "metadata": {
    "collapsed": true
   },
   "outputs": [],
   "source": [
    "from sqlalchemy.ext.declarative import declarative_base"
   ]
  },
  {
   "cell_type": "code",
   "execution_count": 61,
   "metadata": {
    "collapsed": true
   },
   "outputs": [],
   "source": [
    "Base = declarative_base()"
   ]
  },
  {
   "cell_type": "code",
   "execution_count": 62,
   "metadata": {
    "collapsed": false
   },
   "outputs": [],
   "source": [
    "class Loans(Base):\n",
    "    __tablename__ = 'loans'\n",
    "    for ind in ln_col_types.index:\n",
    "        if ind == 'loan_number':\n",
    "            sql_type = ln_col_types[ind]\n",
    "            exec '%s = sql.Column(sql_type, primary_key=True)' %(ind)\n",
    "        else:\n",
    "            sql_type = ln_col_types[ind]\n",
    "            exec '%s = sql.Column(sql_type)' %(ind)"
   ]
  },
  {
   "cell_type": "code",
   "execution_count": 63,
   "metadata": {
    "collapsed": true
   },
   "outputs": [],
   "source": [
    "Base.metadata.create_all(con)"
   ]
  },
  {
   "cell_type": "markdown",
   "metadata": {},
   "source": [
    "#### Ingest Data"
   ]
  },
  {
   "cell_type": "code",
   "execution_count": 64,
   "metadata": {
    "collapsed": false
   },
   "outputs": [
    {
     "name": "stderr",
     "output_type": "stream",
     "text": [
      "/usr/local/lib/python2.7/site-packages/IPython/core/interactiveshell.py:2717: DtypeWarning: Columns (18) have mixed types. Specify dtype option on import or set low_memory=False.\n",
      "  interactivity=interactivity, compiler=compiler, result=result)\n"
     ]
    }
   ],
   "source": [
    "sqlalchemy = sql\n",
    "\n",
    "loan_files = os.listdir(LOANS_DIR)\n",
    "\n",
    "for f in loan_files:\n",
    "    #read data\n",
    "    loans = pd.read_csv(os.path.join(LOANS_DIR,f), header=0, low_memory=True)    \n",
    "    #add new columns\n",
    "    loans['payment'] = loans.apply(lambda row: payment(row.amount_borrowed,row.borrower_rate/12.,row.term),axis=1)\n",
    "    loans['simple_return'] = (loans.interest_paid + loans.principal_paid)/loans.amount_borrowed\n",
    "    #fix date columns\n",
    "    for col in loans.columns:\n",
    "        if 'date' in col:\n",
    "            loans[col] = pd.to_datetime(loans[col])\n",
    "    #write data to sql table (using sql converted types)\n",
    "    loans.to_sql(name='loans', con=con, if_exists='append', index=False, dtype=dict(ln_col_types))"
   ]
  },
  {
   "cell_type": "markdown",
   "metadata": {},
   "source": [
    "### Listings Data Ingest"
   ]
  },
  {
   "cell_type": "code",
   "execution_count": 32,
   "metadata": {
    "collapsed": false
   },
   "outputs": [],
   "source": [
    "Base = declarative_base()"
   ]
  },
  {
   "cell_type": "code",
   "execution_count": 33,
   "metadata": {
    "collapsed": false
   },
   "outputs": [],
   "source": [
    "class Listings(Base):\n",
    "    __tablename__ = 'listings'\n",
    "    for ind in listing_col_types.index:\n",
    "        if ind == 'listing_number':\n",
    "            sql_type = listing_col_types[ind]\n",
    "            exec '%s = sql.Column(sql_type, primary_key=True)' %(ind)\n",
    "        else:\n",
    "            sql_type = listing_col_types[ind]\n",
    "            exec '%s = sql.Column(sql_type)' %(ind)"
   ]
  },
  {
   "cell_type": "code",
   "execution_count": 34,
   "metadata": {
    "collapsed": false
   },
   "outputs": [],
   "source": [
    "Base.metadata.create_all(con)"
   ]
  },
  {
   "cell_type": "code",
   "execution_count": 37,
   "metadata": {
    "collapsed": false
   },
   "outputs": [
    {
     "name": "stdout",
     "output_type": "stream",
     "text": [
      "starting file Listings_20160101toCurrent_20161007T061001.csv\n",
      "starting file Listings_20050101to20130101_20161007T060003.csv\n"
     ]
    },
    {
     "name": "stderr",
     "output_type": "stream",
     "text": [
      "/usr/local/lib/python2.7/site-packages/IPython/core/interactiveshell.py:2717: DtypeWarning: Columns (16,25,26,27,531,535,538) have mixed types. Specify dtype option on import or set low_memory=False.\n",
      "  interactivity=interactivity, compiler=compiler, result=result)\n"
     ]
    },
    {
     "name": "stdout",
     "output_type": "stream",
     "text": [
      "starting file Listings_20130101to20140101_20161007T060218.csv\n"
     ]
    },
    {
     "name": "stderr",
     "output_type": "stream",
     "text": [
      "/usr/local/lib/python2.7/site-packages/IPython/core/interactiveshell.py:2717: DtypeWarning: Columns (26,33,57,531,535,538,539) have mixed types. Specify dtype option on import or set low_memory=False.\n",
      "  interactivity=interactivity, compiler=compiler, result=result)\n"
     ]
    },
    {
     "name": "stdout",
     "output_type": "stream",
     "text": [
      "starting file Listings_20140101to20150101_20161007T060259.csv\n"
     ]
    },
    {
     "name": "stderr",
     "output_type": "stream",
     "text": [
      "/usr/local/lib/python2.7/site-packages/IPython/core/interactiveshell.py:2717: DtypeWarning: Columns (33,535) have mixed types. Specify dtype option on import or set low_memory=False.\n",
      "  interactivity=interactivity, compiler=compiler, result=result)\n"
     ]
    },
    {
     "name": "stdout",
     "output_type": "stream",
     "text": [
      "starting file Listings_20150101to20160101_20161007T060524.csv\n"
     ]
    }
   ],
   "source": [
    "listing_files = os.listdir(LISTINGS_DIR)\n",
    "listing_numbers = set()\n",
    "for f in listing_files:\n",
    "    print 'starting file %s' %f\n",
    "    #read data\n",
    "    listings = pd.read_csv(os.path.join(LISTINGS_DIR,f), header=0, low_memory=True)\n",
    "    #delete deprecated and unimportant columns\n",
    "    del listings['group_indicator'], listings['group_name']\n",
    "    del listings['channel_code']\n",
    "    del listings['prior_prosper_loans31dpd'], listings['prior_prosper_loans61dpd']\n",
    "    del listings['amount_participation'], listings['borrower_metropolitan_area']\n",
    "    del listings['gbl007'], listings['verification_stage']    \n",
    "    #fix date columns\n",
    "    del listings['oldest_trade_open_date']\n",
    "    for col in listings.columns:\n",
    "        if 'date' in col:\n",
    "            listings[col] = pd.to_datetime(listings[col])\n",
    "    listings['first_recorded_credit_line'] = pd.to_datetime(listings['first_recorded_credit_line'])\n",
    "    #check for duplicate listing_numbers (there are 181)\n",
    "    \n",
    "    listings = listings.drop_duplicates(subset=['listing_number'])    #get rid of duplicates within file\n",
    "    current_listing_n = set(listings.listing_number)\n",
    "    dups = listing_numbers & current_listing_n\n",
    "    listing_numbers = listing_numbers | current_listing_n\n",
    "    #get rid of duplicates accross files\n",
    "    if dups:\n",
    "        listings = listings[~listings.listing_number.isin(dups)]\n",
    "    #write data to sql table\n",
    "    listings.to_sql(name='listings', con=con, if_exists='append', index=False,\n",
    "                    dtype=dict(listing_col_types), chunksize=7000)"
   ]
  },
  {
   "cell_type": "code",
   "execution_count": 38,
   "metadata": {
    "collapsed": false
   },
   "outputs": [
    {
     "name": "stdout",
     "output_type": "stream",
     "text": [
      "done!\n"
     ]
    }
   ],
   "source": [
    "print 'done!'"
   ]
  },
  {
   "cell_type": "code",
   "execution_count": 39,
   "metadata": {
    "collapsed": true
   },
   "outputs": [],
   "source": [
    "con.close()"
   ]
  }
 ],
 "metadata": {
  "kernelspec": {
   "display_name": "Python 2",
   "language": "python",
   "name": "python2"
  },
  "language_info": {
   "codemirror_mode": {
    "name": "ipython",
    "version": 2
   },
   "file_extension": ".py",
   "mimetype": "text/x-python",
   "name": "python",
   "nbconvert_exporter": "python",
   "pygments_lexer": "ipython2",
   "version": "2.7.12"
  }
 },
 "nbformat": 4,
 "nbformat_minor": 1
}
