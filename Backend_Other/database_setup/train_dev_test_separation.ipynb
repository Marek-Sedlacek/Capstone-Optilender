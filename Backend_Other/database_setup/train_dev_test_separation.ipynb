{
 "cells": [
  {
   "cell_type": "markdown",
   "metadata": {},
   "source": [
    "#### This script randomly assigns loans to one of three classes: train (0), dev (1), test (2). \n",
    "The distribution is 80% train, 10% dev, and 10% test. "
   ]
  },
  {
   "cell_type": "code",
   "execution_count": 1,
   "metadata": {
    "collapsed": true
   },
   "outputs": [],
   "source": [
    "import os\n",
    "import random\n",
    "import sqlalchemy as sql\n",
    "import pandas as pd"
   ]
  },
  {
   "cell_type": "code",
   "execution_count": 2,
   "metadata": {
    "collapsed": true
   },
   "outputs": [],
   "source": [
    "def get_analysis_class():\n",
    "    num = random.random()\n",
    "    if num > .2:\n",
    "        return 0    #train 80% of data\n",
    "    elif num > .1:\n",
    "        return 1    #dev 10% of data\n",
    "    else:\n",
    "        return 2    #test 10% of data"
   ]
  },
  {
   "cell_type": "code",
   "execution_count": 10,
   "metadata": {
    "collapsed": false
   },
   "outputs": [
    {
     "data": {
      "text/plain": [
       "<sqlalchemy.engine.base.Connection at 0x7f9955a6bb90>"
      ]
     },
     "execution_count": 10,
     "metadata": {},
     "output_type": "execute_result"
    }
   ],
   "source": [
    "#==============================================================================\n",
    "# setup\n",
    "#==============================================================================\n",
    "#db connection\n",
    "creds   = 'user:pass'  #creds to fill in\n",
    "ip      = '127.0.0.1'\n",
    "port    = 5432\n",
    "dbase   = 'p2p_lending'\n",
    "constring = 'postgresql://%s@%s:%d/%s' %(creds, ip, port, dbase)\n",
    "eng1 = sql.create_engine(constring)\n",
    "eng1.connect()\n",
    "eng2 = sql.create_engine(constring)\n",
    "eng2.connect()"
   ]
  },
  {
   "cell_type": "code",
   "execution_count": 11,
   "metadata": {
    "collapsed": true
   },
   "outputs": [],
   "source": [
    "stmt = 'select loan_number from loans_nodups'\n",
    "cur = eng1.execute(stmt)"
   ]
  },
  {
   "cell_type": "markdown",
   "metadata": {},
   "source": [
    "#### Assign loans to Class"
   ]
  },
  {
   "cell_type": "code",
   "execution_count": 12,
   "metadata": {
    "collapsed": false
   },
   "outputs": [],
   "source": [
    "for val in cur:\n",
    "    c = get_analysis_class()\n",
    "    sqlcmd = 'update loans_nodups set analysis_class=%d where loan_number=%d' %(c, val[0])\n",
    "    cur2 = eng2.execute(sqlcmd)"
   ]
  },
  {
   "cell_type": "markdown",
   "metadata": {},
   "source": [
    "#### Verify that command worked"
   ]
  },
  {
   "cell_type": "code",
   "execution_count": 13,
   "metadata": {
    "collapsed": false
   },
   "outputs": [
    {
     "name": "stdout",
     "output_type": "stream",
     "text": [
      "class: 0 (233226L,)\n",
      "class: 1 (29361L,)\n",
      "class: 2 (29027L,)\n"
     ]
    }
   ],
   "source": [
    "stmt2 = 'select count(*) from loans_nodups where analysis_class=%d'\n",
    "for cls in [0,1,2]:\n",
    "    cur1 = eng1.execute(stmt2 %cls)\n",
    "    print 'class: %d' %cls, cur1.fetchone()"
   ]
  }
 ],
 "metadata": {
  "kernelspec": {
   "display_name": "Python 2",
   "language": "python",
   "name": "python2"
  },
  "language_info": {
   "codemirror_mode": {
    "name": "ipython",
    "version": 2
   },
   "file_extension": ".py",
   "mimetype": "text/x-python",
   "name": "python",
   "nbconvert_exporter": "python",
   "pygments_lexer": "ipython2",
   "version": "2.7.12"
  }
 },
 "nbformat": 4,
 "nbformat_minor": 1
}
