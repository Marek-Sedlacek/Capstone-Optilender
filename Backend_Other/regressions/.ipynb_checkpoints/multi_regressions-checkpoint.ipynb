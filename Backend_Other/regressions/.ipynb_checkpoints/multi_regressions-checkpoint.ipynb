{
 "cells": [
  {
   "cell_type": "markdown",
   "metadata": {},
   "source": [
    "## Multiple Regressions"
   ]
  },
  {
   "cell_type": "markdown",
   "metadata": {},
   "source": [
    "This code iteratively investigates regressions of the form: \n",
    "    \n",
    "    simple_return ~ age_in_months + borrower_rate + payment + C(term) + <additional terms>\n",
    "   \n",
    "where C() is used to evaluate a term categorically. The outputs are stored in the pickled pandas dataframe: best_aic_models.pkl. "
   ]
  },
  {
   "cell_type": "code",
   "execution_count": 1,
   "metadata": {
    "collapsed": true
   },
   "outputs": [],
   "source": [
    "import os\n",
    "import time\n",
    "import sqlalchemy as sql\n",
    "import scipy as sp\n",
    "import pandas as pd\n",
    "import numpy as np\n",
    "import itertools as it\n",
    "import statsmodels.formula.api as smf\n",
    "import statsmodels.api as sm\n",
    "import logging"
   ]
  },
  {
   "cell_type": "code",
   "execution_count": 2,
   "metadata": {
    "collapsed": true
   },
   "outputs": [],
   "source": [
    "#setup log\n",
    "logging.basicConfig(filename='logger.log')\n",
    "log = logging.getLogger()\n",
    "log.setLevel('INFO')"
   ]
  },
  {
   "cell_type": "code",
   "execution_count": 3,
   "metadata": {
    "collapsed": true
   },
   "outputs": [],
   "source": [
    "log.info('Testing write to log')"
   ]
  },
  {
   "cell_type": "code",
   "execution_count": 4,
   "metadata": {
    "collapsed": false
   },
   "outputs": [],
   "source": [
    "#db connect\n",
    "creds   = '<creds>'\n",
    "ip      = 'ip-address'\n",
    "port    = 'portno'\n",
    "dbase   = 'p2p_lending'\n",
    "constring = 'postgresql://%s@%s:%d/%s' %(creds, ip, port, dbase)\n",
    "eng = sql.create_engine(constring)\n",
    "con = eng.connect()"
   ]
  },
  {
   "cell_type": "code",
   "execution_count": 5,
   "metadata": {
    "collapsed": false
   },
   "outputs": [
    {
     "name": "stdout",
     "output_type": "stream",
     "text": [
      "235\n"
     ]
    }
   ],
   "source": [
    "#get columns that we care about (from single regression tests)\n",
    "cols = ['prosper_score','iln023','rtr002','iln022','all903','all146','iln130','investment_typeid',\n",
    "'bankcard_utilization','rev130','listing_category_id','rev118','ale403','rep075','fin001','all078',\n",
    "'rep071','all075','rep078','all071','delinquencies_over30_days','rtl071','rtl075','ale908','rtl078',\n",
    "'fin801','ale901','rtr906','bac905','bac904','iln026','all092','heq001','all090','all091','all155',\n",
    "'rtr904','all153','all151','rtr084','prior_prosper_loan_earliest_pay_off','effective_yield','rev114',\n",
    "'all804','all807','estimated_return','all801','all803','all062','rev023','rev022','rep005','rep001',\n",
    "'rep002','all005','all001','all502','all002','all085','all084','all128','ale078','all081',\n",
    "'total_open_revolving_accounts','fil001','ale071','all126','all127','ale075','all125','cru001',\n",
    "'cap801','rtr078','bac075','all701','bac071','total_trade_items','bac078','all501','ale804','all503',\n",
    "'all504','all505','ale801','iln084','rtr075','satisfactory_accounts','rtr071','bac022','bac403',\n",
    "'income_range_description','cap026','bac023','iln007','iln006','iln005','iln002','iln001','rev084',\n",
    "'rev002','rev001','iln804','rev005','current_credit_lines','ale007','ale005','ale002','borrower_state',\n",
    "'ale001','ale084','delinquencies_last7_years','ale081','rep084','rep081','income_range','fil023',\n",
    "'fil022','all086','all101','all102','bac804','rep026','rtr001','bac801','rtr905','rtr005','iln078',\n",
    "'all130','borrower_apr','ale601','iln071','rev081','iln075','prior_prosper_loans_late_cycles','rtl501',\n",
    "'aut001','rtl503','rtl502','all904','all905','all906','bnk026','all901','rev086','iln085','rev075',\n",
    "'partial_funding_indicator','rev085','rtr501','rev071','iln403','rev078','iln081','all115','rev550',\n",
    "'all129','iln102','iln101','scorex_change','rep904','credit_lines_last7_years','rtr081','iln801',\n",
    "'bac550','rep905','lfi801','ale022','ale023','rep906','ale026','all026','all024','all023','all022',\n",
    "'iln908','fico_score','rep501','rep503','bac026','iln901','was_delinquent_derog','iln601','bac903',\n",
    "'ale503','ale502','ale501','ale905','rep901','bnk001','rep903','rtl001','rtl002','rep908','rtl005',\n",
    "'rtl081','rtl084','prior_prosper_loans','iln502','iln503','ref001','iln501','iln504','ale906',\n",
    "'prior_prosper_loans_cycles_billed','iln914','rev504','rev115','all403','delinquencies_over90_days',\n",
    "'rtr022','open_credit_lines','rtr023','all010','iln126','is_homeowner','bac084','scorex','bac081',\n",
    "'delinquencies_over60_days','bac005','rev127','bac001','bac002','rev128','rev129','rtl904','rev903',\n",
    "'rep601','bac906','aut071','rev904','rev905','all602','rtl905','rev906','rtl906']\n",
    "\n",
    "cols.remove('income_range_description')  #redundant with income_range\n",
    "print len(cols)"
   ]
  },
  {
   "cell_type": "code",
   "execution_count": 6,
   "metadata": {
    "collapsed": true
   },
   "outputs": [],
   "source": [
    "#get data\n",
    "reg_cols = ['simple_return','age_in_months','borrower_rate','payment','term']\n",
    "stmt = 'select %s from merged_train where term<>12' %(','.join(cols + reg_cols))\n",
    "data = pd.read_sql(stmt, con)"
   ]
  },
  {
   "cell_type": "code",
   "execution_count": 7,
   "metadata": {
    "collapsed": true
   },
   "outputs": [],
   "source": [
    "pd.options.display.max_rows = 550"
   ]
  },
  {
   "cell_type": "markdown",
   "metadata": {},
   "source": [
    "Since not all records have all of the fields filled in (some are NaN), it's good to check how many observations we have for each field type."
   ]
  },
  {
   "cell_type": "code",
   "execution_count": 11,
   "metadata": {
    "collapsed": false
   },
   "outputs": [
    {
     "data": {
      "text/plain": [
       "total_open_revolving_accounts          231070\n",
       "satisfactory_accounts                  231070\n",
       "is_homeowner                           231070\n",
       "borrower_apr                           231070\n",
       "estimated_return                       231070\n",
       "partial_funding_indicator              231070\n",
       "effective_yield                        231070\n",
       "income_range                           231070\n",
       "was_delinquent_derog                   231070\n",
       "total_trade_items                      231070\n",
       "delinquencies_over30_days              231070\n",
       "listing_category_id                    231070\n",
       "prior_prosper_loans                    231070\n",
       "investment_typeid                      231070\n",
       "delinquencies_over90_days              231070\n",
       "delinquencies_over60_days              231070\n",
       "all084                                 231064\n",
       "all081                                 231064\n",
       "all001                                 231064\n",
       "rep002                                 231064\n",
       "all062                                 231064\n",
       "ref001                                 231064\n",
       "all701                                 231064\n",
       "bac403                                 231064\n",
       "bac026                                 231064\n",
       "all026                                 231064\n",
       "all901                                 231064\n",
       "delinquencies_last7_years              231062\n",
       "credit_lines_last7_years               231062\n",
       "current_credit_lines                   231038\n",
       "open_credit_lines                      231038\n",
       "bankcard_utilization                   231038\n",
       "prosper_score                          230960\n",
       "scorex                                 230701\n",
       "borrower_state                         230339\n",
       "fil023                                 200286\n",
       "fil022                                 200286\n",
       "rep026                                 200286\n",
       "iln804                                 200286\n",
       "iln075                                 200286\n",
       "rev071                                 200286\n",
       "all125                                 200286\n",
       "iln001                                 200286\n",
       "iln002                                 200286\n",
       "iln023                                 200286\n",
       "iln022                                 200286\n",
       "iln026                                 200286\n",
       "heq001                                 200286\n",
       "all090                                 200286\n",
       "all804                                 200286\n",
       "all801                                 200286\n",
       "all803                                 200286\n",
       "all502                                 200286\n",
       "all128                                 200286\n",
       "all127                                 200286\n",
       "iln908                                 200286\n",
       "all503                                 200286\n",
       "all504                                 200286\n",
       "iln006                                 200286\n",
       "all022                                 200286\n",
       "all101                                 200286\n",
       "iln501                                 200286\n",
       "iln601                                 200286\n",
       "iln503                                 200286\n",
       "iln502                                 200286\n",
       "fico_score                             199374\n",
       "ale026                                 199367\n",
       "rtr022                                 199367\n",
       "rtr023                                 199367\n",
       "all010                                 199367\n",
       "all085                                 199367\n",
       "all002                                 199367\n",
       "iln126                                 199367\n",
       "bac084                                 199367\n",
       "all005                                 199367\n",
       "bac081                                 199367\n",
       "rep001                                 199367\n",
       "rep005                                 199367\n",
       "rev022                                 199367\n",
       "rev023                                 199367\n",
       "bac005                                 199367\n",
       "rev127                                 199367\n",
       "bac001                                 199367\n",
       "bac002                                 199367\n",
       "all807                                 199367\n",
       "ale078                                 199367\n",
       "all403                                 199367\n",
       "rev114                                 199367\n",
       "fil001                                 199367\n",
       "all505                                 199367\n",
       "iln504                                 199367\n",
       "ale906                                 199367\n",
       "ale804                                 199367\n",
       "all501                                 199367\n",
       "bac078                                 199367\n",
       "bac071                                 199367\n",
       "iln914                                 199367\n",
       "bac075                                 199367\n",
       "rtr078                                 199367\n",
       "cap801                                 199367\n",
       "cru001                                 199367\n",
       "rev504                                 199367\n",
       "ale075                                 199367\n",
       "rev115                                 199367\n",
       "all126                                 199367\n",
       "ale071                                 199367\n",
       "rev128                                 199367\n",
       "rev129                                 199367\n",
       "rep906                                 199367\n",
       "all071                                 199367\n",
       "all075                                 199367\n",
       "rep071                                 199367\n",
       "all078                                 199367\n",
       "fin001                                 199367\n",
       "rep075                                 199367\n",
       "ale403                                 199367\n",
       "rev118                                 199367\n",
       "aut071                                 199367\n",
       "rev130                                 199367\n",
       "rev904                                 199367\n",
       "rev905                                 199367\n",
       "iln130                                 199367\n",
       "all146                                 199367\n",
       "all903                                 199367\n",
       "all602                                 199367\n",
       "rtr002                                 199367\n",
       "rtl905                                 199367\n",
       "rep078                                 199367\n",
       "bac906                                 199367\n",
       "rtr084                                 199367\n",
       "rtl071                                 199367\n",
       "all151                                 199367\n",
       "all153                                 199367\n",
       "rtr904                                 199367\n",
       "all155                                 199367\n",
       "all091                                 199367\n",
       "rtl904                                 199367\n",
       "rev903                                 199367\n",
       "all092                                 199367\n",
       "rep601                                 199367\n",
       "bac904                                 199367\n",
       "bac905                                 199367\n",
       "rtr906                                 199367\n",
       "ale901                                 199367\n",
       "fin801                                 199367\n",
       "rtl078                                 199367\n",
       "ale908                                 199367\n",
       "rtl075                                 199367\n",
       "ale801                                 199367\n",
       "iln084                                 199367\n",
       "rtr075                                 199367\n",
       "rev085                                 199367\n",
       "rev075                                 199367\n",
       "iln085                                 199367\n",
       "rev086                                 199367\n",
       "ale503                                 199367\n",
       "bnk026                                 199367\n",
       "all906                                 199367\n",
       "all905                                 199367\n",
       "all904                                 199367\n",
       "rtl502                                 199367\n",
       "rtl503                                 199367\n",
       "aut001                                 199367\n",
       "rtl501                                 199367\n",
       "ale502                                 199367\n",
       "rev081                                 199367\n",
       "iln071                                 199367\n",
       "ale601                                 199367\n",
       "ale501                                 199367\n",
       "bac903                                 199367\n",
       "rtr501                                 199367\n",
       "iln078                                 199367\n",
       "rep503                                 199367\n",
       "ale023                                 199367\n",
       "ale022                                 199367\n",
       "lfi801                                 199367\n",
       "rep905                                 199367\n",
       "bac550                                 199367\n",
       "iln801                                 199367\n",
       "rtr081                                 199367\n",
       "iln901                                 199367\n",
       "rep904                                 199367\n",
       "iln101                                 199367\n",
       "iln102                                 199367\n",
       "all129                                 199367\n",
       "rev550                                 199367\n",
       "all115                                 199367\n",
       "iln081                                 199367\n",
       "rev078                                 199367\n",
       "iln403                                 199367\n",
       "rep501                                 199367\n",
       "all130                                 199367\n",
       "rtr005                                 199367\n",
       "rtr905                                 199367\n",
       "ale007                                 199367\n",
       "rep908                                 199367\n",
       "rev005                                 199367\n",
       "rtl005                                 199367\n",
       "rev001                                 199367\n",
       "rev002                                 199367\n",
       "rev084                                 199367\n",
       "rtl081                                 199367\n",
       "rtl084                                 199367\n",
       "iln005                                 199367\n",
       "all024                                 199367\n",
       "iln007                                 199367\n",
       "bac023                                 199367\n",
       "cap026                                 199367\n",
       "all023                                 199367\n",
       "bac022                                 199367\n",
       "rtr071                                 199367\n",
       "ale005                                 199367\n",
       "ale002                                 199367\n",
       "rtl002                                 199367\n",
       "all086                                 199367\n",
       "bac801                                 199367\n",
       "rtr001                                 199367\n",
       "ale905                                 199367\n",
       "bac804                                 199367\n",
       "all102                                 199367\n",
       "rev906                                 199367\n",
       "ale001                                 199367\n",
       "rtl906                                 199367\n",
       "rep901                                 199367\n",
       "bnk001                                 199367\n",
       "rep903                                 199367\n",
       "rep081                                 199367\n",
       "rep084                                 199367\n",
       "ale081                                 199367\n",
       "rtl001                                 199367\n",
       "ale084                                 199367\n",
       "prior_prosper_loans_cycles_billed       37028\n",
       "prior_prosper_loans_late_cycles         37028\n",
       "scorex_change                           34158\n",
       "prior_prosper_loan_earliest_pay_off     13817\n",
       "dtype: int64"
      ]
     },
     "execution_count": 11,
     "metadata": {},
     "output_type": "execute_result"
    }
   ],
   "source": [
    "#check number of observations for each field\n",
    "data.count().sort_values(ascending=False)"
   ]
  },
  {
   "cell_type": "code",
   "execution_count": 13,
   "metadata": {
    "collapsed": true
   },
   "outputs": [],
   "source": [
    "#check correlation (note: this only looks at numerical fields)\n",
    "corr_matrix = data.corr()"
   ]
  },
  {
   "cell_type": "markdown",
   "metadata": {},
   "source": [
    "Most of the fields aren't highly correlated."
   ]
  },
  {
   "cell_type": "code",
   "execution_count": 18,
   "metadata": {
    "collapsed": false
   },
   "outputs": [
    {
     "name": "stdout",
     "output_type": "stream",
     "text": [
      "(229, 229)\n",
      "769\n"
     ]
    }
   ],
   "source": [
    "print corr_matrix.shape\n",
    "print (corr_matrix > .90).sum().sum()"
   ]
  },
  {
   "cell_type": "code",
   "execution_count": 16,
   "metadata": {
    "collapsed": false
   },
   "outputs": [
    {
     "data": {
      "text/html": [
       "<div>\n",
       "<table border=\"1\" class=\"dataframe\">\n",
       "  <thead>\n",
       "    <tr style=\"text-align: right;\">\n",
       "      <th></th>\n",
       "      <th>prosper_score</th>\n",
       "      <th>iln023</th>\n",
       "      <th>rtr002</th>\n",
       "      <th>iln022</th>\n",
       "      <th>all903</th>\n",
       "      <th>all146</th>\n",
       "      <th>iln130</th>\n",
       "      <th>investment_typeid</th>\n",
       "      <th>bankcard_utilization</th>\n",
       "      <th>rev130</th>\n",
       "      <th>...</th>\n",
       "      <th>rev903</th>\n",
       "      <th>rep601</th>\n",
       "      <th>bac906</th>\n",
       "      <th>aut071</th>\n",
       "      <th>rev904</th>\n",
       "      <th>rev905</th>\n",
       "      <th>all602</th>\n",
       "      <th>rtl905</th>\n",
       "      <th>rev906</th>\n",
       "      <th>rtl906</th>\n",
       "    </tr>\n",
       "  </thead>\n",
       "  <tbody>\n",
       "    <tr>\n",
       "      <th>prosper_score</th>\n",
       "      <td>1.000000</td>\n",
       "      <td>-0.047764</td>\n",
       "      <td>0.044946</td>\n",
       "      <td>-0.069794</td>\n",
       "      <td>-0.129533</td>\n",
       "      <td>-0.075582</td>\n",
       "      <td>-0.035954</td>\n",
       "      <td>0.067559</td>\n",
       "      <td>-0.271823</td>\n",
       "      <td>-0.028060</td>\n",
       "      <td>...</td>\n",
       "      <td>-0.096066</td>\n",
       "      <td>0.004058</td>\n",
       "      <td>-0.051951</td>\n",
       "      <td>0.047272</td>\n",
       "      <td>-0.076269</td>\n",
       "      <td>-0.066587</td>\n",
       "      <td>-0.019463</td>\n",
       "      <td>-0.048934</td>\n",
       "      <td>-0.056151</td>\n",
       "      <td>-0.043203</td>\n",
       "    </tr>\n",
       "    <tr>\n",
       "      <th>iln023</th>\n",
       "      <td>-0.047764</td>\n",
       "      <td>1.000000</td>\n",
       "      <td>0.039586</td>\n",
       "      <td>0.742872</td>\n",
       "      <td>-0.089822</td>\n",
       "      <td>-0.000456</td>\n",
       "      <td>-0.000556</td>\n",
       "      <td>-0.004395</td>\n",
       "      <td>-0.052520</td>\n",
       "      <td>-0.024428</td>\n",
       "      <td>...</td>\n",
       "      <td>-0.030311</td>\n",
       "      <td>0.000877</td>\n",
       "      <td>-0.017820</td>\n",
       "      <td>0.430657</td>\n",
       "      <td>-0.022066</td>\n",
       "      <td>-0.021405</td>\n",
       "      <td>0.038705</td>\n",
       "      <td>-0.015491</td>\n",
       "      <td>-0.019853</td>\n",
       "      <td>-0.014336</td>\n",
       "    </tr>\n",
       "    <tr>\n",
       "      <th>rtr002</th>\n",
       "      <td>0.044946</td>\n",
       "      <td>0.039586</td>\n",
       "      <td>1.000000</td>\n",
       "      <td>0.032704</td>\n",
       "      <td>0.010610</td>\n",
       "      <td>0.081090</td>\n",
       "      <td>0.016901</td>\n",
       "      <td>0.016547</td>\n",
       "      <td>-0.054700</td>\n",
       "      <td>0.074361</td>\n",
       "      <td>...</td>\n",
       "      <td>0.030126</td>\n",
       "      <td>0.014405</td>\n",
       "      <td>0.089859</td>\n",
       "      <td>0.109725</td>\n",
       "      <td>0.040815</td>\n",
       "      <td>0.048057</td>\n",
       "      <td>0.018547</td>\n",
       "      <td>0.061364</td>\n",
       "      <td>0.059575</td>\n",
       "      <td>0.067428</td>\n",
       "    </tr>\n",
       "    <tr>\n",
       "      <th>iln022</th>\n",
       "      <td>-0.069794</td>\n",
       "      <td>0.742872</td>\n",
       "      <td>0.032704</td>\n",
       "      <td>1.000000</td>\n",
       "      <td>-0.050276</td>\n",
       "      <td>0.012030</td>\n",
       "      <td>-0.000663</td>\n",
       "      <td>0.014360</td>\n",
       "      <td>-0.079659</td>\n",
       "      <td>-0.008708</td>\n",
       "      <td>...</td>\n",
       "      <td>-0.005667</td>\n",
       "      <td>-0.000699</td>\n",
       "      <td>0.001621</td>\n",
       "      <td>0.306560</td>\n",
       "      <td>0.001195</td>\n",
       "      <td>0.000977</td>\n",
       "      <td>0.026061</td>\n",
       "      <td>-0.001311</td>\n",
       "      <td>0.000376</td>\n",
       "      <td>-0.001725</td>\n",
       "    </tr>\n",
       "    <tr>\n",
       "      <th>all903</th>\n",
       "      <td>-0.129533</td>\n",
       "      <td>-0.089822</td>\n",
       "      <td>0.010610</td>\n",
       "      <td>-0.050276</td>\n",
       "      <td>1.000000</td>\n",
       "      <td>0.405160</td>\n",
       "      <td>0.152064</td>\n",
       "      <td>0.007075</td>\n",
       "      <td>0.022181</td>\n",
       "      <td>0.180396</td>\n",
       "      <td>...</td>\n",
       "      <td>0.841454</td>\n",
       "      <td>0.025240</td>\n",
       "      <td>0.632991</td>\n",
       "      <td>-0.087216</td>\n",
       "      <td>0.759839</td>\n",
       "      <td>0.719135</td>\n",
       "      <td>0.018021</td>\n",
       "      <td>0.418710</td>\n",
       "      <td>0.666808</td>\n",
       "      <td>0.395069</td>\n",
       "    </tr>\n",
       "  </tbody>\n",
       "</table>\n",
       "<p>5 rows × 229 columns</p>\n",
       "</div>"
      ],
      "text/plain": [
       "               prosper_score    iln023    rtr002    iln022    all903  \\\n",
       "prosper_score       1.000000 -0.047764  0.044946 -0.069794 -0.129533   \n",
       "iln023             -0.047764  1.000000  0.039586  0.742872 -0.089822   \n",
       "rtr002              0.044946  0.039586  1.000000  0.032704  0.010610   \n",
       "iln022             -0.069794  0.742872  0.032704  1.000000 -0.050276   \n",
       "all903             -0.129533 -0.089822  0.010610 -0.050276  1.000000   \n",
       "\n",
       "                 all146    iln130  investment_typeid  bankcard_utilization  \\\n",
       "prosper_score -0.075582 -0.035954           0.067559             -0.271823   \n",
       "iln023        -0.000456 -0.000556          -0.004395             -0.052520   \n",
       "rtr002         0.081090  0.016901           0.016547             -0.054700   \n",
       "iln022         0.012030 -0.000663           0.014360             -0.079659   \n",
       "all903         0.405160  0.152064           0.007075              0.022181   \n",
       "\n",
       "                 rev130    ...       rev903    rep601    bac906    aut071  \\\n",
       "prosper_score -0.028060    ...    -0.096066  0.004058 -0.051951  0.047272   \n",
       "iln023        -0.024428    ...    -0.030311  0.000877 -0.017820  0.430657   \n",
       "rtr002         0.074361    ...     0.030126  0.014405  0.089859  0.109725   \n",
       "iln022        -0.008708    ...    -0.005667 -0.000699  0.001621  0.306560   \n",
       "all903         0.180396    ...     0.841454  0.025240  0.632991 -0.087216   \n",
       "\n",
       "                 rev904    rev905    all602    rtl905    rev906    rtl906  \n",
       "prosper_score -0.076269 -0.066587 -0.019463 -0.048934 -0.056151 -0.043203  \n",
       "iln023        -0.022066 -0.021405  0.038705 -0.015491 -0.019853 -0.014336  \n",
       "rtr002         0.040815  0.048057  0.018547  0.061364  0.059575  0.067428  \n",
       "iln022         0.001195  0.000977  0.026061 -0.001311  0.000376 -0.001725  \n",
       "all903         0.759839  0.719135  0.018021  0.418710  0.666808  0.395069  \n",
       "\n",
       "[5 rows x 229 columns]"
      ]
     },
     "execution_count": 16,
     "metadata": {},
     "output_type": "execute_result"
    }
   ],
   "source": [
    "corr_matrix.head()"
   ]
  },
  {
   "cell_type": "code",
   "execution_count": 45,
   "metadata": {
    "collapsed": false
   },
   "outputs": [
    {
     "data": {
      "text/plain": [
       "0.00027494999999999999"
      ]
     },
     "execution_count": 45,
     "metadata": {},
     "output_type": "execute_result"
    }
   ],
   "source": [
    "#determine number of parameters we will be able to test for multiple reg\n",
    "sp.misc.comb(235,2)/10.**8    #~100 million"
   ]
  },
  {
   "cell_type": "code",
   "execution_count": 27,
   "metadata": {
    "collapsed": true
   },
   "outputs": [],
   "source": [
    "#keep track of categorical fields\n",
    "cat_stmt = \"select name, category from column_category\"\n",
    "cats = pd.read_sql(cat_stmt, con)"
   ]
  },
  {
   "cell_type": "code",
   "execution_count": 28,
   "metadata": {
    "collapsed": false
   },
   "outputs": [
    {
     "data": {
      "text/plain": [
       "u'numerical'"
      ]
     },
     "execution_count": 28,
     "metadata": {},
     "output_type": "execute_result"
    }
   ],
   "source": [
    "cats.category[cats.name=='amount_funded'].values[0]"
   ]
  },
  {
   "cell_type": "code",
   "execution_count": 10,
   "metadata": {
    "collapsed": true
   },
   "outputs": [],
   "source": [
    "best_models = pd.DataFrame(columns=['aic','rsquared'])"
   ]
  },
  {
   "cell_type": "code",
   "execution_count": 12,
   "metadata": {
    "collapsed": true
   },
   "outputs": [],
   "source": [
    "best_models = pd.read_pickle('best_multiple_reg.pkl')    #ADDED FOR SECOND RUN\n",
    "best_models.sort_values(by='aic', inplace=True)"
   ]
  },
  {
   "cell_type": "code",
   "execution_count": null,
   "metadata": {
    "collapsed": false
   },
   "outputs": [],
   "source": [
    "for i, cur_cols in enumerate(it.combinations(cols, 2)):\n",
    "    #log progress\n",
    "    if i % 1000 == 0:\n",
    "        log.info(time.ctime()+'::iter: %d  fields: %s' %(i, ','.join(cur_cols)))\n",
    "    #setup formula\n",
    "    formula = 'simple_return ~ age_in_months + borrower_rate + payment + C(term)'\n",
    "    for c in cur_cols:\n",
    "        if cats.category[cats.name==c].values[0] == 'categorical':\n",
    "            formula += '+C(%s)' %c\n",
    "        else:\n",
    "            formula += '+%s' %c\n",
    "    #run regression\n",
    "    df = data[['simple_return','age_in_months','borrower_rate','payment','term'] + list(cur_cols)]\n",
    "    reg = smf.ols(formula=formula, data=df, missing='drop')\n",
    "    model = reg.fit()\n",
    "        \n",
    "    #compare reg\n",
    "    if len(best_models) < 100:\n",
    "        best_models = best_models.append(\n",
    "                                    pd.DataFrame(\n",
    "                                            {'aic':[model.aic], 'rsquared':[model.rsquared]}, \n",
    "                                            index=[','.join(cur_cols)]\n",
    "                                                )\n",
    "                                        )\n",
    "    else:\n",
    "        #sort\n",
    "        best_models.sort_values(by='aic', inplace=True)\n",
    "        #compare\n",
    "        if model.aic < best_models.aic.max():\n",
    "            #pop\n",
    "            best_models = best_models[:-1]\n",
    "            #append\n",
    "            best_models = best_models.append(\n",
    "                                        pd.DataFrame(\n",
    "                                                {'aic':[model.aic], 'rsquared':[model.rsquared]}, \n",
    "                                                index=[','.join(cur_cols)]\n",
    "                                                    )\n",
    "                                            )\n",
    "            #write\n",
    "            best_models.sort_values(by='aic', inplace=True)\n",
    "            best_models.to_pickle('best_multiple_reg.pkl')"
   ]
  },
  {
   "cell_type": "markdown",
   "metadata": {},
   "source": [
    "Check Output"
   ]
  },
  {
   "cell_type": "code",
   "execution_count": 9,
   "metadata": {
    "collapsed": true
   },
   "outputs": [],
   "source": [
    "pd.options.display.max_rows = 550"
   ]
  },
  {
   "cell_type": "code",
   "execution_count": 17,
   "metadata": {
    "collapsed": false
   },
   "outputs": [],
   "source": [
    "outputs = pd.read_pickle('bmr.pkl')\n",
    "outputs = outputs.drop_duplicates()"
   ]
  },
  {
   "cell_type": "code",
   "execution_count": 18,
   "metadata": {
    "collapsed": false
   },
   "outputs": [],
   "source": [
    "outputs.sort_values(by='aic', inplace=True)"
   ]
  },
  {
   "cell_type": "markdown",
   "metadata": {},
   "source": [
    "Get Variables Involved"
   ]
  },
  {
   "cell_type": "code",
   "execution_count": 19,
   "metadata": {
    "collapsed": false,
    "scrolled": true
   },
   "outputs": [
    {
     "data": {
      "text/plain": [
       "{'ale002',\n",
       " 'ale005',\n",
       " 'ale022',\n",
       " 'ale023',\n",
       " 'ale071',\n",
       " 'ale075',\n",
       " 'ale078',\n",
       " 'ale081',\n",
       " 'ale084',\n",
       " 'ale403',\n",
       " 'ale801',\n",
       " 'ale804',\n",
       " 'ale905',\n",
       " 'ale908',\n",
       " 'all002',\n",
       " 'all005',\n",
       " 'all023',\n",
       " 'all071',\n",
       " 'all086',\n",
       " 'all091',\n",
       " 'all092',\n",
       " 'all126',\n",
       " 'all146',\n",
       " 'all151',\n",
       " 'all153',\n",
       " 'all155',\n",
       " 'all505',\n",
       " 'all807',\n",
       " 'aut001',\n",
       " 'aut071',\n",
       " 'bac002',\n",
       " 'bac005',\n",
       " 'bac022',\n",
       " 'bac023',\n",
       " 'bac071',\n",
       " 'bac078',\n",
       " 'bac081',\n",
       " 'bac084',\n",
       " 'bac550',\n",
       " 'bac801',\n",
       " 'bac804',\n",
       " 'bnk001',\n",
       " 'cap801',\n",
       " 'cru001',\n",
       " 'fico_score',\n",
       " 'fil001',\n",
       " 'fin001',\n",
       " 'fin801',\n",
       " 'iln005',\n",
       " 'iln007',\n",
       " 'iln071',\n",
       " 'iln101',\n",
       " 'iln403',\n",
       " 'iln801',\n",
       " 'prior_prosper_loan_earliest_pay_off',\n",
       " 'rep001',\n",
       " 'rep071',\n",
       " 'rep078',\n",
       " 'rep081',\n",
       " 'rep084',\n",
       " 'rep501',\n",
       " 'rep901',\n",
       " 'rep904',\n",
       " 'rep905',\n",
       " 'rep906',\n",
       " 'rev002',\n",
       " 'rev005',\n",
       " 'rev022',\n",
       " 'rev023',\n",
       " 'rev078',\n",
       " 'rev081',\n",
       " 'rev084',\n",
       " 'rev085',\n",
       " 'rev086',\n",
       " 'rev115',\n",
       " 'rev128',\n",
       " 'rev129',\n",
       " 'rev130',\n",
       " 'rev550',\n",
       " 'rtl002',\n",
       " 'rtl005',\n",
       " 'rtl071',\n",
       " 'rtl905',\n",
       " 'rtr002',\n",
       " 'rtr005',\n",
       " 'rtr022',\n",
       " 'rtr023',\n",
       " 'rtr071'}"
      ]
     },
     "execution_count": 19,
     "metadata": {},
     "output_type": "execute_result"
    }
   ],
   "source": [
    "top_fields = set(','.join(outputs.index).split(','))\n",
    "top_fields"
   ]
  },
  {
   "cell_type": "code",
   "execution_count": 20,
   "metadata": {
    "collapsed": false
   },
   "outputs": [
    {
     "data": {
      "text/plain": [
       "88"
      ]
     },
     "execution_count": 20,
     "metadata": {},
     "output_type": "execute_result"
    }
   ],
   "source": [
    "len(top_fields)"
   ]
  },
  {
   "cell_type": "markdown",
   "metadata": {},
   "source": [
    "Seek Better AIC by adding fields to regression"
   ]
  },
  {
   "cell_type": "code",
   "execution_count": 21,
   "metadata": {
    "collapsed": false
   },
   "outputs": [
    {
     "data": {
      "text/plain": [
       "4093.2656349968784"
      ]
     },
     "execution_count": 21,
     "metadata": {},
     "output_type": "execute_result"
    }
   ],
   "source": [
    "outputs.aic[outputs.index[0]]"
   ]
  },
  {
   "cell_type": "code",
   "execution_count": 22,
   "metadata": {
    "collapsed": true
   },
   "outputs": [],
   "source": [
    "best_models = pd.DataFrame(columns=['aic','rsquared'])"
   ]
  },
  {
   "cell_type": "code",
   "execution_count": 43,
   "metadata": {
    "collapsed": false
   },
   "outputs": [],
   "source": [
    "for i, base_v in enumerate(outputs.index):\n",
    "    base_vars = base_v.split(',')\n",
    "    #get base model for comparison\n",
    "    base_aic = outputs.aic[base_v]\n",
    "    base_rsquared = outputs.rsquared[base_v]\n",
    "    last_aic = base_aic\n",
    "    var_str = base_v\n",
    "    cur_aic = 0\n",
    "    best_mod = [base_v, base_aic, base_rsquared]\n",
    "    variables = list(outputs.index.difference([base_v]))\n",
    "    variables = list(set(','.join(variables).split(',')))\n",
    "    formula = 'simple_return ~ age_in_months + borrower_rate + payment + C(term)'\n",
    "    #add base vars to formula\n",
    "    for c in base_vars:\n",
    "        #setup formula\n",
    "        if cats.category[cats.name==c].values[0] == 'categorical':\n",
    "            formula += '+C(%s)' %c\n",
    "        else:\n",
    "            formula += '+%s' %c\n",
    "    #get new variable\n",
    "    while cur_aic < last_aic and variables:\n",
    "        cur_aic = last_aic\n",
    "        v = variables.pop()\n",
    "        var_str += (','+v)\n",
    "        #log progress\n",
    "        log.info(time.ctime()+':aic:iter: %d  fields: %s' %(i, var_str))   \n",
    "        \n",
    "        #run regression\n",
    "        #add v to formula\n",
    "        if cats.category[cats.name==v].values[0] == 'categorical':\n",
    "            formula += '+C(%s)' %v\n",
    "        else:\n",
    "            formula += '+%s' %v\n",
    "        #run regression\n",
    "        df = data[['simple_return','age_in_months','borrower_rate','payment','term'] + var_str.split(',')]\n",
    "        reg = smf.ols(formula=formula, data=df, missing='drop')\n",
    "        model = reg.fit()\n",
    "        #check aic\n",
    "        cur_aic = model.aic\n",
    "        #save best aic model\n",
    "        if cur_aic < best_mod[1]:\n",
    "            best_mod = [var_str, cur_aic, model.rsquared]\n",
    "    best_models = best_models.append(pd.DataFrame({'aic':[best_mod[1]], 'rsquared':[best_mod[2]]}, index=[best_mod[0]]))\n",
    "    best_models.to_pickle('best_aic_models.pkl')"
   ]
  },
  {
   "cell_type": "code",
   "execution_count": null,
   "metadata": {
    "collapsed": false
   },
   "outputs": [],
   "source": [
    "cats.category[cats.name==v]"
   ]
  },
  {
   "cell_type": "code",
   "execution_count": 38,
   "metadata": {
    "collapsed": false,
    "scrolled": true
   },
   "outputs": [
    {
     "data": {
      "text/plain": [
       "['all146',\n",
       " 'rev130',\n",
       " 'ale403',\n",
       " 'fin001',\n",
       " 'rep071',\n",
       " 'rep078',\n",
       " 'all071',\n",
       " 'rtl071',\n",
       " 'ale908',\n",
       " 'ale905',\n",
       " 'all092',\n",
       " 'all091',\n",
       " 'all155',\n",
       " 'all153',\n",
       " 'all151',\n",
       " 'prior_prosper_loan_earliest_pay_off',\n",
       " 'all807',\n",
       " 'rev023',\n",
       " 'rev022',\n",
       " 'rep001',\n",
       " 'all005',\n",
       " 'all002',\n",
       " 'ale078',\n",
       " 'fil001',\n",
       " 'ale071',\n",
       " 'all126',\n",
       " 'ale075',\n",
       " 'iln071',\n",
       " 'cap801',\n",
       " 'bac071',\n",
       " 'bac078',\n",
       " 'ale804',\n",
       " 'all505',\n",
       " 'ale801',\n",
       " 'rtr071',\n",
       " 'bac022',\n",
       " 'bac023',\n",
       " 'iln007',\n",
       " 'iln005',\n",
       " 'rev086',\n",
       " 'rev085',\n",
       " 'rev084',\n",
       " 'rev550',\n",
       " 'iln801',\n",
       " 'ale005',\n",
       " 'ale002',\n",
       " 'ale084',\n",
       " 'ale081',\n",
       " 'rep084',\n",
       " 'rep081',\n",
       " 'bac804',\n",
       " 'bac801',\n",
       " 'rtr005',\n",
       " 'cru001',\n",
       " 'rev081',\n",
       " 'aut001',\n",
       " 'iln403',\n",
       " 'rev078',\n",
       " 'rev002',\n",
       " 'iln101',\n",
       " 'rev005',\n",
       " 'bac550',\n",
       " 'ale022',\n",
       " 'ale023',\n",
       " 'all086',\n",
       " 'all023',\n",
       " 'fico_score',\n",
       " 'rep501',\n",
       " 'rep904',\n",
       " 'rep905',\n",
       " 'rep906',\n",
       " 'rep901',\n",
       " 'bnk001',\n",
       " 'rtl002',\n",
       " 'rtl005',\n",
       " 'rev115',\n",
       " 'fin801',\n",
       " 'bac084',\n",
       " 'bac081',\n",
       " 'bac005',\n",
       " 'bac002',\n",
       " 'rev128',\n",
       " 'rev129',\n",
       " 'aut071',\n",
       " 'rtr022',\n",
       " 'rtr023',\n",
       " 'rtl905']"
      ]
     },
     "execution_count": 38,
     "metadata": {},
     "output_type": "execute_result"
    }
   ],
   "source": [
    "list(set(','.join(variables).split(',')))"
   ]
  },
  {
   "cell_type": "code",
   "execution_count": null,
   "metadata": {
    "collapsed": true
   },
   "outputs": [],
   "source": []
  }
 ],
 "metadata": {
  "kernelspec": {
   "display_name": "Python 2",
   "language": "python",
   "name": "python2"
  },
  "language_info": {
   "codemirror_mode": {
    "name": "ipython",
    "version": 2
   },
   "file_extension": ".py",
   "mimetype": "text/x-python",
   "name": "python",
   "nbconvert_exporter": "python",
   "pygments_lexer": "ipython2",
   "version": "2.7.12"
  }
 },
 "nbformat": 4,
 "nbformat_minor": 1
}
