{
 "cells": [
  {
   "cell_type": "markdown",
   "metadata": {},
   "source": [
    "## Regressions on Common Variables"
   ]
  },
  {
   "cell_type": "markdown",
   "metadata": {},
   "source": [
    "Investigates the best regressions using common fields, evaluated by rmse. Generates the file: common_rmse_best.pkl"
   ]
  },
  {
   "cell_type": "code",
   "execution_count": 1,
   "metadata": {
    "collapsed": true
   },
   "outputs": [],
   "source": [
    "import os\n",
    "import logging\n",
    "import Queue\n",
    "import pandas as pd\n",
    "import numpy as np\n",
    "import threading as th\n",
    "import statsmodels.formula.api as smf\n",
    "\n",
    "from math import sqrt\n",
    "from itertools import combinations\n",
    "from db_conn import DBConn"
   ]
  },
  {
   "cell_type": "code",
   "execution_count": 2,
   "metadata": {
    "collapsed": false
   },
   "outputs": [],
   "source": [
    "#get data\n",
    "def get_sql_data(varset, dataset):\n",
    "    '''Given list of variables varset, get data from sql merged data. Dataset\n",
    "    is either train, dev, or test.\n",
    "    '''\n",
    "    stmt = 'select %s from merged_%s where term<>12' %(','.join(varset), dataset)\n",
    "    data = pd.read_sql(stmt, con)\n",
    "    return data\n",
    "\n",
    "def get_vars_by_type(varset):\n",
    "    '''return 2-tuple of numerical variables, and categorical variables.'''\n",
    "    cat_vars = []\n",
    "    num_vars = []\n",
    "    for c in varset:\n",
    "        #set formula    \n",
    "        if CATS.category[CATS.name == 'prior_prosper_loan_earliest_pay_off'].values[0] == 'categorical':\n",
    "            cat_vars.append(c)\n",
    "        else:\n",
    "            num_vars.append(c)\n",
    "    return (num_vars, cat_vars)\n",
    "\n",
    "def get_formula(dep_var, varsets):\n",
    "    '''varsets[0] is numerical variables, varsets[1] is categorical variables'''\n",
    "    cat_vars = ['C(%s)' for c in varsets[1]]\n",
    "    all_vars = cat_vars + varsets[0]\n",
    "    formula = dep_var + '~' + '+'.join(all_vars)\n",
    "    return formula\n",
    "\n",
    "def reg_worker():\n",
    "    while not q.empty():\n",
    "        r = q.get()\n",
    "        top5_outpt = pd.DataFrame(np.ones((5,4))*np.inf, \n",
    "                              columns=['rmse','aic','rsquared','tables'])\n",
    "        for fields in combinations(ind_variables, r):\n",
    "            #run regression with variables and r chosen\n",
    "            data_t = data_train[list(fields)+['simple_return']].dropna()\n",
    "            varsets = get_vars_by_type(fields)\n",
    "            formula = get_formula('simple_return', varsets)\n",
    "            reg = smf.ols(formula=formula, data=data_t, missing='drop')\n",
    "            model = reg.fit()\n",
    "            #check results\n",
    "            data_d = data_dev[list(fields)+['simple_return']].dropna()\n",
    "            pred_dev = model.predict(data_d)\n",
    "            rmse = sqrt(2*sum(\n",
    "                        (pred_dev - data_d['simple_return'])**2\n",
    "                          )/float(len(pred_dev))\n",
    "                   )\n",
    "            #keep track of best outputs\n",
    "            if rmse < top5_outpt.rmse.max():\n",
    "                top5_outpt.sort_values(by=['rmse','aic'], inplace=True)\n",
    "                top5_outpt = top5_outpt[:-1]\n",
    "                top5_outpt = top5_outpt.append(pd.DataFrame({'rmse': [rmse],\n",
    "                                                             'aic': [model.aic],\n",
    "                                                             'rsquared': [model.rsquared],\n",
    "                                                             'tables': [model.summary().tables]},\n",
    "                                                            index=[str(fields)])\n",
    "                                              )\n",
    "                top5_outpt.sort_values(by=['rmse','aic'], inplace=True)\n",
    "                #save top results for each r\n",
    "                log.info('%s: r: %d updated reg outputs',\n",
    "                         th.current_thread().getName(), r)\n",
    "                top5_outpt.to_pickle('common_vars_regs_outputs/' +\n",
    "                                     'rmse_common_vars%d.pkl' %r)"
   ]
  },
  {
   "cell_type": "code",
   "execution_count": 5,
   "metadata": {
    "collapsed": true
   },
   "outputs": [],
   "source": [
    "#plan:\n",
    "#    3 threads\n",
    "#    pull jobs from queue (1,88) --> need worker\n",
    "#    for each job:\n",
    "#        best_results_job = ?\n",
    "#        iterate over combinations\n",
    "#            run regressions, get output, compare\n",
    "#    get best results overall\n",
    "\n",
    "#setup logging\n",
    "logging.basicConfig(filename='rmse_common_vars_regs-copy1'+'.log')\n",
    "log = logging.getLogger()\n",
    "log.setLevel('INFO')"
   ]
  },
  {
   "cell_type": "code",
   "execution_count": 4,
   "metadata": {
    "collapsed": true
   },
   "outputs": [],
   "source": [
    "#setup connection to db\n",
    "eng = DBConn(username='',\n",
    "             password='')   #fill in \n",
    "con = eng.connect()"
   ]
  },
  {
   "cell_type": "code",
   "execution_count": null,
   "metadata": {
    "collapsed": false
   },
   "outputs": [],
   "source": [
    "log.info('db connected')"
   ]
  },
  {
   "cell_type": "code",
   "execution_count": 5,
   "metadata": {
    "collapsed": false
   },
   "outputs": [],
   "source": [
    "#variable categories   \n",
    "CAT_STMT = \"select name, category from column_category\"\n",
    "CATS = pd.read_sql(CAT_STMT, con)        "
   ]
  },
  {
   "cell_type": "code",
   "execution_count": 8,
   "metadata": {
    "collapsed": true
   },
   "outputs": [],
   "source": [
    "#create data_dir (if necessary)\n",
    "if not os.path.exists('common_vars_regs_outputs'):\n",
    "    os.mkdir('common_vars_regs_outputs')"
   ]
  },
  {
   "cell_type": "markdown",
   "metadata": {},
   "source": [
    "#### Get Fields"
   ]
  },
  {
   "cell_type": "code",
   "execution_count": 9,
   "metadata": {
    "collapsed": true
   },
   "outputs": [],
   "source": [
    "pd.options.display.max_rows = 200"
   ]
  },
  {
   "cell_type": "code",
   "execution_count": 10,
   "metadata": {
    "collapsed": false,
    "scrolled": true
   },
   "outputs": [
    {
     "name": "stdout",
     "output_type": "stream",
     "text": [
      "[u'all001', u'all021', u'all026', u'all051', u'all052', u'all062', u'all064', u'all081', u'all084', u'all141', u'all142', u'all201', u'all207', u'all208', u'all701', u'all806', u'all901', u'amount_delinquent', u'amount_funded', u'amount_remaining', u'bac026', u'bac401', u'bac403', u'bankcard_utilization', u'borrower_apr', u'borrower_rate', u'borrower_state', u'credit_lines_last7_years', u'current_credit_lines', u'current_delinquencies', u'delinquencies_last7_years', u'delinquencies_over30_days', u'delinquencies_over60_days', u'delinquencies_over90_days', u'dti_wprosper_loan', u'effective_yield', u'employment_status_description', u'estimated_loss_rate', u'estimated_return', u'funding_threshold', u'iln201', u'income_range', u'income_range_description', u'income_verifiable', u'inquiries_last6_months', u'installment_balance', u'investment_type_description', u'investment_typeid', u'is_homeowner', u'lender_indicator', u'lender_yield', u'listing_category_id', u'listing_status', u'listing_status_reason', u'monthly_debt', u'months_employed', u'now_delinquent_derog', u'open_credit_lines', u'partial_funding_indicator', u'percent_funded', u'prior_prosper_loans', u'prior_prosper_loans_active', u'prosper_rating', u'prosper_score', u'public_records_last10_years', u'public_records_last12_months', u'ref001', u'rep002', u'rev201', u'revolving_available_percent', u'revolving_balance', u'satisfactory_accounts', u'scorex', u'stated_monthly_income', u'total_inquiries', u'total_open_revolving_accounts', u'total_trade_items', u'was_delinquent_derog', 'term', 'payment']\n",
      "80\n"
     ]
    }
   ],
   "source": [
    "v = pd.read_pickle('common_listing_fields.pkl')\n",
    "v = list(v.index.difference(['borrower_city', 'member_key', 'listing_number',\n",
    "                             'listing_monthly_payment', 'listing_term', 'first_recorded_credit_line']))\n",
    "v = [el for el in v if 'date' not in el]\n",
    "v += ['term','payment']\n",
    "print v\n",
    "print len(v)"
   ]
  },
  {
   "cell_type": "code",
   "execution_count": 11,
   "metadata": {
    "collapsed": true
   },
   "outputs": [],
   "source": [
    "#variables\n",
    "ind_variables = v"
   ]
  },
  {
   "cell_type": "code",
   "execution_count": 12,
   "metadata": {
    "collapsed": true
   },
   "outputs": [],
   "source": [
    "#get train data\n",
    "data_train = get_sql_data(ind_variables+['simple_return'], 'train')\n",
    "log.info('downloaded training data')\n",
    "#get dev data\n",
    "data_dev = get_sql_data(ind_variables+['simple_return'], 'dev')\n",
    "log.info('downloaded dev data')"
   ]
  },
  {
   "cell_type": "code",
   "execution_count": 19,
   "metadata": {
    "collapsed": true
   },
   "outputs": [],
   "source": [
    "#setup queue\n",
    "q = Queue.Queue()\n",
    "for i in xrange(min(4,len(ind_variables)), 0, -1):\n",
    "    q.put(i)"
   ]
  },
  {
   "cell_type": "code",
   "execution_count": null,
   "metadata": {
    "collapsed": false
   },
   "outputs": [],
   "source": [
    "#threads\n",
    "threads = []\n",
    "for i in xrange(4):\n",
    "    thread = th.Thread(target=reg_worker)\n",
    "    threads.append(thread)\n",
    "    thread.start()\n",
    "\n",
    "for t in threads:\n",
    "    t.join()"
   ]
  },
  {
   "cell_type": "code",
   "execution_count": null,
   "metadata": {
    "collapsed": false
   },
   "outputs": [],
   "source": [
    "import pandas as pd\n",
    "\n",
    "#check overall best rmse\n",
    "all_outputs = pd.DataFrame(columns=['rmse','aic','rsquared','tables'])\n",
    "for f in os.listdir('common_vars_regs_outputs'):\n",
    "    all_outputs = all_outputs.append(\n",
    "                        pd.read_pickle('common_vars_regs_outputs'+'/'+f))\n",
    "\n",
    "all_outputs.sort_values(by=['rmse','aic'], inplace=True)\n",
    "all_outputs.to_pickle('common_rmse_best.pkl')\n",
    "all_outputs"
   ]
  }
 ],
 "metadata": {
  "kernelspec": {
   "display_name": "Python 2",
   "language": "python",
   "name": "python2"
  },
  "language_info": {
   "codemirror_mode": {
    "name": "ipython",
    "version": 2
   },
   "file_extension": ".py",
   "mimetype": "text/x-python",
   "name": "python",
   "nbconvert_exporter": "python",
   "pygments_lexer": "ipython2",
   "version": "2.7.12"
  }
 },
 "nbformat": 4,
 "nbformat_minor": 1
}
