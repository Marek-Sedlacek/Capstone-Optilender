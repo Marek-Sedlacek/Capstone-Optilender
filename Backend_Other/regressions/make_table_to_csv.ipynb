{
 "cells": [
  {
   "cell_type": "code",
   "execution_count": 1,
   "metadata": {
    "collapsed": true
   },
   "outputs": [],
   "source": [
    "import sqlalchemy as sql\n",
    "import pandas as pd\n",
    "\n",
    "creds   = 'username:password'\n",
    "ip      = 'ip-address'\n",
    "port    = portnum\n",
    "dbase   = 'p2p_lending'\n",
    "constring = 'postgresql://%s@%s:%d/%s' %(creds, ip, port, dbase)\n",
    "eng = sql.create_engine(constring)\n",
    "con = eng.connect()"
   ]
  },
  {
   "cell_type": "code",
   "execution_count": 2,
   "metadata": {
    "collapsed": true
   },
   "outputs": [],
   "source": [
    "table = pd.read_sql('select * from simple_regressions',con=con)"
   ]
  },
  {
   "cell_type": "code",
   "execution_count": 3,
   "metadata": {
    "collapsed": true
   },
   "outputs": [],
   "source": [
    "file_pth = 'simple_regressions.csv'"
   ]
  },
  {
   "cell_type": "code",
   "execution_count": 4,
   "metadata": {
    "collapsed": false
   },
   "outputs": [
    {
     "data": {
      "text/html": [
       "<div>\n",
       "<table border=\"1\" class=\"dataframe\">\n",
       "  <thead>\n",
       "    <tr style=\"text-align: right;\">\n",
       "      <th></th>\n",
       "      <th>field</th>\n",
       "      <th>pvalues</th>\n",
       "      <th>rsquared</th>\n",
       "      <th>coef</th>\n",
       "      <th>conf_low</th>\n",
       "      <th>conf_high</th>\n",
       "    </tr>\n",
       "  </thead>\n",
       "  <tbody>\n",
       "    <tr>\n",
       "      <th>0</th>\n",
       "      <td>days_past_due</td>\n",
       "      <td>0.000000e+00</td>\n",
       "      <td>0.407467</td>\n",
       "      <td>-0.000487</td>\n",
       "      <td>-0.000492</td>\n",
       "      <td>-0.000482</td>\n",
       "    </tr>\n",
       "    <tr>\n",
       "      <th>1</th>\n",
       "      <td>principal_balance</td>\n",
       "      <td>0.000000e+00</td>\n",
       "      <td>0.609243</td>\n",
       "      <td>-0.000044</td>\n",
       "      <td>-0.000044</td>\n",
       "      <td>-0.000044</td>\n",
       "    </tr>\n",
       "    <tr>\n",
       "      <th>2</th>\n",
       "      <td>service_fees_paid</td>\n",
       "      <td>0.000000e+00</td>\n",
       "      <td>0.381115</td>\n",
       "      <td>-0.001386</td>\n",
       "      <td>-0.001404</td>\n",
       "      <td>-0.001368</td>\n",
       "    </tr>\n",
       "    <tr>\n",
       "      <th>3</th>\n",
       "      <td>prosper_fees_paid</td>\n",
       "      <td>5.041465e-33</td>\n",
       "      <td>0.322855</td>\n",
       "      <td>-0.000740</td>\n",
       "      <td>-0.000862</td>\n",
       "      <td>-0.000619</td>\n",
       "    </tr>\n",
       "    <tr>\n",
       "      <th>4</th>\n",
       "      <td>late_fees_paid</td>\n",
       "      <td>7.659300e-70</td>\n",
       "      <td>0.323347</td>\n",
       "      <td>-0.000477</td>\n",
       "      <td>-0.000530</td>\n",
       "      <td>-0.000424</td>\n",
       "    </tr>\n",
       "  </tbody>\n",
       "</table>\n",
       "</div>"
      ],
      "text/plain": [
       "               field       pvalues  rsquared      coef  conf_low  conf_high\n",
       "0      days_past_due  0.000000e+00  0.407467 -0.000487 -0.000492  -0.000482\n",
       "1  principal_balance  0.000000e+00  0.609243 -0.000044 -0.000044  -0.000044\n",
       "2  service_fees_paid  0.000000e+00  0.381115 -0.001386 -0.001404  -0.001368\n",
       "3  prosper_fees_paid  5.041465e-33  0.322855 -0.000740 -0.000862  -0.000619\n",
       "4     late_fees_paid  7.659300e-70  0.323347 -0.000477 -0.000530  -0.000424"
      ]
     },
     "execution_count": 4,
     "metadata": {},
     "output_type": "execute_result"
    }
   ],
   "source": [
    "table.head()"
   ]
  },
  {
   "cell_type": "code",
   "execution_count": 5,
   "metadata": {
    "collapsed": true
   },
   "outputs": [],
   "source": [
    "table.to_csv(file_pth) "
   ]
  },
  {
   "cell_type": "code",
   "execution_count": null,
   "metadata": {
    "collapsed": true
   },
   "outputs": [],
   "source": []
  }
 ],
 "metadata": {
  "kernelspec": {
   "display_name": "Python 2",
   "language": "python",
   "name": "python2"
  },
  "language_info": {
   "codemirror_mode": {
    "name": "ipython",
    "version": 2
   },
   "file_extension": ".py",
   "mimetype": "text/x-python",
   "name": "python",
   "nbconvert_exporter": "python",
   "pygments_lexer": "ipython2",
   "version": "2.7.12"
  }
 },
 "nbformat": 4,
 "nbformat_minor": 1
}
