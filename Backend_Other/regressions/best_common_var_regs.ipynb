{
 "cells": [
  {
   "cell_type": "markdown",
   "metadata": {},
   "source": [
    "## Get Outputs from Regression Runs"
   ]
  },
  {
   "cell_type": "markdown",
   "metadata": {},
   "source": [
    "Here are returns from some of the linear regression model outputs. They were the \"best\" at the time they were generated. Below, the best model (which required some qualitative wrangling) yielded an rmse of 0.447. "
   ]
  },
  {
   "cell_type": "code",
   "execution_count": 1,
   "metadata": {
    "collapsed": true
   },
   "outputs": [],
   "source": [
    "import os\n",
    "import pandas as pd\n",
    "import numpy as np"
   ]
  },
  {
   "cell_type": "code",
   "execution_count": 2,
   "metadata": {
    "collapsed": true
   },
   "outputs": [],
   "source": [
    "DATA_DIR = '/home/ec2-user/daniel/common_vars_regs_outputs'"
   ]
  },
  {
   "cell_type": "code",
   "execution_count": 3,
   "metadata": {
    "collapsed": false
   },
   "outputs": [],
   "source": [
    "best_models = pd.DataFrame(columns=['aic','rmse','rsquared','tables'])\n",
    "for f in os.listdir(DATA_DIR):\n",
    "    dta = pd.read_pickle(os.path.join(DATA_DIR, f))\n",
    "    best_models = best_models.append(dta)"
   ]
  },
  {
   "cell_type": "code",
   "execution_count": 4,
   "metadata": {
    "collapsed": false
   },
   "outputs": [
    {
     "data": {
      "text/html": [
       "<div>\n",
       "<table border=\"1\" class=\"dataframe\">\n",
       "  <thead>\n",
       "    <tr style=\"text-align: right;\">\n",
       "      <th></th>\n",
       "      <th>aic</th>\n",
       "      <th>rmse</th>\n",
       "      <th>rsquared</th>\n",
       "    </tr>\n",
       "  </thead>\n",
       "  <tbody>\n",
       "    <tr>\n",
       "      <th>(u'all001', u'estimated_loss_rate', u'estimated_return', u'lender_yield')</th>\n",
       "      <td>184948.009367</td>\n",
       "      <td>0.510979</td>\n",
       "      <td>0.219581</td>\n",
       "    </tr>\n",
       "    <tr>\n",
       "      <th>(u'all001', u'borrower_rate', u'estimated_loss_rate', u'estimated_return')</th>\n",
       "      <td>185565.062726</td>\n",
       "      <td>0.511623</td>\n",
       "      <td>0.217494</td>\n",
       "    </tr>\n",
       "    <tr>\n",
       "      <th>(u'all001', u'effective_yield', u'estimated_loss_rate', u'lender_yield')</th>\n",
       "      <td>187801.141715</td>\n",
       "      <td>0.511692</td>\n",
       "      <td>0.209885</td>\n",
       "    </tr>\n",
       "    <tr>\n",
       "      <th>(u'estimated_loss_rate', u'estimated_return', u'lender_yield')</th>\n",
       "      <td>185746.940599</td>\n",
       "      <td>0.511855</td>\n",
       "      <td>0.216879</td>\n",
       "    </tr>\n",
       "    <tr>\n",
       "      <th>(u'all001', u'borrower_rate', u'effective_yield', u'estimated_loss_rate')</th>\n",
       "      <td>188431.345946</td>\n",
       "      <td>0.512397</td>\n",
       "      <td>0.207727</td>\n",
       "    </tr>\n",
       "    <tr>\n",
       "      <th>(u'all021', u'borrower_rate', u'estimated_loss_rate', u'estimated_return')</th>\n",
       "      <td>186346.300564</td>\n",
       "      <td>0.512499</td>\n",
       "      <td>0.214844</td>\n",
       "    </tr>\n",
       "    <tr>\n",
       "      <th>(u'borrower_rate', u'estimated_loss_rate', u'estimated_return')</th>\n",
       "      <td>186356.247821</td>\n",
       "      <td>0.512511</td>\n",
       "      <td>0.214811</td>\n",
       "    </tr>\n",
       "    <tr>\n",
       "      <th>(u'effective_yield', u'estimated_loss_rate', u'lender_yield')</th>\n",
       "      <td>188812.267805</td>\n",
       "      <td>0.512725</td>\n",
       "      <td>0.206421</td>\n",
       "    </tr>\n",
       "    <tr>\n",
       "      <th>(u'borrower_rate', u'effective_yield', u'estimated_loss_rate')</th>\n",
       "      <td>189437.008777</td>\n",
       "      <td>0.513442</td>\n",
       "      <td>0.204273</td>\n",
       "    </tr>\n",
       "    <tr>\n",
       "      <th>(u'investment_typeid', u'lender_yield', 'term')</th>\n",
       "      <td>196363.253767</td>\n",
       "      <td>0.521516</td>\n",
       "      <td>0.180060</td>\n",
       "    </tr>\n",
       "    <tr>\n",
       "      <th>(u'investment_typeid', 'term')</th>\n",
       "      <td>201047.586581</td>\n",
       "      <td>0.527277</td>\n",
       "      <td>0.163261</td>\n",
       "    </tr>\n",
       "    <tr>\n",
       "      <th>(u'investment_typeid', u'partial_funding_indicator')</th>\n",
       "      <td>202053.379084</td>\n",
       "      <td>0.528300</td>\n",
       "      <td>0.159611</td>\n",
       "    </tr>\n",
       "    <tr>\n",
       "      <th>(u'funding_threshold', u'investment_typeid')</th>\n",
       "      <td>202051.027157</td>\n",
       "      <td>0.528309</td>\n",
       "      <td>0.159615</td>\n",
       "    </tr>\n",
       "    <tr>\n",
       "      <th>(u'investment_type_description', 'term')</th>\n",
       "      <td>202389.911753</td>\n",
       "      <td>0.528790</td>\n",
       "      <td>0.158386</td>\n",
       "    </tr>\n",
       "    <tr>\n",
       "      <th>(u'amount_funded', u'investment_typeid')</th>\n",
       "      <td>202336.388111</td>\n",
       "      <td>0.529127</td>\n",
       "      <td>0.158581</td>\n",
       "    </tr>\n",
       "    <tr>\n",
       "      <th>(u'investment_typeid',)</th>\n",
       "      <td>206264.479886</td>\n",
       "      <td>0.533269</td>\n",
       "      <td>0.144147</td>\n",
       "    </tr>\n",
       "    <tr>\n",
       "      <th>(u'investment_type_description',)</th>\n",
       "      <td>207195.091318</td>\n",
       "      <td>0.534284</td>\n",
       "      <td>0.140694</td>\n",
       "    </tr>\n",
       "    <tr>\n",
       "      <th>(u'partial_funding_indicator',)</th>\n",
       "      <td>225878.991092</td>\n",
       "      <td>0.556696</td>\n",
       "      <td>0.068325</td>\n",
       "    </tr>\n",
       "    <tr>\n",
       "      <th>(u'funding_threshold',)</th>\n",
       "      <td>225877.250550</td>\n",
       "      <td>0.556703</td>\n",
       "      <td>0.068326</td>\n",
       "    </tr>\n",
       "    <tr>\n",
       "      <th>(u'employment_status_description',)</th>\n",
       "      <td>231450.002572</td>\n",
       "      <td>0.564082</td>\n",
       "      <td>0.045640</td>\n",
       "    </tr>\n",
       "  </tbody>\n",
       "</table>\n",
       "</div>"
      ],
      "text/plain": [
       "                                                              aic      rmse  \\\n",
       "(u'all001', u'estimated_loss_rate', u'estimated...  184948.009367  0.510979   \n",
       "(u'all001', u'borrower_rate', u'estimated_loss_...  185565.062726  0.511623   \n",
       "(u'all001', u'effective_yield', u'estimated_los...  187801.141715  0.511692   \n",
       "(u'estimated_loss_rate', u'estimated_return', u...  185746.940599  0.511855   \n",
       "(u'all001', u'borrower_rate', u'effective_yield...  188431.345946  0.512397   \n",
       "(u'all021', u'borrower_rate', u'estimated_loss_...  186346.300564  0.512499   \n",
       "(u'borrower_rate', u'estimated_loss_rate', u'es...  186356.247821  0.512511   \n",
       "(u'effective_yield', u'estimated_loss_rate', u'...  188812.267805  0.512725   \n",
       "(u'borrower_rate', u'effective_yield', u'estima...  189437.008777  0.513442   \n",
       "(u'investment_typeid', u'lender_yield', 'term')     196363.253767  0.521516   \n",
       "(u'investment_typeid', 'term')                      201047.586581  0.527277   \n",
       "(u'investment_typeid', u'partial_funding_indica...  202053.379084  0.528300   \n",
       "(u'funding_threshold', u'investment_typeid')        202051.027157  0.528309   \n",
       "(u'investment_type_description', 'term')            202389.911753  0.528790   \n",
       "(u'amount_funded', u'investment_typeid')            202336.388111  0.529127   \n",
       "(u'investment_typeid',)                             206264.479886  0.533269   \n",
       "(u'investment_type_description',)                   207195.091318  0.534284   \n",
       "(u'partial_funding_indicator',)                     225878.991092  0.556696   \n",
       "(u'funding_threshold',)                             225877.250550  0.556703   \n",
       "(u'employment_status_description',)                 231450.002572  0.564082   \n",
       "\n",
       "                                                    rsquared  \n",
       "(u'all001', u'estimated_loss_rate', u'estimated...  0.219581  \n",
       "(u'all001', u'borrower_rate', u'estimated_loss_...  0.217494  \n",
       "(u'all001', u'effective_yield', u'estimated_los...  0.209885  \n",
       "(u'estimated_loss_rate', u'estimated_return', u...  0.216879  \n",
       "(u'all001', u'borrower_rate', u'effective_yield...  0.207727  \n",
       "(u'all021', u'borrower_rate', u'estimated_loss_...  0.214844  \n",
       "(u'borrower_rate', u'estimated_loss_rate', u'es...  0.214811  \n",
       "(u'effective_yield', u'estimated_loss_rate', u'...  0.206421  \n",
       "(u'borrower_rate', u'effective_yield', u'estima...  0.204273  \n",
       "(u'investment_typeid', u'lender_yield', 'term')     0.180060  \n",
       "(u'investment_typeid', 'term')                      0.163261  \n",
       "(u'investment_typeid', u'partial_funding_indica...  0.159611  \n",
       "(u'funding_threshold', u'investment_typeid')        0.159615  \n",
       "(u'investment_type_description', 'term')            0.158386  \n",
       "(u'amount_funded', u'investment_typeid')            0.158581  \n",
       "(u'investment_typeid',)                             0.144147  \n",
       "(u'investment_type_description',)                   0.140694  \n",
       "(u'partial_funding_indicator',)                     0.068325  \n",
       "(u'funding_threshold',)                             0.068326  \n",
       "(u'employment_status_description',)                 0.045640  "
      ]
     },
     "execution_count": 4,
     "metadata": {},
     "output_type": "execute_result"
    }
   ],
   "source": [
    "best_models.sort_values(by='rmse', inplace=True)\n",
    "best_models[['aic','rmse','rsquared']].head(20)"
   ]
  },
  {
   "cell_type": "markdown",
   "metadata": {},
   "source": [
    "### Variables from the top 20 Regressions"
   ]
  },
  {
   "cell_type": "code",
   "execution_count": 5,
   "metadata": {
    "collapsed": false
   },
   "outputs": [],
   "source": [
    "variables = []\n",
    "for i in best_models.index:\n",
    "    variables.extend(eval(i))"
   ]
  },
  {
   "cell_type": "code",
   "execution_count": 6,
   "metadata": {
    "collapsed": false
   },
   "outputs": [
    {
     "data": {
      "text/plain": [
       "[u'investment_typeid',\n",
       " 'term',\n",
       " u'months_employed',\n",
       " u'investment_type_description',\n",
       " u'all051',\n",
       " u'borrower_rate',\n",
       " u'all001',\n",
       " u'partial_funding_indicator',\n",
       " u'effective_yield',\n",
       " u'lender_yield',\n",
       " u'all026',\n",
       " u'estimated_return',\n",
       " u'all021',\n",
       " u'installment_balance',\n",
       " u'employment_status_description',\n",
       " u'estimated_loss_rate',\n",
       " u'amount_funded',\n",
       " u'funding_threshold']"
      ]
     },
     "execution_count": 6,
     "metadata": {},
     "output_type": "execute_result"
    }
   ],
   "source": [
    "variables = list(set(variables))\n",
    "variables"
   ]
  },
  {
   "cell_type": "code",
   "execution_count": 7,
   "metadata": {
    "collapsed": false
   },
   "outputs": [
    {
     "data": {
      "text/plain": [
       "18"
      ]
     },
     "execution_count": 7,
     "metadata": {},
     "output_type": "execute_result"
    }
   ],
   "source": [
    "len(variables)"
   ]
  },
  {
   "cell_type": "code",
   "execution_count": 8,
   "metadata": {
    "collapsed": false
   },
   "outputs": [
    {
     "data": {
      "text/html": [
       "<div>\n",
       "<table border=\"1\" class=\"dataframe\">\n",
       "  <thead>\n",
       "    <tr style=\"text-align: right;\">\n",
       "      <th></th>\n",
       "      <th>aic</th>\n",
       "      <th>rmse</th>\n",
       "      <th>rsquared</th>\n",
       "      <th>tables</th>\n",
       "    </tr>\n",
       "  </thead>\n",
       "  <tbody>\n",
       "    <tr>\n",
       "      <th>(u'all001', u'all021', u'effective_yield', u'estimated_loss_rate', u'lender_yield')</th>\n",
       "      <td>187767.903607</td>\n",
       "      <td>87.313822</td>\n",
       "      <td>0.210006</td>\n",
       "      <td>[[[Dep. Variable:, simple_return,   R-squared:...</td>\n",
       "    </tr>\n",
       "    <tr>\n",
       "      <th>(u'all001', u'all021', u'borrower_rate', u'effective_yield', u'estimated_loss_rate')</th>\n",
       "      <td>188398.051619</td>\n",
       "      <td>87.434014</td>\n",
       "      <td>0.207848</td>\n",
       "      <td>[[[Dep. Variable:, simple_return,   R-squared:...</td>\n",
       "    </tr>\n",
       "    <tr>\n",
       "      <th>(u'all001', u'all021', u'all026', u'all051', u'installment_balance', u'investment_typeid', u'months_employed')</th>\n",
       "      <td>193691.826634</td>\n",
       "      <td>88.229071</td>\n",
       "      <td>0.150210</td>\n",
       "      <td>[[[Dep. Variable:, simple_return,   R-squared:...</td>\n",
       "    </tr>\n",
       "    <tr>\n",
       "      <th>(u'all001', u'all021', u'all026', u'installment_balance', u'investment_typeid', u'months_employed')</th>\n",
       "      <td>193690.136127</td>\n",
       "      <td>88.229273</td>\n",
       "      <td>0.150209</td>\n",
       "      <td>[[[Dep. Variable:, simple_return,   R-squared:...</td>\n",
       "    </tr>\n",
       "    <tr>\n",
       "      <th>(u'all001', u'all021', u'installment_balance', u'investment_typeid', u'months_employed')</th>\n",
       "      <td>194942.041122</td>\n",
       "      <td>88.440370</td>\n",
       "      <td>0.145351</td>\n",
       "      <td>[[[Dep. Variable:, simple_return,   R-squared:...</td>\n",
       "    </tr>\n",
       "  </tbody>\n",
       "</table>\n",
       "</div>"
      ],
      "text/plain": [
       "                                                              aic       rmse  \\\n",
       "(u'all001', u'all021', u'effective_yield', u'es...  187767.903607  87.313822   \n",
       "(u'all001', u'all021', u'borrower_rate', u'effe...  188398.051619  87.434014   \n",
       "(u'all001', u'all021', u'all026', u'all051', u'...  193691.826634  88.229071   \n",
       "(u'all001', u'all021', u'all026', u'installment...  193690.136127  88.229273   \n",
       "(u'all001', u'all021', u'installment_balance', ...  194942.041122  88.440370   \n",
       "\n",
       "                                                    rsquared  \\\n",
       "(u'all001', u'all021', u'effective_yield', u'es...  0.210006   \n",
       "(u'all001', u'all021', u'borrower_rate', u'effe...  0.207848   \n",
       "(u'all001', u'all021', u'all026', u'all051', u'...  0.150210   \n",
       "(u'all001', u'all021', u'all026', u'installment...  0.150209   \n",
       "(u'all001', u'all021', u'installment_balance', ...  0.145351   \n",
       "\n",
       "                                                                                               tables  \n",
       "(u'all001', u'all021', u'effective_yield', u'es...  [[[Dep. Variable:, simple_return,   R-squared:...  \n",
       "(u'all001', u'all021', u'borrower_rate', u'effe...  [[[Dep. Variable:, simple_return,   R-squared:...  \n",
       "(u'all001', u'all021', u'all026', u'all051', u'...  [[[Dep. Variable:, simple_return,   R-squared:...  \n",
       "(u'all001', u'all021', u'all026', u'installment...  [[[Dep. Variable:, simple_return,   R-squared:...  \n",
       "(u'all001', u'all021', u'installment_balance', ...  [[[Dep. Variable:, simple_return,   R-squared:...  "
      ]
     },
     "execution_count": 8,
     "metadata": {},
     "output_type": "execute_result"
    }
   ],
   "source": [
    "best_models.tail()"
   ]
  },
  {
   "cell_type": "markdown",
   "metadata": {},
   "source": [
    "### Save Best Model"
   ]
  },
  {
   "cell_type": "code",
   "execution_count": 64,
   "metadata": {
    "collapsed": true
   },
   "outputs": [],
   "source": [
    "if not os.path.exists('/home/ec2-user/daniel/models'):\n",
    "    os.makedirs('/home/ec2-user/daniel/models')    \n",
    "MODELS_DIR = '/home/ec2-user/daniel/models'"
   ]
  },
  {
   "cell_type": "code",
   "execution_count": 65,
   "metadata": {
    "collapsed": false
   },
   "outputs": [
    {
     "data": {
      "text/plain": [
       "\"(u'all001', u'estimated_loss_rate', u'estimated_return', u'lender_yield')\""
      ]
     },
     "execution_count": 65,
     "metadata": {},
     "output_type": "execute_result"
    }
   ],
   "source": [
    "best_models.index[0]"
   ]
  },
  {
   "cell_type": "code",
   "execution_count": 66,
   "metadata": {
    "collapsed": true
   },
   "outputs": [],
   "source": [
    "import os\n",
    "import pandas as pd\n",
    "import statsmodels.formula.api as smf\n",
    "\n",
    "from math import sqrt\n",
    "from db_conn import DBConn"
   ]
  },
  {
   "cell_type": "code",
   "execution_count": 67,
   "metadata": {
    "collapsed": true
   },
   "outputs": [],
   "source": [
    "#setup connection to db\n",
    "eng = DBConn(<db creds>)\n",
    "con = eng.connect()"
   ]
  },
  {
   "cell_type": "code",
   "execution_count": 68,
   "metadata": {
    "collapsed": true
   },
   "outputs": [],
   "source": [
    "#variable categories   \n",
    "CAT_STMT = \"select name, category from column_category\"\n",
    "CATS = pd.read_sql(CAT_STMT, con)        "
   ]
  },
  {
   "cell_type": "code",
   "execution_count": 69,
   "metadata": {
    "collapsed": true
   },
   "outputs": [],
   "source": [
    "#functions\n",
    "\n",
    "def get_sql_data(varset, dataset):\n",
    "    '''Given list of variables varset, get data from sql merged data. Dataset\n",
    "    is either train, dev, or test.\n",
    "    '''\n",
    "    stmt = 'select %s from merged_%s where term<>12' %(','.join(varset), dataset)\n",
    "    data = pd.read_sql(stmt, con)\n",
    "    return data\n",
    "\n",
    "def get_vars_by_type(varset):\n",
    "    '''return 2-tuple of numerical variables, and categorical variables.'''\n",
    "    cat_vars = []\n",
    "    num_vars = []\n",
    "    for c in varset:\n",
    "        #set formula    \n",
    "        if CATS.category[CATS.name == 'prior_prosper_loan_earliest_pay_off'].values[0] == 'categorical':\n",
    "            cat_vars.append(c)\n",
    "        else:\n",
    "            num_vars.append(c)\n",
    "    return (num_vars, cat_vars)\n",
    "\n",
    "def get_formula(dep_var, varsets):\n",
    "    '''varsets[0] is numerical variables, varsets[1] is categorical variables'''\n",
    "    cat_vars = ['C(%s)' for c in varsets[1]]\n",
    "    all_vars = cat_vars + varsets[0]\n",
    "    formula = dep_var + '~' + '+'.join(all_vars)\n",
    "    return formula"
   ]
  },
  {
   "cell_type": "code",
   "execution_count": 70,
   "metadata": {
    "collapsed": false
   },
   "outputs": [
    {
     "data": {
      "text/plain": [
       "u'simple_return~all001+estimated_loss_rate+estimated_return+lender_yield+age_in_months+term'"
      ]
     },
     "execution_count": 70,
     "metadata": {},
     "output_type": "execute_result"
    }
   ],
   "source": [
    "ind_variables = list(eval(best_models.index[0]))\n",
    "#add important variables\n",
    "ind_variables += ['age_in_months', 'term']\n",
    "formula = get_formula('simple_return',\n",
    "                      get_vars_by_type(ind_variables))\n",
    "formula"
   ]
  },
  {
   "cell_type": "code",
   "execution_count": 71,
   "metadata": {
    "collapsed": false
   },
   "outputs": [],
   "source": [
    "#get train data\n",
    "data_train = get_sql_data(ind_variables+['simple_return'], 'train')\n",
    "#get dev data\n",
    "data_dev = get_sql_data(ind_variables+['simple_return'], 'dev')"
   ]
  },
  {
   "cell_type": "code",
   "execution_count": 72,
   "metadata": {
    "collapsed": true
   },
   "outputs": [],
   "source": [
    "data_t = data_train.dropna()\n",
    "data_d = data_dev.dropna()"
   ]
  },
  {
   "cell_type": "code",
   "execution_count": 73,
   "metadata": {
    "collapsed": false
   },
   "outputs": [],
   "source": [
    "#fit model\n",
    "reg = smf.ols(formula=formula, data=data_t, missing='drop')\n",
    "model = reg.fit()"
   ]
  },
  {
   "cell_type": "code",
   "execution_count": 74,
   "metadata": {
    "collapsed": false,
    "scrolled": false
   },
   "outputs": [
    {
     "data": {
      "text/html": [
       "<table class=\"simpletable\">\n",
       "<caption>OLS Regression Results</caption>\n",
       "<tr>\n",
       "  <th>Dep. Variable:</th>      <td>simple_return</td>  <th>  R-squared:         </th> <td>   0.395</td> \n",
       "</tr>\n",
       "<tr>\n",
       "  <th>Model:</th>                   <td>OLS</td>       <th>  Adj. R-squared:    </th> <td>   0.395</td> \n",
       "</tr>\n",
       "<tr>\n",
       "  <th>Method:</th>             <td>Least Squares</td>  <th>  F-statistic:       </th> <td>2.518e+04</td>\n",
       "</tr>\n",
       "<tr>\n",
       "  <th>Date:</th>             <td>Sun, 27 Nov 2016</td> <th>  Prob (F-statistic):</th>  <td>  0.00</td>  \n",
       "</tr>\n",
       "<tr>\n",
       "  <th>Time:</th>                 <td>19:49:09</td>     <th>  Log-Likelihood:    </th> <td> -62981.</td> \n",
       "</tr>\n",
       "<tr>\n",
       "  <th>No. Observations:</th>      <td>231064</td>      <th>  AIC:               </th> <td>1.260e+05</td>\n",
       "</tr>\n",
       "<tr>\n",
       "  <th>Df Residuals:</th>          <td>231057</td>      <th>  BIC:               </th> <td>1.260e+05</td>\n",
       "</tr>\n",
       "<tr>\n",
       "  <th>Df Model:</th>              <td>     6</td>      <th>                     </th>     <td> </td>    \n",
       "</tr>\n",
       "<tr>\n",
       "  <th>Covariance Type:</th>      <td>nonrobust</td>    <th>                     </th>     <td> </td>    \n",
       "</tr>\n",
       "</table>\n",
       "<table class=\"simpletable\">\n",
       "<tr>\n",
       "           <td></td>              <th>coef</th>     <th>std err</th>      <th>t</th>      <th>P>|t|</th> <th>[95.0% Conf. Int.]</th> \n",
       "</tr>\n",
       "<tr>\n",
       "  <th>Intercept</th>           <td>    0.3793</td> <td>    0.003</td> <td>  112.791</td> <td> 0.000</td> <td>    0.373     0.386</td>\n",
       "</tr>\n",
       "<tr>\n",
       "  <th>all001</th>              <td>    0.0023</td> <td> 5.86e-05</td> <td>   39.596</td> <td> 0.000</td> <td>    0.002     0.002</td>\n",
       "</tr>\n",
       "<tr>\n",
       "  <th>estimated_loss_rate</th> <td>   -3.3952</td> <td>    0.120</td> <td>  -28.411</td> <td> 0.000</td> <td>   -3.629    -3.161</td>\n",
       "</tr>\n",
       "<tr>\n",
       "  <th>estimated_return</th>    <td>    0.4790</td> <td>    0.058</td> <td>    8.261</td> <td> 0.000</td> <td>    0.365     0.593</td>\n",
       "</tr>\n",
       "<tr>\n",
       "  <th>lender_yield</th>        <td>    2.5431</td> <td>    0.091</td> <td>   27.909</td> <td> 0.000</td> <td>    2.365     2.722</td>\n",
       "</tr>\n",
       "<tr>\n",
       "  <th>age_in_months</th>       <td>    0.0108</td> <td> 4.61e-05</td> <td>  234.798</td> <td> 0.000</td> <td>    0.011     0.011</td>\n",
       "</tr>\n",
       "<tr>\n",
       "  <th>term</th>                <td>   -0.0045</td> <td> 6.09e-05</td> <td>  -74.616</td> <td> 0.000</td> <td>   -0.005    -0.004</td>\n",
       "</tr>\n",
       "</table>\n",
       "<table class=\"simpletable\">\n",
       "<tr>\n",
       "  <th>Omnibus:</th>       <td>1477.233</td> <th>  Durbin-Watson:     </th> <td>   1.580</td>\n",
       "</tr>\n",
       "<tr>\n",
       "  <th>Prob(Omnibus):</th>  <td> 0.000</td>  <th>  Jarque-Bera (JB):  </th> <td>2240.723</td>\n",
       "</tr>\n",
       "<tr>\n",
       "  <th>Skew:</th>           <td>-0.012</td>  <th>  Prob(JB):          </th> <td>    0.00</td>\n",
       "</tr>\n",
       "<tr>\n",
       "  <th>Kurtosis:</th>       <td> 3.482</td>  <th>  Cond. No.          </th> <td>1.41e+04</td>\n",
       "</tr>\n",
       "</table>"
      ],
      "text/plain": [
       "<class 'statsmodels.iolib.summary.Summary'>\n",
       "\"\"\"\n",
       "                            OLS Regression Results                            \n",
       "==============================================================================\n",
       "Dep. Variable:          simple_return   R-squared:                       0.395\n",
       "Model:                            OLS   Adj. R-squared:                  0.395\n",
       "Method:                 Least Squares   F-statistic:                 2.518e+04\n",
       "Date:                Sun, 27 Nov 2016   Prob (F-statistic):               0.00\n",
       "Time:                        19:49:09   Log-Likelihood:                -62981.\n",
       "No. Observations:              231064   AIC:                         1.260e+05\n",
       "Df Residuals:                  231057   BIC:                         1.260e+05\n",
       "Df Model:                           6                                         \n",
       "Covariance Type:            nonrobust                                         \n",
       "=======================================================================================\n",
       "                          coef    std err          t      P>|t|      [95.0% Conf. Int.]\n",
       "---------------------------------------------------------------------------------------\n",
       "Intercept               0.3793      0.003    112.791      0.000         0.373     0.386\n",
       "all001                  0.0023   5.86e-05     39.596      0.000         0.002     0.002\n",
       "estimated_loss_rate    -3.3952      0.120    -28.411      0.000        -3.629    -3.161\n",
       "estimated_return        0.4790      0.058      8.261      0.000         0.365     0.593\n",
       "lender_yield            2.5431      0.091     27.909      0.000         2.365     2.722\n",
       "age_in_months           0.0108   4.61e-05    234.798      0.000         0.011     0.011\n",
       "term                   -0.0045   6.09e-05    -74.616      0.000        -0.005    -0.004\n",
       "==============================================================================\n",
       "Omnibus:                     1477.233   Durbin-Watson:                   1.580\n",
       "Prob(Omnibus):                  0.000   Jarque-Bera (JB):             2240.723\n",
       "Skew:                          -0.012   Prob(JB):                         0.00\n",
       "Kurtosis:                       3.482   Cond. No.                     1.41e+04\n",
       "==============================================================================\n",
       "\n",
       "Warnings:\n",
       "[1] Standard Errors assume that the covariance matrix of the errors is correctly specified.\n",
       "[2] The condition number is large, 1.41e+04. This might indicate that there are\n",
       "strong multicollinearity or other numerical problems.\n",
       "\"\"\""
      ]
     },
     "execution_count": 74,
     "metadata": {},
     "output_type": "execute_result"
    }
   ],
   "source": [
    "model.summary()"
   ]
  },
  {
   "cell_type": "code",
   "execution_count": 75,
   "metadata": {
    "collapsed": true
   },
   "outputs": [],
   "source": [
    "#predict\n",
    "dev_pred = model.predict(data_d)"
   ]
  },
  {
   "cell_type": "code",
   "execution_count": 52,
   "metadata": {
    "collapsed": false
   },
   "outputs": [],
   "source": [
    "rmse = sqrt(2*sum(\n",
    "            (dev_pred - data_d['simple_return'])**2\n",
    "              )/float(len(dev_pred))\n",
    "       )\n"
   ]
  },
  {
   "cell_type": "code",
   "execution_count": 53,
   "metadata": {
    "collapsed": false
   },
   "outputs": [
    {
     "data": {
      "text/plain": [
       "0.4471252979449878"
      ]
     },
     "execution_count": 53,
     "metadata": {},
     "output_type": "execute_result"
    }
   ],
   "source": [
    "rmse"
   ]
  },
  {
   "cell_type": "code",
   "execution_count": 55,
   "metadata": {
    "collapsed": true
   },
   "outputs": [],
   "source": [
    "model.save(os.path.join(MODELS_DIR,'rmse_best_model.pkl'))"
   ]
  },
  {
   "cell_type": "markdown",
   "metadata": {},
   "source": [
    "#### test"
   ]
  },
  {
   "cell_type": "code",
   "execution_count": 56,
   "metadata": {
    "collapsed": true
   },
   "outputs": [],
   "source": [
    "import pickle"
   ]
  },
  {
   "cell_type": "code",
   "execution_count": 61,
   "metadata": {
    "collapsed": false
   },
   "outputs": [],
   "source": [
    "modl = pickle.load(open(os.path.join(MODELS_DIR,'rmse_best_model.pkl')))"
   ]
  },
  {
   "cell_type": "code",
   "execution_count": 63,
   "metadata": {
    "collapsed": false
   },
   "outputs": [
    {
     "data": {
      "text/plain": [
       "125976.86328574317"
      ]
     },
     "execution_count": 63,
     "metadata": {},
     "output_type": "execute_result"
    }
   ],
   "source": [
    "modl.aic"
   ]
  },
  {
   "cell_type": "code",
   "execution_count": null,
   "metadata": {
    "collapsed": true
   },
   "outputs": [],
   "source": []
  },
  {
   "cell_type": "markdown",
   "metadata": {},
   "source": [
    "### DAMN!!! Looks like there is a bug with pickling model for prediction later.\n",
    "Model works fine before pickle, but then breaks when loaded from pickle."
   ]
  },
  {
   "cell_type": "markdown",
   "metadata": {},
   "source": [
    "https://github.com/statsmodels/statsmodels/issues/1263\n",
    "\n",
    "https://github.com/statsmodels/statsmodels/issues/1729"
   ]
  },
  {
   "cell_type": "code",
   "execution_count": 79,
   "metadata": {
    "collapsed": false
   },
   "outputs": [],
   "source": [
    "import datetime as dt\n",
    "startdate = '2014-10-06'\n",
    "enddate = dt.datetime.strptime(startdate, '%Y-%m-%d') + dt.timedelta(days=3)\n",
    "dataset = 'dev'\n",
    "edate = enddate.strftime('%Y-%m-%d')\n",
    "\n",
    "stmt = (\"select * from merged_%s where origination_date >= \" %(dataset) +\n",
    "        \"'%s' and origination_date < '%s' and term <> 12\" %(startdate, edate))"
   ]
  },
  {
   "cell_type": "code",
   "execution_count": null,
   "metadata": {
    "collapsed": true
   },
   "outputs": [],
   "source": []
  },
  {
   "cell_type": "code",
   "execution_count": 80,
   "metadata": {
    "collapsed": true
   },
   "outputs": [],
   "source": [
    "listings = pd.read_sql(stmt, con, index_col='loan_number')\n",
    "listings = listings[~(listings.listing_number.isnull())]"
   ]
  },
  {
   "cell_type": "code",
   "execution_count": 84,
   "metadata": {
    "collapsed": true
   },
   "outputs": [],
   "source": [
    "sublist = listings[listings.prosper_rating == 'AA']"
   ]
  },
  {
   "cell_type": "code",
   "execution_count": 85,
   "metadata": {
    "collapsed": true
   },
   "outputs": [],
   "source": [
    "mypred = model.predict(sublist)"
   ]
  },
  {
   "cell_type": "code",
   "execution_count": 86,
   "metadata": {
    "collapsed": false
   },
   "outputs": [
    {
     "data": {
      "text/plain": [
       "array([ 0.64766666,  0.66668492,  0.67469061,  0.66545971,  0.65381871,\n",
       "        0.66668492,  0.63990411,  0.65850241,  0.75126643,  0.67317677])"
      ]
     },
     "execution_count": 86,
     "metadata": {},
     "output_type": "execute_result"
    }
   ],
   "source": [
    "mypred[:10]"
   ]
  },
  {
   "cell_type": "code",
   "execution_count": 87,
   "metadata": {
    "collapsed": true
   },
   "outputs": [],
   "source": [
    "model.save('myexample.pkl')"
   ]
  },
  {
   "cell_type": "code",
   "execution_count": 93,
   "metadata": {
    "collapsed": true
   },
   "outputs": [],
   "source": [
    "from statsmodels.iolib.smpickle import load_pickle\n",
    "import statsmodels.api as sm"
   ]
  },
  {
   "cell_type": "code",
   "execution_count": 100,
   "metadata": {
    "collapsed": false
   },
   "outputs": [],
   "source": [
    "smodel = load_pickle('myexample.pkl')\n",
    "smodel2 = sm.load('myexample.pkl')\n",
    "smodel3 = model.load('myexample.pkl')"
   ]
  },
  {
   "cell_type": "code",
   "execution_count": 101,
   "metadata": {
    "collapsed": false
   },
   "outputs": [
    {
     "ename": "AttributeError",
     "evalue": "'DataFrame' object has no attribute 'design_info'",
     "output_type": "error",
     "traceback": [
      "\u001b[0;31m\u001b[0m",
      "\u001b[0;31mAttributeError\u001b[0mTraceback (most recent call last)",
      "\u001b[0;32m<ipython-input-101-6f611f2113d9>\u001b[0m in \u001b[0;36m<module>\u001b[0;34m()\u001b[0m\n\u001b[0;32m----> 1\u001b[0;31m \u001b[0msmodel3\u001b[0m\u001b[0;34m.\u001b[0m\u001b[0mpredict\u001b[0m\u001b[0;34m(\u001b[0m\u001b[0msublist\u001b[0m\u001b[0;34m)\u001b[0m\u001b[0;34m\u001b[0m\u001b[0m\n\u001b[0m",
      "\u001b[0;32m/usr/local/lib64/python2.7/site-packages/statsmodels/base/model.pyc\u001b[0m in \u001b[0;36mpredict\u001b[0;34m(self, exog, transform, *args, **kwargs)\u001b[0m\n\u001b[1;32m    737\u001b[0m         \u001b[0;32mif\u001b[0m \u001b[0mtransform\u001b[0m \u001b[0;32mand\u001b[0m \u001b[0mhasattr\u001b[0m\u001b[0;34m(\u001b[0m\u001b[0mself\u001b[0m\u001b[0;34m.\u001b[0m\u001b[0mmodel\u001b[0m\u001b[0;34m,\u001b[0m \u001b[0;34m'formula'\u001b[0m\u001b[0;34m)\u001b[0m \u001b[0;32mand\u001b[0m \u001b[0mexog\u001b[0m \u001b[0;32mis\u001b[0m \u001b[0;32mnot\u001b[0m \u001b[0mNone\u001b[0m\u001b[0;34m:\u001b[0m\u001b[0;34m\u001b[0m\u001b[0m\n\u001b[1;32m    738\u001b[0m             \u001b[0;32mfrom\u001b[0m \u001b[0mpatsy\u001b[0m \u001b[0;32mimport\u001b[0m \u001b[0mdmatrix\u001b[0m\u001b[0;34m\u001b[0m\u001b[0m\n\u001b[0;32m--> 739\u001b[0;31m             exog = dmatrix(self.model.data.orig_exog.design_info.builder,\n\u001b[0m\u001b[1;32m    740\u001b[0m                            exog)\n\u001b[1;32m    741\u001b[0m \u001b[0;34m\u001b[0m\u001b[0m\n",
      "\u001b[0;32m/usr/local/lib64/python2.7/site-packages/pandas/core/generic.pyc\u001b[0m in \u001b[0;36m__getattr__\u001b[0;34m(self, name)\u001b[0m\n\u001b[1;32m   2742\u001b[0m             \u001b[0;32mif\u001b[0m \u001b[0mname\u001b[0m \u001b[0;32min\u001b[0m \u001b[0mself\u001b[0m\u001b[0;34m.\u001b[0m\u001b[0m_info_axis\u001b[0m\u001b[0;34m:\u001b[0m\u001b[0;34m\u001b[0m\u001b[0m\n\u001b[1;32m   2743\u001b[0m                 \u001b[0;32mreturn\u001b[0m \u001b[0mself\u001b[0m\u001b[0;34m[\u001b[0m\u001b[0mname\u001b[0m\u001b[0;34m]\u001b[0m\u001b[0;34m\u001b[0m\u001b[0m\n\u001b[0;32m-> 2744\u001b[0;31m             \u001b[0;32mreturn\u001b[0m \u001b[0mobject\u001b[0m\u001b[0;34m.\u001b[0m\u001b[0m__getattribute__\u001b[0m\u001b[0;34m(\u001b[0m\u001b[0mself\u001b[0m\u001b[0;34m,\u001b[0m \u001b[0mname\u001b[0m\u001b[0;34m)\u001b[0m\u001b[0;34m\u001b[0m\u001b[0m\n\u001b[0m\u001b[1;32m   2745\u001b[0m \u001b[0;34m\u001b[0m\u001b[0m\n\u001b[1;32m   2746\u001b[0m     \u001b[0;32mdef\u001b[0m \u001b[0m__setattr__\u001b[0m\u001b[0;34m(\u001b[0m\u001b[0mself\u001b[0m\u001b[0;34m,\u001b[0m \u001b[0mname\u001b[0m\u001b[0;34m,\u001b[0m \u001b[0mvalue\u001b[0m\u001b[0;34m)\u001b[0m\u001b[0;34m:\u001b[0m\u001b[0;34m\u001b[0m\u001b[0m\n",
      "\u001b[0;31mAttributeError\u001b[0m: 'DataFrame' object has no attribute 'design_info'"
     ]
    }
   ],
   "source": [
    "smodel3.predict(sublist)"
   ]
  },
  {
   "cell_type": "code",
   "execution_count": null,
   "metadata": {
    "collapsed": true
   },
   "outputs": [],
   "source": []
  }
 ],
 "metadata": {
  "kernelspec": {
   "display_name": "Python 2",
   "language": "python",
   "name": "python2"
  },
  "language_info": {
   "codemirror_mode": {
    "name": "ipython",
    "version": 2
   },
   "file_extension": ".py",
   "mimetype": "text/x-python",
   "name": "python",
   "nbconvert_exporter": "python",
   "pygments_lexer": "ipython2",
   "version": "2.7.12"
  }
 },
 "nbformat": 4,
 "nbformat_minor": 1
}
