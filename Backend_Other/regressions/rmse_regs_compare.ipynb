{
 "cells": [
  {
   "cell_type": "markdown",
   "metadata": {},
   "source": [
    "## Comparing Regressions by RMSE"
   ]
  },
  {
   "cell_type": "markdown",
   "metadata": {},
   "source": [
    "This script investigates the best regressions (by rmse) for all variables (without regard to how common they are in the data; that is, how much the variable is missing). \n",
    "\n",
    "I use the base variables: \n",
    "    'simple_return','age_in_months','borrower_rate','payment','amount_funded','term'\n",
    "\n",
    "along with the best AIC variables from previous regression research. I chose this approach since there are far too many variables in general to try brute force. "
   ]
  },
  {
   "cell_type": "markdown",
   "metadata": {},
   "source": [
    "Note: I made a mistake by not dividing by the number of observations when calculating the RMSE. I have added this part in case I run this script again (it takes a long time to run ~several hours). However, note that the outputs below still reflect the mistake. I did correct the mistake in the database after the fact. "
   ]
  },
  {
   "cell_type": "code",
   "execution_count": 3,
   "metadata": {
    "collapsed": true
   },
   "outputs": [],
   "source": [
    "import logging\n",
    "import copy\n",
    "import pandas as pd\n",
    "import numpy as np\n",
    "import statsmodels.formula.api as smf\n",
    "\n",
    "from math import sqrt\n",
    "from itertools import combinations\n",
    "from db_conn import DBConn"
   ]
  },
  {
   "cell_type": "code",
   "execution_count": 4,
   "metadata": {
    "collapsed": true
   },
   "outputs": [],
   "source": [
    "#variables\n",
    "BASE_VARS = ['simple_return','age_in_months','borrower_rate','payment',\n",
    "             'amount_funded','term']\n",
    "AIC_BEST1 = [\"prior_prosper_loan_earliest_pay_off\",\"all146\",\"all071\",\n",
    "            \"cap801\",\"ale071\",\"all005\",\"rtr002\",\"ale403\"]    \n",
    "AIC_BEST2 = [\"rep071\",\"ale075\",\"iln071\",\"rev130\",\"bac071\",\"bac078\",\n",
    "\"ale804\",\"all505\",\"ale801\",\"rtr071\",\"bac022\",\"bac023\",\"iln007\",\"rev081\",\n",
    "\"rev086\",\"rev085\",\"rev084\",\"rev002\",\"all126\",\"fil001\",\"rep078\",\"all153\",\n",
    "\"fin001\",\"rtl071\",\"ale908\",\"ale905\",\"all092\",\"all091\",\"all155\",\"all151\",\n",
    "\"all086\",\"all807\",\"rev023\",\"rev022\",\"rep005\",\"rep001\",\"rtr023\",\"all002\",\n",
    "\"rev001\",\"rtl905\",\"ale005\",\"rev115\",\"rep501\",\"rep904\",\"rep905\",\"rep906\",\n",
    "\"rep901\",\"bnk001\",\"rtl001\",\"rtl002\",\"rtl005\",\"fin801\",\"ale002\",\"bac084\",\n",
    "\"bac081\",\"bac005\",\"bac001\",\"bac002\",\"rev128\",\"rev129\",\"aut071\",\"rtr022\",\n",
    "\"fico_score\",\"all023\",\"ale078\",\"ale023\",\"ale001\",\"ale084\",\"ale081\",\"rep084\",\n",
    "\"rep081\",\"bac804\",\"rtr001\",\"bac801\",\"rtr005\",\"cru001\",\"iln005\",\"aut001\",\n",
    "\"iln403\",\"rev078\",\"rev550\",\"iln101\",\"iln801\",\"bac550\",\"ale022\",\"rev005\"]"
   ]
  },
  {
   "cell_type": "markdown",
   "metadata": {},
   "source": [
    "#### functions"
   ]
  },
  {
   "cell_type": "code",
   "execution_count": 5,
   "metadata": {
    "collapsed": true
   },
   "outputs": [],
   "source": [
    "def get_sql_data(varset, dataset):\n",
    "    '''Given list of variables varset, get data from sql merged data. Dataset\n",
    "    is either train, dev, or test.\n",
    "    '''\n",
    "    stmt = 'select %s from merged_%s where term<>12' %(','.join(varset), dataset)\n",
    "    data = pd.read_sql(stmt, con)\n",
    "    return data\n",
    "\n",
    "def get_formula(varset):\n",
    "    formula = 'simple_return ~ age_in_months + borrower_rate + payment + C(term)'\n",
    "    for c in varset:\n",
    "        #set formula    \n",
    "        if CATS.category[CATS.name == c].values[0] == 'categorical':\n",
    "            formula += '+C(%s)' %c\n",
    "        else:\n",
    "            formula += '+%s' %c\n",
    "    return formula"
   ]
  },
  {
   "cell_type": "code",
   "execution_count": 6,
   "metadata": {
    "collapsed": true
   },
   "outputs": [],
   "source": [
    "def run_reg_combs(varset, data_train, data_dev, r=5):\n",
    "    \"\"\"Run regressions for combinations of varset fields on data.\"\"\"\n",
    "    top10_regs = pd.DataFrame(np.ones((10,4))*np.inf, \n",
    "                              columns=['rmse','aic','rsquared','tables'])\n",
    "    for r in xrange(len(varset)):\n",
    "        for i, cols in enumerate(combinations(varset, r)):\n",
    "            data_t = data_train[list(cols)+BASE_VARS].dropna()\n",
    "            data_d = data_dev[list(cols)+BASE_VARS].dropna()\n",
    "            #regression\n",
    "            formula = get_formula(cols)\n",
    "            reg = smf.ols(formula=formula, data=data_t, missing='drop')\n",
    "            model = reg.fit()            \n",
    "            #prediction\n",
    "            dev_pred = model.predict(data_d)\n",
    "            #calculate RMSE\n",
    "            rmse = sqrt(2*sum(\n",
    "                        (dev_pred - data_d['simple_return'])**2\n",
    "                          )/float(len(dev_pred))\n",
    "                   )\n",
    "\n",
    "            #print cols, ': ', rmse\n",
    "\n",
    "            #check against best set, keep if good enough\n",
    "            top10_regs.sort_values(by=['rmse','aic'],\n",
    "                                  ascending=[True,True],\n",
    "                                  inplace=True)\n",
    "            if rmse < top10_regs.rmse.max():\n",
    "                top10_regs = top10_regs[:-1]\n",
    "                top10_regs = top10_regs.append(pd.DataFrame(\n",
    "                                                    {'rmse': [rmse],\n",
    "                                                     'aic': [model.aic],\n",
    "                                                     'rsquared': [model.rsquared],\n",
    "                                                     'tables': [model.summary().tables]},\n",
    "                                               index=[str(cols)])\n",
    "                                              )\n",
    "                top10_regs.to_pickle('rmse_top10_regs.pkl')\n",
    "    top10_regs.sort_values(by=['rmse','aic'],\n",
    "                      ascending=[True,True],\n",
    "                      inplace=True)\n",
    "    return top10_regs\n",
    "    "
   ]
  },
  {
   "cell_type": "code",
   "execution_count": 7,
   "metadata": {
    "collapsed": true
   },
   "outputs": [],
   "source": [
    "def run_reg_seq(core_vars, varset, data_train, data_dev, savefile='file.pkl'):                \n",
    "    \"\"\"Run regressions sequentially over vars in varset. The core_vars are vars\n",
    "    in addition to BASE_VARS which will always be present.\"\"\"\n",
    "    \"\"\"Run regressions for combinations of varset fields on data.\"\"\"\n",
    "    variables = copy.deepcopy(varset)\n",
    "    core_v = copy.deepcopy(core_vars)\n",
    "    core_data_t = data_train[core_vars+BASE_VARS].dropna()\n",
    "    core_data_d = data_dev[core_vars+BASE_VARS].dropna()\n",
    "    #base rmse\n",
    "    core_formula = get_formula(core_v)\n",
    "    core_reg = smf.ols(formula=core_formula, data=core_data_t, missing='drop')\n",
    "    core_model = core_reg.fit()\n",
    "    #prediction\n",
    "    core_dev_pred = core_model.predict(core_data_d)\n",
    "    #calculate RMSE\n",
    "    core_rmse = sqrt(2*sum(\n",
    "                    (core_dev_pred - core_data_d['simple_return'])**2\n",
    "                          )/float(len(core_dev_pred))\n",
    "                    )         \n",
    "    while variables:\n",
    "        best_rmse = np.inf   \n",
    "        for field in variables:\n",
    "            data_t = data_train[core_v+BASE_VARS+[field]].dropna()\n",
    "            data_d = data_dev[core_v+BASE_VARS+[field]].dropna()\n",
    "            #regression\n",
    "            formula = get_formula(core_v + [field])\n",
    "            reg = smf.ols(formula=formula, data=data_t, missing='drop')\n",
    "            model = reg.fit()\n",
    "            #prediction\n",
    "            dev_pred = model.predict(data_d)\n",
    "            #calculate RMSE\n",
    "            rmse = sqrt(2*sum(\n",
    "                        (dev_pred - data_d['simple_return'])**2\n",
    "                          )/float(len(dev_pred))\n",
    "                   )\n",
    "            if rmse < best_rmse:\n",
    "                best_rmse = rmse\n",
    "                best_var = field\n",
    "                best_model = model\n",
    "                best_dev_pred = dev_pred\n",
    "        if best_rmse < core_rmse:\n",
    "            #add to core\n",
    "            core_v += [best_var]\n",
    "            variables = variables.remove(best_var)\n",
    "            core_rmse = best_rmse\n",
    "            core_model = best_model\n",
    "            core_dev_pred = best_dev_pred\n",
    "            #save res\n",
    "            core_model.save(savefile)\n",
    "        else:\n",
    "            break  #break while loop\n",
    "    return (core_v, core_rmse, core_model)"
   ]
  },
  {
   "cell_type": "code",
   "execution_count": 8,
   "metadata": {
    "collapsed": true
   },
   "outputs": [],
   "source": [
    "#setup logging\n",
    "logging.basicConfig(filename='rmse_regs_compare'+'.log')\n",
    "log = logging.getLogger()\n",
    "log.setLevel('INFO')"
   ]
  },
  {
   "cell_type": "code",
   "execution_count": 9,
   "metadata": {
    "collapsed": true
   },
   "outputs": [],
   "source": [
    "#setup connection to db\n",
    "eng = DBConn(username='',\n",
    "             password='')    #need to fill in\n",
    "con = eng.connect()\n",
    "log.info('db connected')"
   ]
  },
  {
   "cell_type": "code",
   "execution_count": 10,
   "metadata": {
    "collapsed": false
   },
   "outputs": [],
   "source": [
    "#variable categories   \n",
    "CAT_STMT = \"select name, category from column_category\"\n",
    "CATS = pd.read_sql(CAT_STMT, con)        "
   ]
  },
  {
   "cell_type": "code",
   "execution_count": 11,
   "metadata": {
    "collapsed": false
   },
   "outputs": [],
   "source": [
    "#get train data\n",
    "data_train = get_sql_data(BASE_VARS+AIC_BEST1+AIC_BEST2, 'train')\n",
    "log.info('downloaded training data')\n",
    "#get dev data\n",
    "data_dev = get_sql_data(BASE_VARS+AIC_BEST1+AIC_BEST2, 'dev')\n",
    "log.info('downloaded dev data')"
   ]
  },
  {
   "cell_type": "code",
   "execution_count": 12,
   "metadata": {
    "collapsed": false
   },
   "outputs": [
    {
     "name": "stdout",
     "output_type": "stream",
     "text": [
      "232261\n",
      "29250\n"
     ]
    }
   ],
   "source": [
    "print len(data_train)\n",
    "print len(data_dev)"
   ]
  },
  {
   "cell_type": "code",
   "execution_count": 13,
   "metadata": {
    "collapsed": false
   },
   "outputs": [
    {
     "name": "stdout",
     "output_type": "stream",
     "text": [
      "9954\n",
      "1327\n"
     ]
    }
   ],
   "source": [
    "print len(data_train.dropna())\n",
    "print len(data_dev.dropna())"
   ]
  },
  {
   "cell_type": "code",
   "execution_count": 14,
   "metadata": {
    "collapsed": false
   },
   "outputs": [
    {
     "data": {
      "text/plain": [
       "u'integer'"
      ]
     },
     "execution_count": 14,
     "metadata": {},
     "output_type": "execute_result"
    }
   ],
   "source": [
    "CATS.category[CATS.name == 'prior_prosper_loan_earliest_pay_off'].values[0]"
   ]
  },
  {
   "cell_type": "code",
   "execution_count": 15,
   "metadata": {
    "collapsed": false
   },
   "outputs": [],
   "source": [
    "#identify best regs from core vars\n",
    "log.info('starting run_reg_combs...')\n",
    "top10_core = run_reg_combs(AIC_BEST1, data_train, data_dev, r=len(AIC_BEST1))"
   ]
  },
  {
   "cell_type": "code",
   "execution_count": 16,
   "metadata": {
    "collapsed": true
   },
   "outputs": [],
   "source": [
    "pd.options.display.max_colwidth = 500"
   ]
  },
  {
   "cell_type": "code",
   "execution_count": 17,
   "metadata": {
    "collapsed": false
   },
   "outputs": [
    {
     "name": "stdout",
     "output_type": "stream",
     "text": [
      "                                                                                 aic  \\\n",
      "('cap801', 'ale071', 'all005', 'rtr002', 'ale403')                      25251.629525   \n",
      "('cap801', 'ale071', 'all005', 'rtr002')                                25276.584760   \n",
      "('ale071', 'all005', 'rtr002', 'ale403')                                25278.634965   \n",
      "('all146', 'cap801', 'ale071', 'all005', 'rtr002', 'ale403')            25182.442050   \n",
      "('ale071', 'all005', 'rtr002')                                          25324.127895   \n",
      "('all146', 'cap801', 'ale071', 'all005', 'rtr002')                      25206.621701   \n",
      "('all071', 'cap801', 'ale071', 'rtr002', 'ale403')                      25358.313786   \n",
      "('all146', 'all071', 'cap801', 'ale071', 'rtr002', 'ale403')            25237.250451   \n",
      "('all146', 'all071', 'cap801', 'ale071', 'all005', 'rtr002', 'ale403')  25182.767580   \n",
      "('all071', 'cap801', 'ale071', 'all005', 'rtr002', 'ale403')            25231.938944   \n",
      "\n",
      "                                                                            rmse  \\\n",
      "('cap801', 'ale071', 'all005', 'rtr002', 'ale403')                      0.362857   \n",
      "('cap801', 'ale071', 'all005', 'rtr002')                                0.362863   \n",
      "('ale071', 'all005', 'rtr002', 'ale403')                                0.362873   \n",
      "('all146', 'cap801', 'ale071', 'all005', 'rtr002', 'ale403')            0.362883   \n",
      "('ale071', 'all005', 'rtr002')                                          0.362887   \n",
      "('all146', 'cap801', 'ale071', 'all005', 'rtr002')                      0.362888   \n",
      "('all071', 'cap801', 'ale071', 'rtr002', 'ale403')                      0.362890   \n",
      "('all146', 'all071', 'cap801', 'ale071', 'rtr002', 'ale403')            0.362890   \n",
      "('all146', 'all071', 'cap801', 'ale071', 'all005', 'rtr002', 'ale403')  0.362892   \n",
      "('all071', 'cap801', 'ale071', 'all005', 'rtr002', 'ale403')            0.362893   \n",
      "\n",
      "                                                                        rsquared  \n",
      "('cap801', 'ale071', 'all005', 'rtr002', 'ale403')                      0.534606  \n",
      "('cap801', 'ale071', 'all005', 'rtr002')                                0.534543  \n",
      "('ale071', 'all005', 'rtr002', 'ale403')                                0.534538  \n",
      "('all146', 'cap801', 'ale071', 'all005', 'rtr002', 'ale403')            0.534772  \n",
      "('ale071', 'all005', 'rtr002')                                          0.534427  \n",
      "('all146', 'cap801', 'ale071', 'all005', 'rtr002')                      0.534711  \n",
      "('all071', 'cap801', 'ale071', 'rtr002', 'ale403')                      0.534356  \n",
      "('all146', 'all071', 'cap801', 'ale071', 'rtr002', 'ale403')            0.534644  \n",
      "('all146', 'all071', 'cap801', 'ale071', 'all005', 'rtr002', 'ale403')  0.534776  \n",
      "('all071', 'cap801', 'ale071', 'all005', 'rtr002', 'ale403')            0.534656  \n"
     ]
    }
   ],
   "source": [
    "print top10_core.ix[:,:-1]"
   ]
  },
  {
   "cell_type": "code",
   "execution_count": 18,
   "metadata": {
    "collapsed": false
   },
   "outputs": [
    {
     "data": {
      "text/plain": [
       "('cap801', 'ale071', 'all005', 'rtr002')"
      ]
     },
     "execution_count": 18,
     "metadata": {},
     "output_type": "execute_result"
    }
   ],
   "source": [
    "eval(top10_core.index[1])"
   ]
  },
  {
   "cell_type": "code",
   "execution_count": 19,
   "metadata": {
    "collapsed": false
   },
   "outputs": [],
   "source": [
    "#see if we can augment core vars regs\n",
    "log.info('starting run_reg_seq...')\n",
    "top_aug = pd.Series()\n",
    "for i,vrs in enumerate(top10_core.index):\n",
    "    top_aug = pd.concat([top_aug, pd.Series([run_reg_seq(list(eval(vrs)), AIC_BEST2, data_train,\n",
    "                                              data_dev, 'rmse_best_seq_reg%d.pkl' %i)])], \n",
    "                        ignore_index=True)\n",
    "\n",
    "#get most common vars set\n",
    "#identify best regression for most common vars"
   ]
  },
  {
   "cell_type": "code",
   "execution_count": 20,
   "metadata": {
    "collapsed": false
   },
   "outputs": [
    {
     "data": {
      "text/plain": [
       "0            ([cap801, ale071, all005, rtr002, ale403, rev550], 0.362422946085, <statsmodels.regression.linear_model.RegressionResultsWrapper object at 0x7fd9e99e6610>)\n",
       "1                    ([cap801, ale071, all005, rtr002, rev550], 0.362426945626, <statsmodels.regression.linear_model.RegressionResultsWrapper object at 0x7fd9e9b26410>)\n",
       "2                    ([ale071, all005, rtr002, ale403, rev550], 0.362434017683, <statsmodels.regression.linear_model.RegressionResultsWrapper object at 0x7fd9eabd0b10>)\n",
       "3    ([all146, cap801, ale071, all005, rtr002, ale403, rev550], 0.362454177712, <statsmodels.regression.linear_model.RegressionResultsWrapper object at 0x7fd9ead565d0>)\n",
       "4                            ([ale071, all005, rtr002, rev550], 0.362443752746, <statsmodels.regression.linear_model.RegressionResultsWrapper object at 0x7fd9e9b59f50>)\n",
       "dtype: object"
      ]
     },
     "execution_count": 20,
     "metadata": {},
     "output_type": "execute_result"
    }
   ],
   "source": [
    "top_aug.head()"
   ]
  },
  {
   "cell_type": "code",
   "execution_count": 21,
   "metadata": {
    "collapsed": false
   },
   "outputs": [
    {
     "data": {
      "text/plain": [
       "0    0.362423\n",
       "1    0.362427\n",
       "2    0.362434\n",
       "3    0.362454\n",
       "4    0.362444\n",
       "5    0.362458\n",
       "6    0.362456\n",
       "7    0.362467\n",
       "8    0.362466\n",
       "9    0.362460\n",
       "dtype: float64"
      ]
     },
     "execution_count": 21,
     "metadata": {},
     "output_type": "execute_result"
    }
   ],
   "source": [
    "top_aug.apply(lambda row: row[1])"
   ]
  },
  {
   "cell_type": "code",
   "execution_count": 22,
   "metadata": {
    "collapsed": false,
    "scrolled": false
   },
   "outputs": [
    {
     "name": "stdout",
     "output_type": "stream",
     "text": [
      "========================================================================================================================\n",
      "Fields:  ['cap801', 'ale071', 'all005', 'rtr002', 'ale403', 'rev550']\n",
      "RMSE:  0.362422946085\n",
      "========================================================================================================================\n",
      "\n",
      "\n",
      "                            OLS Regression Results                            \n",
      "==============================================================================\n",
      "Dep. Variable:          simple_return   R-squared:                       0.536\n",
      "Model:                            OLS   Adj. R-squared:                  0.536\n",
      "Method:                 Least Squares   F-statistic:                 2.301e+04\n",
      "Date:                Tue, 08 Nov 2016   Prob (F-statistic):               0.00\n",
      "Time:                        06:18:14   Log-Likelihood:                -12360.\n",
      "No. Observations:              199367   AIC:                         2.474e+04\n",
      "Df Residuals:                  199356   BIC:                         2.485e+04\n",
      "Df Model:                          10                                         \n",
      "Covariance Type:            nonrobust                                         \n",
      "=================================================================================\n",
      "                    coef    std err          t      P>|t|      [95.0% Conf. Int.]\n",
      "---------------------------------------------------------------------------------\n",
      "Intercept         0.0614      0.003     23.781      0.000         0.056     0.066\n",
      "C(term)[T.60]    -0.1499      0.001   -121.015      0.000        -0.152    -0.147\n",
      "age_in_months     0.0273   6.07e-05    449.895      0.000         0.027     0.027\n",
      "borrower_rate     0.4088      0.011     37.197      0.000         0.387     0.430\n",
      "payment       -4.506e-05   2.48e-06    -18.158      0.000     -4.99e-05 -4.02e-05\n",
      "cap801            0.0061      0.001      4.929      0.000         0.004     0.009\n",
      "ale071            0.0024      0.000      7.709      0.000         0.002     0.003\n",
      "all005            0.0015   8.22e-05     17.821      0.000         0.001     0.002\n",
      "rtr002           -0.0018      0.000     -9.636      0.000        -0.002    -0.001\n",
      "ale403         8.938e-05   1.87e-05      4.775      0.000      5.27e-05     0.000\n",
      "rev550            0.0002   6.85e-06     22.653      0.000         0.000     0.000\n",
      "==============================================================================\n",
      "Omnibus:                    22836.459   Durbin-Watson:                   1.949\n",
      "Prob(Omnibus):                  0.000   Jarque-Bera (JB):            54338.614\n",
      "Skew:                           0.682   Prob(JB):                         0.00\n",
      "Kurtosis:                       5.164   Cond. No.                     8.77e+03\n",
      "==============================================================================\n",
      "\n",
      "Warnings:\n",
      "[1] Standard Errors assume that the covariance matrix of the errors is correctly specified.\n",
      "[2] The condition number is large, 8.77e+03. This might indicate that there are\n",
      "strong multicollinearity or other numerical problems.\n",
      "\n",
      "\n",
      "\n",
      "========================================================================================================================\n",
      "Fields:  ['cap801', 'ale071', 'all005', 'rtr002', 'rev550']\n",
      "RMSE:  0.362426945626\n",
      "========================================================================================================================\n",
      "\n",
      "\n",
      "                            OLS Regression Results                            \n",
      "==============================================================================\n",
      "Dep. Variable:          simple_return   R-squared:                       0.536\n",
      "Model:                            OLS   Adj. R-squared:                  0.536\n",
      "Method:                 Least Squares   F-statistic:                 2.556e+04\n",
      "Date:                Tue, 08 Nov 2016   Prob (F-statistic):               0.00\n",
      "Time:                        06:18:14   Log-Likelihood:                -12371.\n",
      "No. Observations:              199367   AIC:                         2.476e+04\n",
      "Df Residuals:                  199357   BIC:                         2.486e+04\n",
      "Df Model:                           9                                         \n",
      "Covariance Type:            nonrobust                                         \n",
      "=================================================================================\n",
      "                    coef    std err          t      P>|t|      [95.0% Conf. Int.]\n",
      "---------------------------------------------------------------------------------\n",
      "Intercept         0.0630      0.003     24.573      0.000         0.058     0.068\n",
      "C(term)[T.60]    -0.1499      0.001   -121.040      0.000        -0.152    -0.147\n",
      "age_in_months     0.0273   6.07e-05    449.878      0.000         0.027     0.027\n",
      "borrower_rate     0.4119      0.011     37.533      0.000         0.390     0.433\n",
      "payment       -4.494e-05   2.48e-06    -18.108      0.000     -4.98e-05 -4.01e-05\n",
      "cap801            0.0077      0.001      6.446      0.000         0.005     0.010\n",
      "ale071            0.0030      0.000     10.640      0.000         0.002     0.004\n",
      "all005            0.0014    8.2e-05     17.496      0.000         0.001     0.002\n",
      "rtr002           -0.0018      0.000     -9.505      0.000        -0.002    -0.001\n",
      "rev550            0.0002   6.85e-06     22.745      0.000         0.000     0.000\n",
      "==============================================================================\n",
      "Omnibus:                    22837.158   Durbin-Watson:                   1.949\n",
      "Prob(Omnibus):                  0.000   Jarque-Bera (JB):            54362.703\n",
      "Skew:                           0.682   Prob(JB):                         0.00\n",
      "Kurtosis:                       5.165   Cond. No.                     8.73e+03\n",
      "==============================================================================\n",
      "\n",
      "Warnings:\n",
      "[1] Standard Errors assume that the covariance matrix of the errors is correctly specified.\n",
      "[2] The condition number is large, 8.73e+03. This might indicate that there are\n",
      "strong multicollinearity or other numerical problems.\n",
      "\n",
      "\n",
      "\n",
      "========================================================================================================================\n",
      "Fields:  ['ale071', 'all005', 'rtr002', 'ale403', 'rev550']\n",
      "RMSE:  0.362434017683\n",
      "========================================================================================================================\n",
      "\n",
      "\n",
      "                            OLS Regression Results                            \n",
      "==============================================================================\n",
      "Dep. Variable:          simple_return   R-squared:                       0.536\n",
      "Model:                            OLS   Adj. R-squared:                  0.536\n",
      "Method:                 Least Squares   F-statistic:                 2.556e+04\n",
      "Date:                Tue, 08 Nov 2016   Prob (F-statistic):               0.00\n",
      "Time:                        06:18:14   Log-Likelihood:                -12372.\n",
      "No. Observations:              199367   AIC:                         2.476e+04\n",
      "Df Residuals:                  199357   BIC:                         2.487e+04\n",
      "Df Model:                           9                                         \n",
      "Covariance Type:            nonrobust                                         \n",
      "=================================================================================\n",
      "                    coef    std err          t      P>|t|      [95.0% Conf. Int.]\n",
      "---------------------------------------------------------------------------------\n",
      "Intercept         0.0609      0.003     23.601      0.000         0.056     0.066\n",
      "C(term)[T.60]    -0.1501      0.001   -121.267      0.000        -0.153    -0.148\n",
      "age_in_months     0.0273   6.07e-05    449.888      0.000         0.027     0.027\n",
      "borrower_rate     0.4132      0.011     37.709      0.000         0.392     0.435\n",
      "payment       -4.526e-05   2.48e-06    -18.239      0.000     -5.01e-05 -4.04e-05\n",
      "ale071            0.0025      0.000      8.155      0.000         0.002     0.003\n",
      "all005            0.0015   8.22e-05     17.770      0.000         0.001     0.002\n",
      "rtr002           -0.0018      0.000     -9.626      0.000        -0.002    -0.001\n",
      "ale403            0.0001    1.8e-05      6.329      0.000      7.88e-05     0.000\n",
      "rev550            0.0002   6.85e-06     22.757      0.000         0.000     0.000\n",
      "==============================================================================\n",
      "Omnibus:                    22842.993   Durbin-Watson:                   1.949\n",
      "Prob(Omnibus):                  0.000   Jarque-Bera (JB):            54340.223\n",
      "Skew:                           0.682   Prob(JB):                         0.00\n",
      "Kurtosis:                       5.163   Cond. No.                     8.74e+03\n",
      "==============================================================================\n",
      "\n",
      "Warnings:\n",
      "[1] Standard Errors assume that the covariance matrix of the errors is correctly specified.\n",
      "[2] The condition number is large, 8.74e+03. This might indicate that there are\n",
      "strong multicollinearity or other numerical problems.\n",
      "\n",
      "\n",
      "\n",
      "========================================================================================================================\n",
      "Fields:  ['all146', 'cap801', 'ale071', 'all005', 'rtr002', 'ale403', 'rev550']\n",
      "RMSE:  0.362454177712\n",
      "========================================================================================================================\n",
      "\n",
      "\n",
      "                            OLS Regression Results                            \n",
      "==============================================================================\n",
      "Dep. Variable:          simple_return   R-squared:                       0.536\n",
      "Model:                            OLS   Adj. R-squared:                  0.536\n",
      "Method:                 Least Squares   F-statistic:                 2.093e+04\n",
      "Date:                Tue, 08 Nov 2016   Prob (F-statistic):               0.00\n",
      "Time:                        06:18:14   Log-Likelihood:                -12330.\n",
      "No. Observations:              199367   AIC:                         2.468e+04\n",
      "Df Residuals:                  199355   BIC:                         2.481e+04\n",
      "Df Model:                          11                                         \n",
      "Covariance Type:            nonrobust                                         \n",
      "=================================================================================\n",
      "                    coef    std err          t      P>|t|      [95.0% Conf. Int.]\n",
      "---------------------------------------------------------------------------------\n",
      "Intercept         0.0610      0.003     23.601      0.000         0.056     0.066\n",
      "C(term)[T.60]    -0.1494      0.001   -120.463      0.000        -0.152    -0.147\n",
      "age_in_months     0.0273   6.07e-05    449.923      0.000         0.027     0.027\n",
      "borrower_rate     0.3966      0.011     35.728      0.000         0.375     0.418\n",
      "payment       -4.212e-05   2.51e-06    -16.779      0.000      -4.7e-05 -3.72e-05\n",
      "all146            0.0112      0.001      7.749      0.000         0.008     0.014\n",
      "cap801            0.0055      0.001      4.445      0.000         0.003     0.008\n",
      "ale071            0.0024      0.000      7.765      0.000         0.002     0.003\n",
      "all005            0.0014   8.23e-05     17.437      0.000         0.001     0.002\n",
      "rtr002           -0.0019      0.000     -9.853      0.000        -0.002    -0.001\n",
      "ale403         8.815e-05   1.87e-05      4.710      0.000      5.15e-05     0.000\n",
      "rev550            0.0002   6.86e-06     22.405      0.000         0.000     0.000\n",
      "==============================================================================\n",
      "Omnibus:                    22868.574   Durbin-Watson:                   1.950\n",
      "Prob(Omnibus):                  0.000   Jarque-Bera (JB):            54353.816\n",
      "Skew:                           0.683   Prob(JB):                         0.00\n",
      "Kurtosis:                       5.163   Cond. No.                     8.86e+03\n",
      "==============================================================================\n",
      "\n",
      "Warnings:\n",
      "[1] Standard Errors assume that the covariance matrix of the errors is correctly specified.\n",
      "[2] The condition number is large, 8.86e+03. This might indicate that there are\n",
      "strong multicollinearity or other numerical problems.\n",
      "\n",
      "\n",
      "\n",
      "========================================================================================================================\n",
      "Fields:  ['ale071', 'all005', 'rtr002', 'rev550']\n",
      "RMSE:  0.362443752746\n",
      "========================================================================================================================\n",
      "\n",
      "\n",
      "                            OLS Regression Results                            \n",
      "==============================================================================\n",
      "Dep. Variable:          simple_return   R-squared:                       0.536\n",
      "Model:                            OLS   Adj. R-squared:                  0.536\n",
      "Method:                 Least Squares   F-statistic:                 2.875e+04\n",
      "Date:                Tue, 08 Nov 2016   Prob (F-statistic):               0.00\n",
      "Time:                        06:18:14   Log-Likelihood:                -12392.\n",
      "No. Observations:              199367   AIC:                         2.480e+04\n",
      "Df Residuals:                  199358   BIC:                         2.489e+04\n",
      "Df Model:                           8                                         \n",
      "Covariance Type:            nonrobust                                         \n",
      "=================================================================================\n",
      "                    coef    std err          t      P>|t|      [95.0% Conf. Int.]\n",
      "---------------------------------------------------------------------------------\n",
      "Intercept         0.0629      0.003     24.528      0.000         0.058     0.068\n",
      "C(term)[T.60]    -0.1502      0.001   -121.376      0.000        -0.153    -0.148\n",
      "age_in_months     0.0273   6.07e-05    449.861      0.000         0.027     0.027\n",
      "borrower_rate     0.4189      0.011     38.356      0.000         0.397     0.440\n",
      "payment       -4.517e-05   2.48e-06    -18.199      0.000        -5e-05 -4.03e-05\n",
      "ale071            0.0034      0.000     12.389      0.000         0.003     0.004\n",
      "all005            0.0014   8.19e-05     17.291      0.000         0.001     0.002\n",
      "rtr002           -0.0018      0.000     -9.440      0.000        -0.002    -0.001\n",
      "rev550            0.0002   6.85e-06     22.920      0.000         0.000     0.000\n",
      "==============================================================================\n",
      "Omnibus:                    22846.149   Durbin-Watson:                   1.948\n",
      "Prob(Omnibus):                  0.000   Jarque-Bera (JB):            54373.387\n",
      "Skew:                           0.682   Prob(JB):                         0.00\n",
      "Kurtosis:                       5.164   Cond. No.                     8.69e+03\n",
      "==============================================================================\n",
      "\n",
      "Warnings:\n",
      "[1] Standard Errors assume that the covariance matrix of the errors is correctly specified.\n",
      "[2] The condition number is large, 8.69e+03. This might indicate that there are\n",
      "strong multicollinearity or other numerical problems.\n",
      "\n",
      "\n",
      "\n",
      "========================================================================================================================\n",
      "Fields:  ['all146', 'cap801', 'ale071', 'all005', 'rtr002', 'rev550']\n",
      "RMSE:  0.362458120794\n",
      "========================================================================================================================\n",
      "\n",
      "\n",
      "                            OLS Regression Results                            \n",
      "==============================================================================\n",
      "Dep. Variable:          simple_return   R-squared:                       0.536\n",
      "Model:                            OLS   Adj. R-squared:                  0.536\n",
      "Method:                 Least Squares   F-statistic:                 2.302e+04\n",
      "Date:                Tue, 08 Nov 2016   Prob (F-statistic):               0.00\n",
      "Time:                        06:18:14   Log-Likelihood:                -12341.\n",
      "No. Observations:              199367   AIC:                         2.470e+04\n",
      "Df Residuals:                  199356   BIC:                         2.482e+04\n",
      "Df Model:                          10                                         \n",
      "Covariance Type:            nonrobust                                         \n",
      "=================================================================================\n",
      "                    coef    std err          t      P>|t|      [95.0% Conf. Int.]\n",
      "---------------------------------------------------------------------------------\n",
      "Intercept         0.0625      0.003     24.382      0.000         0.057     0.068\n",
      "C(term)[T.60]    -0.1494      0.001   -120.486      0.000        -0.152    -0.147\n",
      "age_in_months     0.0273   6.07e-05    449.905      0.000         0.027     0.027\n",
      "borrower_rate     0.3996      0.011     36.046      0.000         0.378     0.421\n",
      "payment       -4.199e-05   2.51e-06    -16.725      0.000     -4.69e-05 -3.71e-05\n",
      "all146            0.0112      0.001      7.789      0.000         0.008     0.014\n",
      "cap801            0.0071      0.001      5.918      0.000         0.005     0.009\n",
      "ale071            0.0030      0.000     10.672      0.000         0.002     0.004\n",
      "all005            0.0014    8.2e-05     17.115      0.000         0.001     0.002\n",
      "rtr002           -0.0018      0.000     -9.725      0.000        -0.002    -0.001\n",
      "rev550            0.0002   6.86e-06     22.494      0.000         0.000     0.000\n",
      "==============================================================================\n",
      "Omnibus:                    22869.236   Durbin-Watson:                   1.949\n",
      "Prob(Omnibus):                  0.000   Jarque-Bera (JB):            54376.585\n",
      "Skew:                           0.683   Prob(JB):                         0.00\n",
      "Kurtosis:                       5.163   Cond. No.                     8.82e+03\n",
      "==============================================================================\n",
      "\n",
      "Warnings:\n",
      "[1] Standard Errors assume that the covariance matrix of the errors is correctly specified.\n",
      "[2] The condition number is large, 8.82e+03. This might indicate that there are\n",
      "strong multicollinearity or other numerical problems.\n",
      "\n",
      "\n",
      "\n",
      "========================================================================================================================\n",
      "Fields:  ['all071', 'cap801', 'ale071', 'rtr002', 'ale403', 'rev550']\n",
      "RMSE:  0.362456200194\n",
      "========================================================================================================================\n",
      "\n",
      "\n",
      "                            OLS Regression Results                            \n",
      "==============================================================================\n",
      "Dep. Variable:          simple_return   R-squared:                       0.536\n",
      "Model:                            OLS   Adj. R-squared:                  0.536\n",
      "Method:                 Least Squares   F-statistic:                 2.299e+04\n",
      "Date:                Tue, 08 Nov 2016   Prob (F-statistic):               0.00\n",
      "Time:                        06:18:15   Log-Likelihood:                -12412.\n",
      "No. Observations:              199367   AIC:                         2.485e+04\n",
      "Df Residuals:                  199356   BIC:                         2.496e+04\n",
      "Df Model:                          10                                         \n",
      "Covariance Type:            nonrobust                                         \n",
      "=================================================================================\n",
      "                    coef    std err          t      P>|t|      [95.0% Conf. Int.]\n",
      "---------------------------------------------------------------------------------\n",
      "Intercept         0.0636      0.003     24.618      0.000         0.059     0.069\n",
      "C(term)[T.60]    -0.1503      0.001   -121.152      0.000        -0.153    -0.148\n",
      "age_in_months     0.0273   6.07e-05    450.301      0.000         0.027     0.027\n",
      "borrower_rate     0.4195      0.011     37.934      0.000         0.398     0.441\n",
      "payment       -4.566e-05    2.5e-06    -18.234      0.000     -5.06e-05 -4.07e-05\n",
      "all071            0.0012   8.51e-05     14.551      0.000         0.001     0.001\n",
      "cap801            0.0066      0.001      5.277      0.000         0.004     0.009\n",
      "ale071            0.0029      0.000      9.219      0.000         0.002     0.003\n",
      "rtr002           -0.0013      0.000     -7.021      0.000        -0.002    -0.001\n",
      "ale403         8.403e-05   1.87e-05      4.489      0.000      4.73e-05     0.000\n",
      "rev550            0.0002   6.86e-06     22.674      0.000         0.000     0.000\n",
      "==============================================================================\n",
      "Omnibus:                    22809.811   Durbin-Watson:                   1.949\n",
      "Prob(Omnibus):                  0.000   Jarque-Bera (JB):            54358.176\n",
      "Skew:                           0.681   Prob(JB):                         0.00\n",
      "Kurtosis:                       5.166   Cond. No.                     8.82e+03\n",
      "==============================================================================\n",
      "\n",
      "Warnings:\n",
      "[1] Standard Errors assume that the covariance matrix of the errors is correctly specified.\n",
      "[2] The condition number is large, 8.82e+03. This might indicate that there are\n",
      "strong multicollinearity or other numerical problems.\n",
      "\n",
      "\n",
      "\n",
      "========================================================================================================================\n",
      "Fields:  ['all146', 'all071', 'cap801', 'ale071', 'rtr002', 'ale403', 'rev550']\n",
      "RMSE:  0.36246721262\n",
      "========================================================================================================================\n",
      "\n",
      "\n",
      "                            OLS Regression Results                            \n",
      "==============================================================================\n",
      "Dep. Variable:          simple_return   R-squared:                       0.536\n",
      "Model:                            OLS   Adj. R-squared:                  0.536\n",
      "Method:                 Least Squares   F-statistic:                 2.092e+04\n",
      "Date:                Tue, 08 Nov 2016   Prob (F-statistic):               0.00\n",
      "Time:                        06:18:15   Log-Likelihood:                -12359.\n",
      "No. Observations:              199367   AIC:                         2.474e+04\n",
      "Df Residuals:                  199355   BIC:                         2.486e+04\n",
      "Df Model:                          11                                         \n",
      "Covariance Type:            nonrobust                                         \n",
      "=================================================================================\n",
      "                    coef    std err          t      P>|t|      [95.0% Conf. Int.]\n",
      "---------------------------------------------------------------------------------\n",
      "Intercept         0.0619      0.003     23.899      0.000         0.057     0.067\n",
      "C(term)[T.60]    -0.1498      0.001   -120.623      0.000        -0.152    -0.147\n",
      "age_in_months     0.0273   6.07e-05    449.950      0.000         0.027     0.027\n",
      "borrower_rate     0.4049      0.011     36.329      0.000         0.383     0.427\n",
      "payment       -4.248e-05   2.52e-06    -16.845      0.000     -4.74e-05 -3.75e-05\n",
      "all146            0.0150      0.001     10.347      0.000         0.012     0.018\n",
      "all071            0.0013   8.56e-05     15.660      0.000         0.001     0.002\n",
      "cap801            0.0058      0.001      4.681      0.000         0.003     0.008\n",
      "ale071            0.0026      0.000      8.406      0.000         0.002     0.003\n",
      "rtr002           -0.0016      0.000     -8.379      0.000        -0.002    -0.001\n",
      "ale403         8.489e-05   1.87e-05      4.536      0.000      4.82e-05     0.000\n",
      "rev550            0.0002   6.86e-06     22.317      0.000         0.000     0.000\n",
      "==============================================================================\n",
      "Omnibus:                    22834.852   Durbin-Watson:                   1.949\n",
      "Prob(Omnibus):                  0.000   Jarque-Bera (JB):            54349.650\n",
      "Skew:                           0.682   Prob(JB):                         0.00\n",
      "Kurtosis:                       5.164   Cond. No.                     8.89e+03\n",
      "==============================================================================\n",
      "\n",
      "Warnings:\n",
      "[1] Standard Errors assume that the covariance matrix of the errors is correctly specified.\n",
      "[2] The condition number is large, 8.89e+03. This might indicate that there are\n",
      "strong multicollinearity or other numerical problems.\n",
      "\n",
      "\n",
      "\n",
      "========================================================================================================================\n",
      "Fields:  ['all146', 'all071', 'cap801', 'ale071', 'all005', 'rtr002', 'ale403', 'rev550']\n",
      "RMSE:  0.362465710232\n",
      "========================================================================================================================\n",
      "\n",
      "\n",
      "                            OLS Regression Results                            \n",
      "==============================================================================\n",
      "Dep. Variable:          simple_return   R-squared:                       0.536\n",
      "Model:                            OLS   Adj. R-squared:                  0.536\n",
      "Method:                 Least Squares   F-statistic:                 1.919e+04\n",
      "Date:                Tue, 08 Nov 2016   Prob (F-statistic):               0.00\n",
      "Time:                        06:18:15   Log-Likelihood:                -12328.\n",
      "No. Observations:              199367   AIC:                         2.468e+04\n",
      "Df Residuals:                  199354   BIC:                         2.481e+04\n",
      "Df Model:                          12                                         \n",
      "Covariance Type:            nonrobust                                         \n",
      "=================================================================================\n",
      "                    coef    std err          t      P>|t|      [95.0% Conf. Int.]\n",
      "---------------------------------------------------------------------------------\n",
      "Intercept         0.0613      0.003     23.667      0.000         0.056     0.066\n",
      "C(term)[T.60]    -0.1492      0.001   -119.997      0.000        -0.152    -0.147\n",
      "age_in_months     0.0273   6.07e-05    449.750      0.000         0.027     0.027\n",
      "borrower_rate     0.3935      0.011     35.013      0.000         0.371     0.416\n",
      "payment       -4.166e-05   2.52e-06    -16.507      0.000     -4.66e-05 -3.67e-05\n",
      "all146            0.0100      0.002      6.324      0.000         0.007     0.013\n",
      "all071           -0.0004      0.000     -1.780      0.075        -0.001  4.33e-05\n",
      "cap801            0.0054      0.001      4.352      0.000         0.003     0.008\n",
      "ale071            0.0025      0.000      7.928      0.000         0.002     0.003\n",
      "all005            0.0018      0.000      7.868      0.000         0.001     0.002\n",
      "rtr002           -0.0019      0.000     -9.760      0.000        -0.002    -0.001\n",
      "ale403         8.786e-05   1.87e-05      4.695      0.000      5.12e-05     0.000\n",
      "rev550            0.0002   6.86e-06     22.438      0.000         0.000     0.000\n",
      "==============================================================================\n",
      "Omnibus:                    22886.130   Durbin-Watson:                   1.950\n",
      "Prob(Omnibus):                  0.000   Jarque-Bera (JB):            54368.005\n",
      "Skew:                           0.684   Prob(JB):                         0.00\n",
      "Kurtosis:                       5.162   Cond. No.                     8.97e+03\n",
      "==============================================================================\n",
      "\n",
      "Warnings:\n",
      "[1] Standard Errors assume that the covariance matrix of the errors is correctly specified.\n",
      "[2] The condition number is large, 8.97e+03. This might indicate that there are\n",
      "strong multicollinearity or other numerical problems.\n",
      "\n",
      "\n",
      "\n",
      "========================================================================================================================\n",
      "Fields:  ['all071', 'cap801', 'ale071', 'all005', 'rtr002', 'ale403', 'rev550']\n",
      "RMSE:  0.362459699342\n",
      "========================================================================================================================\n",
      "\n",
      "\n",
      "                            OLS Regression Results                            \n",
      "==============================================================================\n",
      "Dep. Variable:          simple_return   R-squared:                       0.536\n",
      "Model:                            OLS   Adj. R-squared:                  0.536\n",
      "Method:                 Least Squares   F-statistic:                 2.092e+04\n",
      "Date:                Tue, 08 Nov 2016   Prob (F-statistic):               0.00\n",
      "Time:                        06:18:15   Log-Likelihood:                -12348.\n",
      "No. Observations:              199367   AIC:                         2.472e+04\n",
      "Df Residuals:                  199355   BIC:                         2.484e+04\n",
      "Df Model:                          11                                         \n",
      "Covariance Type:            nonrobust                                         \n",
      "=================================================================================\n",
      "                    coef    std err          t      P>|t|      [95.0% Conf. Int.]\n",
      "---------------------------------------------------------------------------------\n",
      "Intercept         0.0621      0.003     23.996      0.000         0.057     0.067\n",
      "C(term)[T.60]    -0.1493      0.001   -120.108      0.000        -0.152    -0.147\n",
      "age_in_months     0.0273   6.07e-05    449.883      0.000         0.027     0.027\n",
      "borrower_rate     0.3980      0.011     35.480      0.000         0.376     0.420\n",
      "payment       -4.317e-05   2.51e-06    -17.180      0.000     -4.81e-05 -3.82e-05\n",
      "all071           -0.0011      0.000     -4.819      0.000        -0.001    -0.001\n",
      "cap801            0.0057      0.001      4.579      0.000         0.003     0.008\n",
      "ale071            0.0026      0.000      8.228      0.000         0.002     0.003\n",
      "all005            0.0024      0.000     11.357      0.000         0.002     0.003\n",
      "rtr002           -0.0018      0.000     -9.484      0.000        -0.002    -0.001\n",
      "ale403         8.834e-05   1.87e-05      4.720      0.000      5.17e-05     0.000\n",
      "rev550            0.0002   6.85e-06     22.687      0.000         0.000     0.000\n",
      "==============================================================================\n",
      "Omnibus:                    22887.755   Durbin-Watson:                   1.950\n",
      "Prob(Omnibus):                  0.000   Jarque-Bera (JB):            54377.103\n",
      "Skew:                           0.684   Prob(JB):                         0.00\n",
      "Kurtosis:                       5.163   Cond. No.                     8.96e+03\n",
      "==============================================================================\n",
      "\n",
      "Warnings:\n",
      "[1] Standard Errors assume that the covariance matrix of the errors is correctly specified.\n",
      "[2] The condition number is large, 8.96e+03. This might indicate that there are\n",
      "strong multicollinearity or other numerical problems.\n",
      "\n",
      "\n",
      "\n"
     ]
    }
   ],
   "source": [
    "for row in top_aug:\n",
    "    print '='*120\n",
    "    print 'Fields: ', row[0]\n",
    "    print 'RMSE: ', row[1]\n",
    "    print '='*120\n",
    "    print '\\n'\n",
    "    print row[2].summary()\n",
    "    print '\\n\\n'"
   ]
  }
 ],
 "metadata": {
  "kernelspec": {
   "display_name": "Python 2",
   "language": "python",
   "name": "python2"
  },
  "language_info": {
   "codemirror_mode": {
    "name": "ipython",
    "version": 2
   },
   "file_extension": ".py",
   "mimetype": "text/x-python",
   "name": "python",
   "nbconvert_exporter": "python",
   "pygments_lexer": "ipython2",
   "version": "2.7.12"
  }
 },
 "nbformat": 4,
 "nbformat_minor": 1
}
