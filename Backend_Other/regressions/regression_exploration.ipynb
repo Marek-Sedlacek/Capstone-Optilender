{
 "cells": [
  {
   "cell_type": "markdown",
   "metadata": {},
   "source": [
    "## Regression Exploration"
   ]
  },
  {
   "cell_type": "code",
   "execution_count": 1,
   "metadata": {
    "collapsed": true
   },
   "outputs": [],
   "source": [
    "import os\n",
    "import copy\n",
    "import pickle as pk\n",
    "from collections import Counter\n",
    "import itertools as it\n",
    "import sqlalchemy as sql\n",
    "import pandas as pd\n",
    "import numpy as np\n",
    "import statsmodels.formula.api as smf\n",
    "import statsmodels.api as sm"
   ]
  },
  {
   "cell_type": "code",
   "execution_count": null,
   "metadata": {
    "collapsed": true
   },
   "outputs": [],
   "source": [
    "#==============================================================================\n",
    "# setup\n",
    "#=============================================================================="
   ]
  },
  {
   "cell_type": "code",
   "execution_count": 3,
   "metadata": {
    "collapsed": false
   },
   "outputs": [],
   "source": [
    "#db connection\n",
    "creds = '<creds>'\n",
    "eng = sql.create_engine('postgresql://%s@localhost:5432/p2p_lending' %creds)\n",
    "eng = eng.connect()"
   ]
  },
  {
   "cell_type": "code",
   "execution_count": null,
   "metadata": {
    "collapsed": true
   },
   "outputs": [],
   "source": [
    "#dataframe for outputs\n",
    "months3 = np.array([[i]*5 for i in range(1,61)]).flatten()\n",
    "months6 = np.array([[i]*5 for i in range(1,37)]).flatten()\n",
    "vrs = ['pvalue','R_squared','coef','conf_low','conf_high']\n",
    "variables3 = np.array(vrs*60)\n",
    "variables6 = np.array(vrs*36)\n",
    "mindex3 = pd.MultiIndex.from_tuples(zip(months3,variables3), names=['month', 'var'])\n",
    "mindex6 = pd.MultiIndex.from_tuples(zip(months6,variables6), names=['month', 'var'])\n",
    "regouts3 = pd.DataFrame(columns=mindex3, index=[])\n",
    "regouts6 = pd.DataFrame(columns=mindex6, index=[])"
   ]
  },
  {
   "cell_type": "code",
   "execution_count": null,
   "metadata": {
    "collapsed": true
   },
   "outputs": [],
   "source": [
    "#series for pointers to raw output\n",
    "raw_out3 = pd.Series()\n",
    "raw_out6 = pd.Series()\n",
    "\n",
    "#columns to iterate over\n",
    "cols = pd.read_sql('select * from p2p_lending limit 1', con=eng).columns\n",
    "cols = [c for c in cols if 'date' not in c]\n"
   ]
  },
  {
   "cell_type": "code",
   "execution_count": null,
   "metadata": {
    "collapsed": true
   },
   "outputs": [],
   "source": [
    "#==============================================================================\n",
    "# iteration\n",
    "#==============================================================================\n",
    "class Reg(object):\n",
    "    def __init__(self, df, col):\n",
    "        self.categorical = 0\n",
    "        if self._chk_cat(df,col):\n",
    "            self.categorical = 1\n",
    "        formula = ('simple_return ~ C(%s)' %col if self.categorical \n",
    "                        else 'simple_return ~ %s' %col) \n",
    "        self.model = smf.ols(formula=formula, data=df, missing='drop')\n",
    "        return\n",
    "        \n",
    "    def _chk_cat(self,df,col,max_cat=20):\n",
    "        '''check if column is categorical'''\n",
    "        return 1 if (len(pd.unique(df[col])) < max_cat or df[col].dtype=str) else 0\n",
    "    \n",
    "    def get_outputs(self):\n",
    "        outputs = pd.DataFrame(self.model.pvalues, columns=['pvalue'])\n",
    "        outputs['rsquared'] = self.model.rsquared\n",
    "        outputs['coef'] = self.model.params\n",
    "        outputs['conf_low'] = self.model.conf_int()[0]\n",
    "        outputs['conf_high'] = self.model.conf_int()[1]        \n",
    "        del outputs['Intercept']\n",
    "        return outputs\n",
    "\n",
    "    def get_model_out(self):\n",
    "        return copy.deepcopy(self.model)\n",
    "\n",
    "for col in cols:\n",
    "    for m in xrange(1,37):\n",
    "        stmt3 = \"select simple_return,%s from p2p_lending where age_in_months=%s and term=36\" %(col,m)\n",
    "        df = pd.read_sql(stmt3, con=eng)\n",
    "        reg = Reg(df,col)\n",
    "        outpts3 = reg.get_outputs()\n",
    "        if m == 1:\n",
    "            out_rows3 = pd.DataFrame(columns=mindex3, \n",
    "                                   data=np.matrix([[0]*len(mindex3)]*len(outpts3)))\n",
    "        out_rows3[m] = outpts3\n",
    "    regouts3.append(out_rows3)\n",
    "    raw_out3[col] = reg.get_model_out()\n",
    "    for m in xrange(1,61):\n",
    "        stmt6 = \"select simple_return,%s from p2p_lending where age_in_months=%s and term=60\" %(col,m)\n",
    "        df = pd.read_sql(stmt6, con=eng)\n",
    "        reg = Reg(df,col)\n",
    "        outpts6 = reg.get_outputs()\n",
    "        if m == 1:\n",
    "            out_rows6 = pd.DataFrame(columns=mindex6, \n",
    "                                   data=np.matrix([[0]*len(mindex6)]*len(outpts6)))        \n",
    "        out_rows6[m] = outpts6\n",
    "    regouts6.append(out_rows6)\n",
    "    raw_out6[col] = reg.get_model_out()"
   ]
  },
  {
   "cell_type": "code",
   "execution_count": null,
   "metadata": {
    "collapsed": true
   },
   "outputs": [],
   "source": [
    "        \n",
    "#==============================================================================\n",
    "# analyze results\n",
    "#==============================================================================\n",
    "#top p-values\n",
    "#end of month        \n",
    "pval_sorted3 = regouts3.sort_values(by=[(36,'pvalue')])\n",
    "print 'End of term top fields (by pvalue)'\n",
    "print pval_sorted3.head(30)\n",
    "\n",
    "pval_sorted6 = regouts6.sort_values(by=[(60,'pvalue')])\n",
    "print 'End of term top fields (by pvalue)'\n",
    "print pval_sorted6.head(30)\n",
    "\n",
    "#all months\n",
    "topp3 = Counter()\n",
    "for month in xrange(1,37):\n",
    "    pval_sorted3 = regouts3.sort_values(by=[(month,'pvalue')])\n",
    "    topp3 += Counter(pval_sorted3.head(50).index)\n",
    "print topp3\n",
    "\n",
    "topp6 = Counter()\n",
    "for month in xrange(1,61):\n",
    "    pval_sorted6 = regouts6.sort_values(by=[(month,'pvalue')])\n",
    "    topp6 += Counter(pval_sorted6.head(50).index)\n",
    "print topp6\n",
    "\n",
    "#top R-squared\n",
    "for month in xrange(1,37):\n",
    "    regouts3[month].sort_values(by=[(month,'rsquared')], ascending=False).head(30)\n",
    "for month in xrange(1,61):\n",
    "    regouts6[month].sort_values(by=[(month,'rsquared')], ascending=False).head(30)"
   ]
  },
  {
   "cell_type": "code",
   "execution_count": null,
   "metadata": {
    "collapsed": true
   },
   "outputs": [],
   "source": [
    "#==============================================================================\n",
    "# Manually inspect top 100 pvalue columns\n",
    "#==============================================================================\n",
    "print topp.most_common(50)"
   ]
  },
  {
   "cell_type": "code",
   "execution_count": null,
   "metadata": {
    "collapsed": true
   },
   "outputs": [],
   "source": [
    "#==============================================================================\n",
    "# choose top 50 for regression analysis based on R-squared, pval, and coefficient\n",
    "#==============================================================================\n",
    "#delete misfit fields"
   ]
  }
 ],
 "metadata": {
  "kernelspec": {
   "display_name": "Python 2",
   "language": "python",
   "name": "python2"
  },
  "language_info": {
   "codemirror_mode": {
    "name": "ipython",
    "version": 2
   },
   "file_extension": ".py",
   "mimetype": "text/x-python",
   "name": "python",
   "nbconvert_exporter": "python",
   "pygments_lexer": "ipython2",
   "version": "2.7.12"
  }
 },
 "nbformat": 4,
 "nbformat_minor": 1
}
