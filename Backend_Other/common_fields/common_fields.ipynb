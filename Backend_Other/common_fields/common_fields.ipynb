{
 "cells": [
  {
   "cell_type": "markdown",
   "metadata": {},
   "source": [
    "## Common Fields"
   ]
  },
  {
   "cell_type": "markdown",
   "metadata": {},
   "source": [
    "This script investigates common fields in the loans and listings data from Prosper. There are 500+ fields, but many of them are missing, because they do not always apply to the application. Here, I identify 88 variables which are present in at least 95% of the data records. \n",
    "\n",
    "The idea is that models built on these fields will be useful in evaluating most loan listings; while there may be better fields for evaluating special cases, which we can investigate elsewhere. "
   ]
  },
  {
   "cell_type": "code",
   "execution_count": 3,
   "metadata": {
    "collapsed": true
   },
   "outputs": [],
   "source": [
    "import pandas as pd\n",
    "from db_conn import DBConn"
   ]
  },
  {
   "cell_type": "code",
   "execution_count": 4,
   "metadata": {
    "collapsed": true
   },
   "outputs": [],
   "source": [
    "#setup connection to db\n",
    "con = DBConn(<db creds>)    #need to fill in\n",
    "con = con.connect()"
   ]
  },
  {
   "cell_type": "code",
   "execution_count": 7,
   "metadata": {
    "collapsed": false
   },
   "outputs": [],
   "source": [
    "data = pd.read_sql('select * from merged_train where term<>12', con)"
   ]
  },
  {
   "cell_type": "code",
   "execution_count": 37,
   "metadata": {
    "collapsed": false
   },
   "outputs": [],
   "source": [
    "cnts = data.count().sort_values(ascending=False)\n",
    "common_fields = cnts[cnts >= len(data)*.99]"
   ]
  },
  {
   "cell_type": "code",
   "execution_count": 38,
   "metadata": {
    "collapsed": false
   },
   "outputs": [
    {
     "data": {
      "text/plain": [
       "106"
      ]
     },
     "execution_count": 38,
     "metadata": {},
     "output_type": "execute_result"
    }
   ],
   "source": [
    "len(common_fields)"
   ]
  },
  {
   "cell_type": "code",
   "execution_count": 39,
   "metadata": {
    "collapsed": true
   },
   "outputs": [],
   "source": [
    "pd.options.display.max_rows = 200"
   ]
  },
  {
   "cell_type": "code",
   "execution_count": 40,
   "metadata": {
    "collapsed": false,
    "scrolled": true
   },
   "outputs": [
    {
     "data": {
      "text/plain": [
       "loan_number                      232261\n",
       "service_fees_paid                232261\n",
       "simple_return                    232261\n",
       "payment                          232261\n",
       "next_payment_due_amount          232261\n",
       "loan_status_description          232261\n",
       "debt_sale_proceeds_received      232261\n",
       "late_fees_paid                   232261\n",
       "prosper_fees_paid                232261\n",
       "interest_paid                    232261\n",
       "principal_paid                   232261\n",
       "loan_status                      232261\n",
       "principal_balance                232261\n",
       "origination_date                 232261\n",
       "age_in_months                    232261\n",
       "term                             232261\n",
       "prosper_rating                   232261\n",
       "borrower_rate                    232261\n",
       "amount_borrowed                  232261\n",
       "analysis_class                   232261\n",
       "days_past_due                    232261\n",
       "next_payment_due_date            231073\n",
       "income_range_description         231070\n",
       "effective_yield                  231070\n",
       "borrower_apr                     231070\n",
       "listing_monthly_payment          231070\n",
       "listing_category_id              231070\n",
       "income_range                     231070\n",
       "prior_prosper_loans_active       231070\n",
       "stated_monthly_income            231070\n",
       "income_verifiable                231070\n",
       "dti_wprosper_loan                231070\n",
       "employment_status_description    231070\n",
       "estimated_loss_rate              231070\n",
       "lender_yield                     231070\n",
       "listing_number                   231070\n",
       "estimated_return                 231070\n",
       "partial_funding_indicator        231070\n",
       "percent_funded                   231070\n",
       "amount_remaining                 231070\n",
       "amount_funded                    231070\n",
       "listing_status_reason            231070\n",
       "listing_status                   231070\n",
       "listing_creation_date            231070\n",
       "listing_start_date               231070\n",
       "credit_pull_date                 231070\n",
       "lender_indicator                 231070\n",
       "member_key                       231070\n",
       "prior_prosper_loans              231070\n",
       "last_updated_date                231070\n",
       "total_inquiries                  231070\n",
       "delinquencies_over60_days        231070\n",
       "total_trade_items                231070\n",
       "satisfactory_accounts            231070\n",
       "was_delinquent_derog             231070\n",
       "delinquencies_over30_days        231070\n",
       "now_delinquent_derog             231070\n",
       "delinquencies_over90_days        231070\n",
       "is_homeowner                     231070\n",
       "investment_typeid                231070\n",
       "investment_type_description      231070\n",
       "total_open_revolving_accounts    231070\n",
       "revolving_available_percent      231068\n",
       "revolving_balance                231068\n",
       "funding_threshold                231066\n",
       "bac026                           231064\n",
       "all052                           231064\n",
       "iln201                           231064\n",
       "all021                           231064\n",
       "all208                           231064\n",
       "all051                           231064\n",
       "all084                           231064\n",
       "all901                           231064\n",
       "all141                           231064\n",
       "rep002                           231064\n",
       "all062                           231064\n",
       "rev201                           231064\n",
       "all701                           231064\n",
       "bac403                           231064\n",
       "all064                           231064\n",
       "bac401                           231064\n",
       "all142                           231064\n",
       "all001                           231064\n",
       "all081                           231064\n",
       "all026                           231064\n",
       "all201                           231064\n",
       "all207                           231064\n",
       "all806                           231064\n",
       "ref001                           231064\n",
       "public_records_last10_years      231062\n",
       "credit_lines_last7_years         231062\n",
       "first_recorded_credit_line       231062\n",
       "inquiries_last6_months           231062\n",
       "current_delinquencies            231062\n",
       "delinquencies_last7_years        231062\n",
       "monthly_debt                     231062\n",
       "public_records_last12_months     231038\n",
       "bankcard_utilization             231038\n",
       "open_credit_lines                231038\n",
       "current_credit_lines             231038\n",
       "amount_delinquent                231030\n",
       "prosper_score                    230960\n",
       "scorex                           230701\n",
       "borrower_state                   230339\n",
       "borrower_city                    230339\n",
       "listing_end_date                 230299\n",
       "dtype: int64"
      ]
     },
     "execution_count": 40,
     "metadata": {},
     "output_type": "execute_result"
    }
   ],
   "source": [
    "common_fields    #present 95% of the time"
   ]
  },
  {
   "cell_type": "code",
   "execution_count": 28,
   "metadata": {
    "collapsed": true
   },
   "outputs": [],
   "source": [
    "#get listings fields only\n",
    "listings_fields = pd.read_sql('select * from listings limit 1', con).columns"
   ]
  },
  {
   "cell_type": "code",
   "execution_count": 29,
   "metadata": {
    "collapsed": false
   },
   "outputs": [],
   "source": [
    "common_listing_fields = common_fields[common_fields.index.intersection(listings_fields)]"
   ]
  },
  {
   "cell_type": "code",
   "execution_count": 41,
   "metadata": {
    "collapsed": false,
    "scrolled": false
   },
   "outputs": [
    {
     "data": {
      "text/plain": [
       "prosper_rating                   232261\n",
       "borrower_rate                    232261\n",
       "last_updated_date                231070\n",
       "effective_yield                  231070\n",
       "prior_prosper_loans              231070\n",
       "prior_prosper_loans_active       231070\n",
       "employment_status_description    231070\n",
       "dti_wprosper_loan                231070\n",
       "income_verifiable                231070\n",
       "stated_monthly_income            231070\n",
       "income_range_description         231070\n",
       "income_range                     231070\n",
       "listing_category_id              231070\n",
       "listing_monthly_payment          231070\n",
       "borrower_apr                     231070\n",
       "lender_yield                     231070\n",
       "investment_type_description      231070\n",
       "estimated_loss_rate              231070\n",
       "estimated_return                 231070\n",
       "partial_funding_indicator        231070\n",
       "percent_funded                   231070\n",
       "amount_remaining                 231070\n",
       "amount_funded                    231070\n",
       "listing_status_reason            231070\n",
       "listing_status                   231070\n",
       "listing_creation_date            231070\n",
       "listing_start_date               231070\n",
       "credit_pull_date                 231070\n",
       "listing_number                   231070\n",
       "lender_indicator                 231070\n",
       "member_key                       231070\n",
       "satisfactory_accounts            231070\n",
       "investment_typeid                231070\n",
       "is_homeowner                     231070\n",
       "delinquencies_over90_days        231070\n",
       "delinquencies_over60_days        231070\n",
       "delinquencies_over30_days        231070\n",
       "was_delinquent_derog             231070\n",
       "now_delinquent_derog             231070\n",
       "total_trade_items                231070\n",
       "total_inquiries                  231070\n",
       "total_open_revolving_accounts    231070\n",
       "revolving_available_percent      231068\n",
       "revolving_balance                231068\n",
       "funding_threshold                231066\n",
       "iln201                           231064\n",
       "all084                           231064\n",
       "ref001                           231064\n",
       "all001                           231064\n",
       "rev201                           231064\n",
       "all081                           231064\n",
       "all021                           231064\n",
       "all026                           231064\n",
       "all064                           231064\n",
       "rep002                           231064\n",
       "all141                           231064\n",
       "all142                           231064\n",
       "all201                           231064\n",
       "all207                           231064\n",
       "all208                           231064\n",
       "all701                           231064\n",
       "all052                           231064\n",
       "all806                           231064\n",
       "all901                           231064\n",
       "bac026                           231064\n",
       "bac401                           231064\n",
       "bac403                           231064\n",
       "all051                           231064\n",
       "all062                           231064\n",
       "delinquencies_last7_years        231062\n",
       "first_recorded_credit_line       231062\n",
       "monthly_debt                     231062\n",
       "current_delinquencies            231062\n",
       "public_records_last10_years      231062\n",
       "inquiries_last6_months           231062\n",
       "credit_lines_last7_years         231062\n",
       "bankcard_utilization             231038\n",
       "current_credit_lines             231038\n",
       "public_records_last12_months     231038\n",
       "open_credit_lines                231038\n",
       "amount_delinquent                231030\n",
       "prosper_score                    230960\n",
       "scorex                           230701\n",
       "borrower_state                   230339\n",
       "borrower_city                    230339\n",
       "listing_end_date                 230299\n",
       "installment_balance              225462\n",
       "months_employed                  225223\n",
       "dtype: int64"
      ]
     },
     "execution_count": 41,
     "metadata": {},
     "output_type": "execute_result"
    }
   ],
   "source": [
    "common_listing_fields.sort_values(ascending=False)"
   ]
  },
  {
   "cell_type": "code",
   "execution_count": 42,
   "metadata": {
    "collapsed": false
   },
   "outputs": [
    {
     "data": {
      "text/plain": [
       "88"
      ]
     },
     "execution_count": 42,
     "metadata": {},
     "output_type": "execute_result"
    }
   ],
   "source": [
    "len(common_listing_fields)"
   ]
  },
  {
   "cell_type": "code",
   "execution_count": 33,
   "metadata": {
    "collapsed": true
   },
   "outputs": [],
   "source": [
    "common_listing_fields.to_pickle('common_listing_fields.pkl')\n",
    "common_listing_fields.to_csv('common_listing_fields.csv')"
   ]
  }
 ],
 "metadata": {
  "kernelspec": {
   "display_name": "Python 2",
   "language": "python",
   "name": "python2"
  },
  "language_info": {
   "codemirror_mode": {
    "name": "ipython",
    "version": 2
   },
   "file_extension": ".py",
   "mimetype": "text/x-python",
   "name": "python",
   "nbconvert_exporter": "python",
   "pygments_lexer": "ipython2",
   "version": "2.7.12"
  }
 },
 "nbformat": 4,
 "nbformat_minor": 1
}
