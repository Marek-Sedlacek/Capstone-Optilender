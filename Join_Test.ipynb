{
 "cells": [
  {
   "cell_type": "code",
   "execution_count": 12,
   "metadata": {
    "collapsed": true
   },
   "outputs": [],
   "source": [
    "import pandas as pd\n",
    "import numpy as np\n",
    "pd.options.mode.chained_assignment = None  # default='warn'"
   ]
  },
  {
   "cell_type": "markdown",
   "metadata": {},
   "source": [
    "### Read in Data"
   ]
  },
  {
   "cell_type": "code",
   "execution_count": 2,
   "metadata": {
    "collapsed": false
   },
   "outputs": [],
   "source": [
    "Loans_2015 = pd.read_csv(\"Loans/Loans_20150101to20160101_20160918T060025.csv\")"
   ]
  },
  {
   "cell_type": "code",
   "execution_count": 20,
   "metadata": {
    "collapsed": false
   },
   "outputs": [
    {
     "name": "stderr",
     "output_type": "stream",
     "text": [
      "C:\\Users\\MarekSedlacek\\Anaconda\\lib\\site-packages\\IPython\\core\\interactiveshell.py:2902: DtypeWarning: Columns (535) have mixed types. Specify dtype option on import or set low_memory=False.\n",
      "  interactivity=interactivity, compiler=compiler, result=result)\n"
     ]
    }
   ],
   "source": [
    "Listings_2015 = pd.read_csv(\"Listings/Listings_20150101to20160101_20160906T060543.csv\")"
   ]
  },
  {
   "cell_type": "code",
   "execution_count": 3,
   "metadata": {
    "collapsed": false
   },
   "outputs": [
    {
     "name": "stdout",
     "output_type": "stream",
     "text": [
      "265031\n"
     ]
    },
    {
     "data": {
      "text/html": [
       "<div>\n",
       "<table border=\"1\" class=\"dataframe\">\n",
       "  <thead>\n",
       "    <tr style=\"text-align: right;\">\n",
       "      <th></th>\n",
       "      <th>loan_number</th>\n",
       "      <th>amount_borrowed</th>\n",
       "      <th>borrower_rate</th>\n",
       "      <th>prosper_rating</th>\n",
       "      <th>term</th>\n",
       "      <th>age_in_months</th>\n",
       "      <th>origination_date</th>\n",
       "      <th>days_past_due</th>\n",
       "      <th>principal_balance</th>\n",
       "      <th>service_fees_paid</th>\n",
       "      <th>...</th>\n",
       "      <th>interest_paid</th>\n",
       "      <th>prosper_fees_paid</th>\n",
       "      <th>late_fees_paid</th>\n",
       "      <th>debt_sale_proceeds_received</th>\n",
       "      <th>loan_status</th>\n",
       "      <th>loan_status_description</th>\n",
       "      <th>loan_default_reason</th>\n",
       "      <th>loan_default_reason_description</th>\n",
       "      <th>next_payment_due_date</th>\n",
       "      <th>next_payment_due_amount</th>\n",
       "    </tr>\n",
       "  </thead>\n",
       "  <tbody>\n",
       "    <tr>\n",
       "      <th>0</th>\n",
       "      <td>254354</td>\n",
       "      <td>12000</td>\n",
       "      <td>0.1526</td>\n",
       "      <td>C</td>\n",
       "      <td>60</td>\n",
       "      <td>20</td>\n",
       "      <td>2015-01-02 00:00:00</td>\n",
       "      <td>0</td>\n",
       "      <td>0.00</td>\n",
       "      <td>-165.35</td>\n",
       "      <td>...</td>\n",
       "      <td>2523.14</td>\n",
       "      <td>0</td>\n",
       "      <td>0</td>\n",
       "      <td>0</td>\n",
       "      <td>4</td>\n",
       "      <td>COMPLETED</td>\n",
       "      <td>NaN</td>\n",
       "      <td>NaN</td>\n",
       "      <td>2016-09-02 00:00:00</td>\n",
       "      <td>0.00</td>\n",
       "    </tr>\n",
       "    <tr>\n",
       "      <th>1</th>\n",
       "      <td>254357</td>\n",
       "      <td>25000</td>\n",
       "      <td>0.1736</td>\n",
       "      <td>C</td>\n",
       "      <td>60</td>\n",
       "      <td>20</td>\n",
       "      <td>2015-01-02 00:00:00</td>\n",
       "      <td>0</td>\n",
       "      <td>18917.67</td>\n",
       "      <td>-371.00</td>\n",
       "      <td>...</td>\n",
       "      <td>6440.87</td>\n",
       "      <td>0</td>\n",
       "      <td>0</td>\n",
       "      <td>0</td>\n",
       "      <td>1</td>\n",
       "      <td>CURRENT</td>\n",
       "      <td>NaN</td>\n",
       "      <td>NaN</td>\n",
       "      <td>2016-10-02 00:00:00</td>\n",
       "      <td>626.16</td>\n",
       "    </tr>\n",
       "    <tr>\n",
       "      <th>2</th>\n",
       "      <td>254360</td>\n",
       "      <td>6000</td>\n",
       "      <td>0.0819</td>\n",
       "      <td>A</td>\n",
       "      <td>36</td>\n",
       "      <td>20</td>\n",
       "      <td>2015-01-02 00:00:00</td>\n",
       "      <td>0</td>\n",
       "      <td>2848.64</td>\n",
       "      <td>-75.64</td>\n",
       "      <td>...</td>\n",
       "      <td>619.44</td>\n",
       "      <td>0</td>\n",
       "      <td>0</td>\n",
       "      <td>0</td>\n",
       "      <td>1</td>\n",
       "      <td>CURRENT</td>\n",
       "      <td>NaN</td>\n",
       "      <td>NaN</td>\n",
       "      <td>2016-10-02 00:00:00</td>\n",
       "      <td>188.54</td>\n",
       "    </tr>\n",
       "    <tr>\n",
       "      <th>3</th>\n",
       "      <td>254363</td>\n",
       "      <td>15000</td>\n",
       "      <td>0.1736</td>\n",
       "      <td>C</td>\n",
       "      <td>36</td>\n",
       "      <td>20</td>\n",
       "      <td>2015-01-02 00:00:00</td>\n",
       "      <td>0</td>\n",
       "      <td>7608.56</td>\n",
       "      <td>-194.31</td>\n",
       "      <td>...</td>\n",
       "      <td>3373.20</td>\n",
       "      <td>0</td>\n",
       "      <td>0</td>\n",
       "      <td>0</td>\n",
       "      <td>1</td>\n",
       "      <td>CURRENT</td>\n",
       "      <td>NaN</td>\n",
       "      <td>NaN</td>\n",
       "      <td>2016-10-02 00:00:00</td>\n",
       "      <td>537.48</td>\n",
       "    </tr>\n",
       "    <tr>\n",
       "      <th>4</th>\n",
       "      <td>254366</td>\n",
       "      <td>20000</td>\n",
       "      <td>0.0651</td>\n",
       "      <td>AA</td>\n",
       "      <td>36</td>\n",
       "      <td>20</td>\n",
       "      <td>2015-01-02 00:00:00</td>\n",
       "      <td>0</td>\n",
       "      <td>9370.97</td>\n",
       "      <td>-250.75</td>\n",
       "      <td>...</td>\n",
       "      <td>1632.37</td>\n",
       "      <td>0</td>\n",
       "      <td>0</td>\n",
       "      <td>0</td>\n",
       "      <td>1</td>\n",
       "      <td>CURRENT</td>\n",
       "      <td>NaN</td>\n",
       "      <td>NaN</td>\n",
       "      <td>2016-10-02 00:00:00</td>\n",
       "      <td>613.07</td>\n",
       "    </tr>\n",
       "  </tbody>\n",
       "</table>\n",
       "<p>5 rows × 21 columns</p>\n",
       "</div>"
      ],
      "text/plain": [
       "   loan_number  amount_borrowed  borrower_rate prosper_rating  term  \\\n",
       "0       254354            12000         0.1526              C    60   \n",
       "1       254357            25000         0.1736              C    60   \n",
       "2       254360             6000         0.0819              A    36   \n",
       "3       254363            15000         0.1736              C    36   \n",
       "4       254366            20000         0.0651             AA    36   \n",
       "\n",
       "   age_in_months     origination_date  days_past_due  principal_balance  \\\n",
       "0             20  2015-01-02 00:00:00              0               0.00   \n",
       "1             20  2015-01-02 00:00:00              0           18917.67   \n",
       "2             20  2015-01-02 00:00:00              0            2848.64   \n",
       "3             20  2015-01-02 00:00:00              0            7608.56   \n",
       "4             20  2015-01-02 00:00:00              0            9370.97   \n",
       "\n",
       "   service_fees_paid           ...            interest_paid  \\\n",
       "0            -165.35           ...                  2523.14   \n",
       "1            -371.00           ...                  6440.87   \n",
       "2             -75.64           ...                   619.44   \n",
       "3            -194.31           ...                  3373.20   \n",
       "4            -250.75           ...                  1632.37   \n",
       "\n",
       "   prosper_fees_paid  late_fees_paid  debt_sale_proceeds_received  \\\n",
       "0                  0               0                            0   \n",
       "1                  0               0                            0   \n",
       "2                  0               0                            0   \n",
       "3                  0               0                            0   \n",
       "4                  0               0                            0   \n",
       "\n",
       "   loan_status  loan_status_description loan_default_reason  \\\n",
       "0            4                COMPLETED                 NaN   \n",
       "1            1                  CURRENT                 NaN   \n",
       "2            1                  CURRENT                 NaN   \n",
       "3            1                  CURRENT                 NaN   \n",
       "4            1                  CURRENT                 NaN   \n",
       "\n",
       "   loan_default_reason_description next_payment_due_date  \\\n",
       "0                              NaN   2016-09-02 00:00:00   \n",
       "1                              NaN   2016-10-02 00:00:00   \n",
       "2                              NaN   2016-10-02 00:00:00   \n",
       "3                              NaN   2016-10-02 00:00:00   \n",
       "4                              NaN   2016-10-02 00:00:00   \n",
       "\n",
       "  next_payment_due_amount  \n",
       "0                    0.00  \n",
       "1                  626.16  \n",
       "2                  188.54  \n",
       "3                  537.48  \n",
       "4                  613.07  \n",
       "\n",
       "[5 rows x 21 columns]"
      ]
     },
     "execution_count": 3,
     "metadata": {},
     "output_type": "execute_result"
    }
   ],
   "source": [
    "print Loans_2015.shape[0]\n",
    "Loans_2015.head()"
   ]
  },
  {
   "cell_type": "code",
   "execution_count": 21,
   "metadata": {
    "collapsed": false,
    "scrolled": true
   },
   "outputs": [
    {
     "name": "stdout",
     "output_type": "stream",
     "text": [
      "373277\n"
     ]
    },
    {
     "data": {
      "text/html": [
       "<div>\n",
       "<table border=\"1\" class=\"dataframe\">\n",
       "  <thead>\n",
       "    <tr style=\"text-align: right;\">\n",
       "      <th></th>\n",
       "      <th>member_key</th>\n",
       "      <th>listing_number</th>\n",
       "      <th>credit_pull_date</th>\n",
       "      <th>listing_start_date</th>\n",
       "      <th>listing_end_date</th>\n",
       "      <th>listing_creation_date</th>\n",
       "      <th>loan_origination_date</th>\n",
       "      <th>listing_status</th>\n",
       "      <th>listing_status_reason</th>\n",
       "      <th>verification_stage</th>\n",
       "      <th>...</th>\n",
       "      <th>oldest_trade_open_date</th>\n",
       "      <th>delinquencies_over30_days</th>\n",
       "      <th>delinquencies_over60_days</th>\n",
       "      <th>delinquencies_over90_days</th>\n",
       "      <th>is_homeowner</th>\n",
       "      <th>investment_typeid</th>\n",
       "      <th>investment_type_description</th>\n",
       "      <th>whole_loan_start_date</th>\n",
       "      <th>whole_loan_end_date</th>\n",
       "      <th>last_updated_date</th>\n",
       "    </tr>\n",
       "  </thead>\n",
       "  <tbody>\n",
       "    <tr>\n",
       "      <th>0</th>\n",
       "      <td>E155373154549917550E92C</td>\n",
       "      <td>2210527</td>\n",
       "      <td>2014-12-14 09:03:30</td>\n",
       "      <td>2015-01-07 16:01:56.823000000</td>\n",
       "      <td>2015-01-07 16:02:07.490000000</td>\n",
       "      <td>2015-01-07 10:04:50.133000000</td>\n",
       "      <td>NaN</td>\n",
       "      <td>7</td>\n",
       "      <td>Cancelled</td>\n",
       "      <td>NaN</td>\n",
       "      <td>...</td>\n",
       "      <td>10131995</td>\n",
       "      <td>4</td>\n",
       "      <td>0</td>\n",
       "      <td>0</td>\n",
       "      <td>True</td>\n",
       "      <td>2</td>\n",
       "      <td>Whole</td>\n",
       "      <td>2015-01-07 15:50:28.107000000</td>\n",
       "      <td>NaN</td>\n",
       "      <td>2016-08-26 09:29:51</td>\n",
       "    </tr>\n",
       "    <tr>\n",
       "      <th>1</th>\n",
       "      <td>950737314342739832EFD29</td>\n",
       "      <td>2228492</td>\n",
       "      <td>2014-12-15 19:27:51</td>\n",
       "      <td>2015-01-05 17:00:58.580000000</td>\n",
       "      <td>2015-01-08 09:55:28.947000000</td>\n",
       "      <td>2015-01-05 08:51:04.123000000</td>\n",
       "      <td>2015-01-09 00:00:00</td>\n",
       "      <td>6</td>\n",
       "      <td>Completed</td>\n",
       "      <td>NaN</td>\n",
       "      <td>...</td>\n",
       "      <td>1171989</td>\n",
       "      <td>20</td>\n",
       "      <td>5</td>\n",
       "      <td>9</td>\n",
       "      <td>False</td>\n",
       "      <td>1</td>\n",
       "      <td>Fractional</td>\n",
       "      <td>2015-01-05 15:48:04.813000000</td>\n",
       "      <td>2015-01-05 16:45:05.543000000</td>\n",
       "      <td>2016-08-08 23:34:46.450000000</td>\n",
       "    </tr>\n",
       "    <tr>\n",
       "      <th>2</th>\n",
       "      <td>BA4837331484475463AEBBB</td>\n",
       "      <td>2195584</td>\n",
       "      <td>2014-12-16 11:20:08</td>\n",
       "      <td>2015-01-05 08:07:04.753000000</td>\n",
       "      <td>2015-01-05 08:22:59.717000000</td>\n",
       "      <td>2015-01-05 06:37:46.350000000</td>\n",
       "      <td>NaN</td>\n",
       "      <td>7</td>\n",
       "      <td>Cancelled</td>\n",
       "      <td>NaN</td>\n",
       "      <td>...</td>\n",
       "      <td>1102012</td>\n",
       "      <td>0</td>\n",
       "      <td>0</td>\n",
       "      <td>0</td>\n",
       "      <td>False</td>\n",
       "      <td>3</td>\n",
       "      <td>Whole</td>\n",
       "      <td>2015-01-05 07:54:55.493000000</td>\n",
       "      <td>NaN</td>\n",
       "      <td>2015-11-05 22:29:01.260000000</td>\n",
       "    </tr>\n",
       "    <tr>\n",
       "      <th>3</th>\n",
       "      <td>4A7737329665606743FA6AA</td>\n",
       "      <td>2292183</td>\n",
       "      <td>2014-12-15 12:40:24</td>\n",
       "      <td>2015-01-06 16:12:25.530000000</td>\n",
       "      <td>2015-01-06 16:18:56.213000000</td>\n",
       "      <td>2015-01-06 11:13:38.180000000</td>\n",
       "      <td>2015-01-08 00:00:00</td>\n",
       "      <td>6</td>\n",
       "      <td>Completed</td>\n",
       "      <td>NaN</td>\n",
       "      <td>...</td>\n",
       "      <td>2162005</td>\n",
       "      <td>6</td>\n",
       "      <td>3</td>\n",
       "      <td>1</td>\n",
       "      <td>False</td>\n",
       "      <td>3</td>\n",
       "      <td>Whole</td>\n",
       "      <td>2015-01-06 15:53:46.633000000</td>\n",
       "      <td>NaN</td>\n",
       "      <td>2016-08-10 09:37:29.580000000</td>\n",
       "    </tr>\n",
       "    <tr>\n",
       "      <th>4</th>\n",
       "      <td>B5AC37328768881365D4034</td>\n",
       "      <td>2200630</td>\n",
       "      <td>2014-12-16 16:36:09</td>\n",
       "      <td>2015-01-06 08:08:09.637000000</td>\n",
       "      <td>2015-01-06 08:25:17.497000000</td>\n",
       "      <td>2015-01-05 17:23:38.023000000</td>\n",
       "      <td>NaN</td>\n",
       "      <td>7</td>\n",
       "      <td>Cancelled</td>\n",
       "      <td>NaN</td>\n",
       "      <td>...</td>\n",
       "      <td>6292004</td>\n",
       "      <td>1</td>\n",
       "      <td>0</td>\n",
       "      <td>0</td>\n",
       "      <td>False</td>\n",
       "      <td>3</td>\n",
       "      <td>Whole</td>\n",
       "      <td>2015-01-06 07:55:57.677000000</td>\n",
       "      <td>NaN</td>\n",
       "      <td>2015-11-05 22:29:01.260000000</td>\n",
       "    </tr>\n",
       "  </tbody>\n",
       "</table>\n",
       "<p>5 rows × 541 columns</p>\n",
       "</div>"
      ],
      "text/plain": [
       "                member_key  listing_number     credit_pull_date  \\\n",
       "0  E155373154549917550E92C         2210527  2014-12-14 09:03:30   \n",
       "1  950737314342739832EFD29         2228492  2014-12-15 19:27:51   \n",
       "2  BA4837331484475463AEBBB         2195584  2014-12-16 11:20:08   \n",
       "3  4A7737329665606743FA6AA         2292183  2014-12-15 12:40:24   \n",
       "4  B5AC37328768881365D4034         2200630  2014-12-16 16:36:09   \n",
       "\n",
       "              listing_start_date               listing_end_date  \\\n",
       "0  2015-01-07 16:01:56.823000000  2015-01-07 16:02:07.490000000   \n",
       "1  2015-01-05 17:00:58.580000000  2015-01-08 09:55:28.947000000   \n",
       "2  2015-01-05 08:07:04.753000000  2015-01-05 08:22:59.717000000   \n",
       "3  2015-01-06 16:12:25.530000000  2015-01-06 16:18:56.213000000   \n",
       "4  2015-01-06 08:08:09.637000000  2015-01-06 08:25:17.497000000   \n",
       "\n",
       "           listing_creation_date loan_origination_date  listing_status  \\\n",
       "0  2015-01-07 10:04:50.133000000                   NaN               7   \n",
       "1  2015-01-05 08:51:04.123000000   2015-01-09 00:00:00               6   \n",
       "2  2015-01-05 06:37:46.350000000                   NaN               7   \n",
       "3  2015-01-06 11:13:38.180000000   2015-01-08 00:00:00               6   \n",
       "4  2015-01-05 17:23:38.023000000                   NaN               7   \n",
       "\n",
       "  listing_status_reason  verification_stage              ...                \\\n",
       "0             Cancelled                 NaN              ...                 \n",
       "1             Completed                 NaN              ...                 \n",
       "2             Cancelled                 NaN              ...                 \n",
       "3             Completed                 NaN              ...                 \n",
       "4             Cancelled                 NaN              ...                 \n",
       "\n",
       "   oldest_trade_open_date  delinquencies_over30_days  \\\n",
       "0                10131995                          4   \n",
       "1                 1171989                         20   \n",
       "2                 1102012                          0   \n",
       "3                 2162005                          6   \n",
       "4                 6292004                          1   \n",
       "\n",
       "   delinquencies_over60_days  delinquencies_over90_days is_homeowner  \\\n",
       "0                          0                          0         True   \n",
       "1                          5                          9        False   \n",
       "2                          0                          0        False   \n",
       "3                          3                          1        False   \n",
       "4                          0                          0        False   \n",
       "\n",
       "   investment_typeid investment_type_description  \\\n",
       "0                  2                       Whole   \n",
       "1                  1                  Fractional   \n",
       "2                  3                       Whole   \n",
       "3                  3                       Whole   \n",
       "4                  3                       Whole   \n",
       "\n",
       "           whole_loan_start_date            whole_loan_end_date  \\\n",
       "0  2015-01-07 15:50:28.107000000                            NaN   \n",
       "1  2015-01-05 15:48:04.813000000  2015-01-05 16:45:05.543000000   \n",
       "2  2015-01-05 07:54:55.493000000                            NaN   \n",
       "3  2015-01-06 15:53:46.633000000                            NaN   \n",
       "4  2015-01-06 07:55:57.677000000                            NaN   \n",
       "\n",
       "               last_updated_date  \n",
       "0            2016-08-26 09:29:51  \n",
       "1  2016-08-08 23:34:46.450000000  \n",
       "2  2015-11-05 22:29:01.260000000  \n",
       "3  2016-08-10 09:37:29.580000000  \n",
       "4  2015-11-05 22:29:01.260000000  \n",
       "\n",
       "[5 rows x 541 columns]"
      ]
     },
     "execution_count": 21,
     "metadata": {},
     "output_type": "execute_result"
    }
   ],
   "source": [
    "print Listings_2015.shape[0]\n",
    "Listings_2015.head()"
   ]
  },
  {
   "cell_type": "code",
   "execution_count": 22,
   "metadata": {
    "collapsed": false
   },
   "outputs": [],
   "source": [
    "# a = list(Listings_2015.columns.values)\n",
    "# a[0:25]"
   ]
  },
  {
   "cell_type": "markdown",
   "metadata": {},
   "source": [
    "### Create Join Key"
   ]
  },
  {
   "cell_type": "code",
   "execution_count": 34,
   "metadata": {
    "collapsed": false
   },
   "outputs": [
    {
     "data": {
      "text/html": [
       "<div>\n",
       "<table border=\"1\" class=\"dataframe\">\n",
       "  <thead>\n",
       "    <tr style=\"text-align: right;\">\n",
       "      <th></th>\n",
       "      <th>loan_number</th>\n",
       "      <th>amount_borrowed</th>\n",
       "      <th>borrower_rate</th>\n",
       "      <th>prosper_rating</th>\n",
       "      <th>term</th>\n",
       "      <th>origination_date</th>\n",
       "      <th>join_key</th>\n",
       "    </tr>\n",
       "  </thead>\n",
       "  <tbody>\n",
       "    <tr>\n",
       "      <th>0</th>\n",
       "      <td>254354</td>\n",
       "      <td>12000</td>\n",
       "      <td>0.1526</td>\n",
       "      <td>C</td>\n",
       "      <td>60</td>\n",
       "      <td>2015-01-02</td>\n",
       "      <td>12000C0.1526602015-01-02</td>\n",
       "    </tr>\n",
       "    <tr>\n",
       "      <th>1</th>\n",
       "      <td>254357</td>\n",
       "      <td>25000</td>\n",
       "      <td>0.1736</td>\n",
       "      <td>C</td>\n",
       "      <td>60</td>\n",
       "      <td>2015-01-02</td>\n",
       "      <td>25000C0.1736602015-01-02</td>\n",
       "    </tr>\n",
       "    <tr>\n",
       "      <th>2</th>\n",
       "      <td>254360</td>\n",
       "      <td>6000</td>\n",
       "      <td>0.0819</td>\n",
       "      <td>A</td>\n",
       "      <td>36</td>\n",
       "      <td>2015-01-02</td>\n",
       "      <td>6000A0.0819362015-01-02</td>\n",
       "    </tr>\n",
       "    <tr>\n",
       "      <th>3</th>\n",
       "      <td>254363</td>\n",
       "      <td>15000</td>\n",
       "      <td>0.1736</td>\n",
       "      <td>C</td>\n",
       "      <td>36</td>\n",
       "      <td>2015-01-02</td>\n",
       "      <td>15000C0.1736362015-01-02</td>\n",
       "    </tr>\n",
       "    <tr>\n",
       "      <th>4</th>\n",
       "      <td>254366</td>\n",
       "      <td>20000</td>\n",
       "      <td>0.0651</td>\n",
       "      <td>AA</td>\n",
       "      <td>36</td>\n",
       "      <td>2015-01-02</td>\n",
       "      <td>20000AA0.0651362015-01-02</td>\n",
       "    </tr>\n",
       "  </tbody>\n",
       "</table>\n",
       "</div>"
      ],
      "text/plain": [
       "   loan_number amount_borrowed borrower_rate prosper_rating term  \\\n",
       "0       254354           12000        0.1526              C   60   \n",
       "1       254357           25000        0.1736              C   60   \n",
       "2       254360            6000        0.0819              A   36   \n",
       "3       254363           15000        0.1736              C   36   \n",
       "4       254366           20000        0.0651             AA   36   \n",
       "\n",
       "  origination_date                   join_key  \n",
       "0       2015-01-02   12000C0.1526602015-01-02  \n",
       "1       2015-01-02   25000C0.1736602015-01-02  \n",
       "2       2015-01-02    6000A0.0819362015-01-02  \n",
       "3       2015-01-02   15000C0.1736362015-01-02  \n",
       "4       2015-01-02  20000AA0.0651362015-01-02  "
      ]
     },
     "execution_count": 34,
     "metadata": {},
     "output_type": "execute_result"
    }
   ],
   "source": [
    "Loan_Join = Loans_2015[[\"loan_number\", \"amount_borrowed\", \"borrower_rate\", \"prosper_rating\"\n",
    "                       ,\"term\" ,\"origination_date\"]]\n",
    "Loan_Join[\"origination_date\"] = Loan_Join[\"origination_date\"].str[0:10]\n",
    "Loan_Join[\"amount_borrowed\"] = Loan_Join[\"amount_borrowed\"].astype(int).astype(str)\n",
    "Loan_Join[\"term\"] = Loan_Join[\"term\"].astype(int).astype(str)\n",
    "Loan_Join[\"borrower_rate\"] = Loan_Join[\"borrower_rate\"].astype(str)\n",
    "\n",
    "Loan_Join[\"join_key\"] = Loan_Join[\"amount_borrowed\"] + Loan_Join[\"prosper_rating\"] + \\\n",
    "                        Loan_Join[\"borrower_rate\"] + Loan_Join[\"term\"] + \\\n",
    "                        Loan_Join[\"origination_date\"]\n",
    "Loan_Join.head()"
   ]
  },
  {
   "cell_type": "code",
   "execution_count": 27,
   "metadata": {
    "collapsed": false,
    "scrolled": true
   },
   "outputs": [
    {
     "name": "stdout",
     "output_type": "stream",
     "text": [
      "267595\n"
     ]
    },
    {
     "data": {
      "text/html": [
       "<div>\n",
       "<table border=\"1\" class=\"dataframe\">\n",
       "  <thead>\n",
       "    <tr style=\"text-align: right;\">\n",
       "      <th></th>\n",
       "      <th>join_key</th>\n",
       "      <th>member_key</th>\n",
       "    </tr>\n",
       "  </thead>\n",
       "  <tbody>\n",
       "    <tr>\n",
       "      <th>1</th>\n",
       "      <td>15000A0.0819362015-01-09</td>\n",
       "      <td>950737314342739832EFD29</td>\n",
       "    </tr>\n",
       "    <tr>\n",
       "      <th>3</th>\n",
       "      <td>5000B0.1234362015-01-08</td>\n",
       "      <td>4A7737329665606743FA6AA</td>\n",
       "    </tr>\n",
       "    <tr>\n",
       "      <th>13</th>\n",
       "      <td>12000A0.1028362015-02-03</td>\n",
       "      <td>CEDD3732932619375C991F6</td>\n",
       "    </tr>\n",
       "    <tr>\n",
       "      <th>16</th>\n",
       "      <td>25000C0.1703602015-01-05</td>\n",
       "      <td>690F3368814195298EF41D0</td>\n",
       "    </tr>\n",
       "    <tr>\n",
       "      <th>17</th>\n",
       "      <td>25000B0.1278602015-01-08</td>\n",
       "      <td>18F73733231641956997CBD</td>\n",
       "    </tr>\n",
       "  </tbody>\n",
       "</table>\n",
       "</div>"
      ],
      "text/plain": [
       "                    join_key               member_key\n",
       "1   15000A0.0819362015-01-09  950737314342739832EFD29\n",
       "3    5000B0.1234362015-01-08  4A7737329665606743FA6AA\n",
       "13  12000A0.1028362015-02-03  CEDD3732932619375C991F6\n",
       "16  25000C0.1703602015-01-05  690F3368814195298EF41D0\n",
       "17  25000B0.1278602015-01-08  18F73733231641956997CBD"
      ]
     },
     "execution_count": 27,
     "metadata": {},
     "output_type": "execute_result"
    }
   ],
   "source": [
    "Listings_Join = Listings_2015[[\"member_key\", \"amount_funded\", \"borrower_rate\", \"prosper_rating\"\n",
    "                       ,\"listing_term\" ,\"loan_origination_date\"]]\n",
    "Listings_Join = Listings_Join[Listings_Join.loan_origination_date.notnull()]\n",
    "Listings_Join[\"loan_origination_date\"] = Listings_Join[\"loan_origination_date\"].str[0:10]\n",
    "Listings_Join[\"amount_funded\"] = Listings_Join[\"amount_funded\"].astype(int).astype(str)\n",
    "Listings_Join[\"listing_term\"] = Listings_Join[\"listing_term\"].astype(int).astype(str)\n",
    "Listings_Join[\"borrower_rate\"] = Listings_Join[\"borrower_rate\"].astype(str)\n",
    "\n",
    "Listings_Join[\"join_key\"] = Listings_Join[\"amount_funded\"] + Listings_Join[\"prosper_rating\"] + \\\n",
    "                        Listings_Join[\"borrower_rate\"] + Listings_Join[\"listing_term\"] + \\\n",
    "                        Listings_Join[\"loan_origination_date\"]\n",
    "\n",
    "Listings_Join = Listings_Join[[\"join_key\",\"member_key\"]]\n",
    "print Listings_Join.shape[0]\n",
    "Listings_Join.head()"
   ]
  },
  {
   "cell_type": "markdown",
   "metadata": {},
   "source": [
    "### Join Origination and Performance Data"
   ]
  },
  {
   "cell_type": "code",
   "execution_count": 35,
   "metadata": {
    "collapsed": false
   },
   "outputs": [
    {
     "data": {
      "text/plain": [
       "669921"
      ]
     },
     "execution_count": 35,
     "metadata": {},
     "output_type": "execute_result"
    }
   ],
   "source": [
    "Loan_Join = Loan_Join.merge(Listings_Join, on='join_key', how='left')\n",
    "Loan_Join.shape[0]"
   ]
  },
  {
   "cell_type": "code",
   "execution_count": 37,
   "metadata": {
    "collapsed": false
   },
   "outputs": [
    {
     "data": {
      "text/plain": [
       "667964"
      ]
     },
     "execution_count": 37,
     "metadata": {},
     "output_type": "execute_result"
    }
   ],
   "source": [
    "Loan_Join = Loan_Join[Loan_Join.member_key.notnull()]\n",
    "Loan_Join.shape[0]"
   ]
  },
  {
   "cell_type": "code",
   "execution_count": 40,
   "metadata": {
    "collapsed": false
   },
   "outputs": [
    {
     "data": {
      "text/html": [
       "<div>\n",
       "<table border=\"1\" class=\"dataframe\">\n",
       "  <thead>\n",
       "    <tr style=\"text-align: right;\">\n",
       "      <th></th>\n",
       "      <th>loan_number</th>\n",
       "      <th>amount_borrowed</th>\n",
       "      <th>borrower_rate</th>\n",
       "      <th>prosper_rating</th>\n",
       "      <th>term</th>\n",
       "      <th>origination_date</th>\n",
       "      <th>join_key</th>\n",
       "      <th>member_key</th>\n",
       "    </tr>\n",
       "  </thead>\n",
       "  <tbody>\n",
       "    <tr>\n",
       "      <th>439</th>\n",
       "      <td>255116</td>\n",
       "      <td>25000</td>\n",
       "      <td>0.1195</td>\n",
       "      <td>B</td>\n",
       "      <td>36</td>\n",
       "      <td>2015-01-05</td>\n",
       "      <td>25000B0.1195362015-01-05</td>\n",
       "      <td>058E3734663885304AD0657</td>\n",
       "    </tr>\n",
       "    <tr>\n",
       "      <th>440</th>\n",
       "      <td>254852</td>\n",
       "      <td>15000</td>\n",
       "      <td>0.1311</td>\n",
       "      <td>B</td>\n",
       "      <td>60</td>\n",
       "      <td>2015-01-05</td>\n",
       "      <td>15000B0.1311602015-01-05</td>\n",
       "      <td>4C04372751465747442030A</td>\n",
       "    </tr>\n",
       "    <tr>\n",
       "      <th>457</th>\n",
       "      <td>255299</td>\n",
       "      <td>25000</td>\n",
       "      <td>0.1493</td>\n",
       "      <td>C</td>\n",
       "      <td>60</td>\n",
       "      <td>2015-01-05</td>\n",
       "      <td>25000C0.1493602015-01-05</td>\n",
       "      <td>E677355324935425549E673</td>\n",
       "    </tr>\n",
       "    <tr>\n",
       "      <th>460</th>\n",
       "      <td>254867</td>\n",
       "      <td>12000</td>\n",
       "      <td>0.1195</td>\n",
       "      <td>B</td>\n",
       "      <td>36</td>\n",
       "      <td>2015-01-05</td>\n",
       "      <td>12000B0.1195362015-01-05</td>\n",
       "      <td>AB35373417312720073AE73</td>\n",
       "    </tr>\n",
       "    <tr>\n",
       "      <th>461</th>\n",
       "      <td>255281</td>\n",
       "      <td>12000</td>\n",
       "      <td>0.1195</td>\n",
       "      <td>B</td>\n",
       "      <td>36</td>\n",
       "      <td>2015-01-05</td>\n",
       "      <td>12000B0.1195362015-01-05</td>\n",
       "      <td>AB35373417312720073AE73</td>\n",
       "    </tr>\n",
       "  </tbody>\n",
       "</table>\n",
       "</div>"
      ],
      "text/plain": [
       "     loan_number amount_borrowed borrower_rate prosper_rating term  \\\n",
       "439       255116           25000        0.1195              B   36   \n",
       "440       254852           15000        0.1311              B   60   \n",
       "457       255299           25000        0.1493              C   60   \n",
       "460       254867           12000        0.1195              B   36   \n",
       "461       255281           12000        0.1195              B   36   \n",
       "\n",
       "    origination_date                  join_key               member_key  \n",
       "439       2015-01-05  25000B0.1195362015-01-05  058E3734663885304AD0657  \n",
       "440       2015-01-05  15000B0.1311602015-01-05  4C04372751465747442030A  \n",
       "457       2015-01-05  25000C0.1493602015-01-05  E677355324935425549E673  \n",
       "460       2015-01-05  12000B0.1195362015-01-05  AB35373417312720073AE73  \n",
       "461       2015-01-05  12000B0.1195362015-01-05  AB35373417312720073AE73  "
      ]
     },
     "execution_count": 40,
     "metadata": {},
     "output_type": "execute_result"
    }
   ],
   "source": [
    "Loan_Join.head()"
   ]
  },
  {
   "cell_type": "code",
   "execution_count": 50,
   "metadata": {
    "collapsed": false
   },
   "outputs": [
    {
     "name": "stdout",
     "output_type": "stream",
     "text": [
      "263074\n"
     ]
    },
    {
     "data": {
      "text/html": [
       "<div>\n",
       "<table border=\"1\" class=\"dataframe\">\n",
       "  <thead>\n",
       "    <tr style=\"text-align: right;\">\n",
       "      <th></th>\n",
       "      <th>loan_number</th>\n",
       "      <th>member_key</th>\n",
       "    </tr>\n",
       "  </thead>\n",
       "  <tbody>\n",
       "    <tr>\n",
       "      <th>0</th>\n",
       "      <td>254852</td>\n",
       "      <td>1</td>\n",
       "    </tr>\n",
       "    <tr>\n",
       "      <th>1</th>\n",
       "      <td>254867</td>\n",
       "      <td>1</td>\n",
       "    </tr>\n",
       "    <tr>\n",
       "      <th>2</th>\n",
       "      <td>254882</td>\n",
       "      <td>1</td>\n",
       "    </tr>\n",
       "    <tr>\n",
       "      <th>3</th>\n",
       "      <td>254927</td>\n",
       "      <td>1</td>\n",
       "    </tr>\n",
       "    <tr>\n",
       "      <th>4</th>\n",
       "      <td>254930</td>\n",
       "      <td>2</td>\n",
       "    </tr>\n",
       "  </tbody>\n",
       "</table>\n",
       "</div>"
      ],
      "text/plain": [
       "   loan_number  member_key\n",
       "0       254852           1\n",
       "1       254867           1\n",
       "2       254882           1\n",
       "3       254927           1\n",
       "4       254930           2"
      ]
     },
     "execution_count": 50,
     "metadata": {},
     "output_type": "execute_result"
    }
   ],
   "source": [
    "temp = Loan_Join[[\"loan_number\",\"member_key\"]].groupby([\"loan_number\"]).count().reset_index()\n",
    "print temp.shape[0]\n",
    "temp.head()"
   ]
  },
  {
   "cell_type": "code",
   "execution_count": 53,
   "metadata": {
    "collapsed": false
   },
   "outputs": [
    {
     "name": "stdout",
     "output_type": "stream",
     "text": [
      "108164\n",
      "0.411154275983\n"
     ]
    },
    {
     "data": {
      "text/html": [
       "<div>\n",
       "<table border=\"1\" class=\"dataframe\">\n",
       "  <thead>\n",
       "    <tr style=\"text-align: right;\">\n",
       "      <th></th>\n",
       "      <th>loan_number</th>\n",
       "      <th>member_key</th>\n",
       "    </tr>\n",
       "  </thead>\n",
       "  <tbody>\n",
       "    <tr>\n",
       "      <th>0</th>\n",
       "      <td>254852</td>\n",
       "      <td>1</td>\n",
       "    </tr>\n",
       "    <tr>\n",
       "      <th>1</th>\n",
       "      <td>254867</td>\n",
       "      <td>1</td>\n",
       "    </tr>\n",
       "    <tr>\n",
       "      <th>2</th>\n",
       "      <td>254882</td>\n",
       "      <td>1</td>\n",
       "    </tr>\n",
       "    <tr>\n",
       "      <th>3</th>\n",
       "      <td>254927</td>\n",
       "      <td>1</td>\n",
       "    </tr>\n",
       "    <tr>\n",
       "      <th>5</th>\n",
       "      <td>254933</td>\n",
       "      <td>1</td>\n",
       "    </tr>\n",
       "  </tbody>\n",
       "</table>\n",
       "</div>"
      ],
      "text/plain": [
       "   loan_number  member_key\n",
       "0       254852           1\n",
       "1       254867           1\n",
       "2       254882           1\n",
       "3       254927           1\n",
       "5       254933           1"
      ]
     },
     "execution_count": 53,
     "metadata": {},
     "output_type": "execute_result"
    }
   ],
   "source": [
    "temp2 = temp[temp[\"member_key\"]==1]\n",
    "print temp2.shape[0]\n",
    "print 1.0*temp2.shape[0]/temp.shape[0]\n",
    "temp2.head()"
   ]
  },
  {
   "cell_type": "code",
   "execution_count": null,
   "metadata": {
    "collapsed": true
   },
   "outputs": [],
   "source": []
  },
  {
   "cell_type": "code",
   "execution_count": null,
   "metadata": {
    "collapsed": true
   },
   "outputs": [],
   "source": []
  }
 ],
 "metadata": {
  "kernelspec": {
   "display_name": "Python 2",
   "language": "python",
   "name": "python2"
  },
  "language_info": {
   "codemirror_mode": {
    "name": "ipython",
    "version": 2
   },
   "file_extension": ".py",
   "mimetype": "text/x-python",
   "name": "python",
   "nbconvert_exporter": "python",
   "pygments_lexer": "ipython2",
   "version": "2.7.11"
  }
 },
 "nbformat": 4,
 "nbformat_minor": 0
}
