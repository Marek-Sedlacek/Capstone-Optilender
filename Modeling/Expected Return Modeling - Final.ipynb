{
 "cells": [
  {
   "cell_type": "markdown",
   "metadata": {
    "collapsed": true
   },
   "source": [
    "<h1 style='color:#333399'> OptiLender Loss Model</h1>"
   ]
  },
  {
   "cell_type": "markdown",
   "metadata": {},
   "source": [
    "<h2 style='color:#6698FF'> Table of Contents</h2>\n",
    "<a name=\"TOC\"></a> \n",
    "\n",
    "1.  [Summary](#1)\n",
    "2.  [Import Libraries and Data](#2)   \n",
    "3.  [Data Cleaning](#3)\n",
    "4.  [Calculate Return in 12 Months](#4)  \n",
    "    4.1.  [Add Loss Month](#4.1)   \n",
    "    4.2.  [Calculate Return](#4.2) \n",
    "5.  [Model: Decision Tree Regressor](#5)  \n",
    "    5.1.  [Build OptiLender and Benchmark Model](#5.1)   \n",
    "6.  [Model Results and Comparison](#6)  \n",
    "7.  [Generate Output Files](#7)  "
   ]
  },
  {
   "cell_type": "code",
   "execution_count": null,
   "metadata": {
    "collapsed": true
   },
   "outputs": [],
   "source": []
  },
  {
   "cell_type": "markdown",
   "metadata": {},
   "source": [
    "<a name=\"2\" style='color:#6698FF'>\n",
    "## Import Libraries and Data </a>\n",
    "[Back to Table of Contents](#TOC)\n",
    "\n",
    "Basic steps for reading in the data, configuring settings, and including all necessary libraries\n",
    "#### Libraries"
   ]
  },
  {
   "cell_type": "code",
   "execution_count": 1,
   "metadata": {
    "collapsed": true
   },
   "outputs": [],
   "source": [
    "%matplotlib inline\n",
    "import psycopg2\n",
    "import pandas as pd\n",
    "import numpy as np\n",
    "import matplotlib.pyplot as plt\n",
    "import time\n",
    "import math\n",
    "\n",
    "from sklearn.tree import DecisionTreeClassifier, DecisionTreeRegressor\n",
    "from sklearn import preprocessing, metrics\n",
    "\n",
    "pd.options.mode.chained_assignment = None  # default='warn'\n",
    "pd.set_option('display.max_columns', 50)"
   ]
  },
  {
   "cell_type": "markdown",
   "metadata": {},
   "source": [
    "#### Data Import\n",
    "Connect to the postgres database and pull the relevant data into the notebook"
   ]
  },
  {
   "cell_type": "code",
   "execution_count": 2,
   "metadata": {
    "collapsed": true
   },
   "outputs": [],
   "source": [
    "try:\n",
    "    conn = psycopg2.connect(\"dbname=p2p_lending user=daniel\")\n",
    "except:\n",
    "    print \"I am unable to connect to the database\"\n",
    "    \n",
    "cur = conn.cursor()"
   ]
  },
  {
   "cell_type": "code",
   "execution_count": 3,
   "metadata": {
    "collapsed": true
   },
   "outputs": [],
   "source": [
    "#Pull Loan Data from loans_nodups and join with desired Listing data\n",
    "cur.execute(\"\"\"SELECT loans_nodups.*\n",
    "                        ,listings.listing_number\n",
    "                        ,borrower_state\n",
    "                        ,income_range\n",
    "                        ,dti_wprosper_loan\n",
    "                        ,months_employed\n",
    "                        ,prior_prosper_loans\n",
    "                        ,all001\n",
    "                        ,all003\n",
    "                        ,all021\n",
    "                        ,all022\n",
    "                        ,all201\n",
    "                        ,all208\n",
    "                        ,all701\n",
    "                        ,all720\n",
    "                        ,real_estate_balance\n",
    "                        ,current_delinquencies\n",
    "                        ,delinquencies_last7_years\n",
    "                        ,public_records_last10_years\n",
    "                        ,public_records_last12_months\n",
    "                        ,inquiries_last6_months\n",
    "                        ,open_credit_lines\n",
    "                        ,bankcard_utilization\n",
    "                        ,installment_balance\n",
    "                        ,real_estate_balance\n",
    "                        ,revolving_balance\n",
    "                        ,real_estate_payment\n",
    "                        ,revolving_available_percent\n",
    "                        ,total_inquiries\n",
    "                        ,total_trade_items\n",
    "                        ,satisfactory_accounts\n",
    "                        ,now_delinquent_derog\n",
    "                        ,was_delinquent_derog\n",
    "                        ,oldest_trade_open_date\n",
    "                        ,delinquencies_over30_days\n",
    "                        ,delinquencies_over60_days\n",
    "                        ,delinquencies_over90_days\n",
    "                        ,is_homeowner\n",
    "\n",
    "                        \n",
    "                FROM listings, \n",
    "                     loans_nodups \n",
    "                WHERE listings.listing_number = loans_nodups.listing_number;\n",
    "            \"\"\")"
   ]
  },
  {
   "cell_type": "code",
   "execution_count": 4,
   "metadata": {
    "collapsed": false,
    "scrolled": true
   },
   "outputs": [
    {
     "name": "stdout",
     "output_type": "stream",
     "text": [
      "(291614, 62)\n"
     ]
    },
    {
     "data": {
      "text/html": [
       "<div>\n",
       "<table border=\"1\" class=\"dataframe\">\n",
       "  <thead>\n",
       "    <tr style=\"text-align: right;\">\n",
       "      <th></th>\n",
       "      <th>loan_number</th>\n",
       "      <th>amount_borrowed</th>\n",
       "      <th>borrower_rate</th>\n",
       "      <th>prosper_rating</th>\n",
       "      <th>term</th>\n",
       "      <th>age_in_months</th>\n",
       "      <th>origination_date</th>\n",
       "      <th>days_past_due</th>\n",
       "      <th>principal_balance</th>\n",
       "      <th>service_fees_paid</th>\n",
       "      <th>principal_paid</th>\n",
       "      <th>interest_paid</th>\n",
       "      <th>prosper_fees_paid</th>\n",
       "      <th>late_fees_paid</th>\n",
       "      <th>debt_sale_proceeds_received</th>\n",
       "      <th>loan_status</th>\n",
       "      <th>loan_status_description</th>\n",
       "      <th>loan_default_reason</th>\n",
       "      <th>loan_default_reason_description</th>\n",
       "      <th>next_payment_due_date</th>\n",
       "      <th>next_payment_due_amount</th>\n",
       "      <th>payment</th>\n",
       "      <th>simple_return</th>\n",
       "      <th>listing_number</th>\n",
       "      <th>analysis_class</th>\n",
       "      <th>...</th>\n",
       "      <th>all701</th>\n",
       "      <th>all720</th>\n",
       "      <th>real_estate_balance</th>\n",
       "      <th>current_delinquencies</th>\n",
       "      <th>delinquencies_last7_years</th>\n",
       "      <th>public_records_last10_years</th>\n",
       "      <th>public_records_last12_months</th>\n",
       "      <th>inquiries_last6_months</th>\n",
       "      <th>open_credit_lines</th>\n",
       "      <th>bankcard_utilization</th>\n",
       "      <th>installment_balance</th>\n",
       "      <th>real_estate_balance</th>\n",
       "      <th>revolving_balance</th>\n",
       "      <th>real_estate_payment</th>\n",
       "      <th>revolving_available_percent</th>\n",
       "      <th>total_inquiries</th>\n",
       "      <th>total_trade_items</th>\n",
       "      <th>satisfactory_accounts</th>\n",
       "      <th>now_delinquent_derog</th>\n",
       "      <th>was_delinquent_derog</th>\n",
       "      <th>oldest_trade_open_date</th>\n",
       "      <th>delinquencies_over30_days</th>\n",
       "      <th>delinquencies_over60_days</th>\n",
       "      <th>delinquencies_over90_days</th>\n",
       "      <th>is_homeowner</th>\n",
       "    </tr>\n",
       "  </thead>\n",
       "  <tbody>\n",
       "    <tr>\n",
       "      <th>0</th>\n",
       "      <td>541784</td>\n",
       "      <td>7000.0</td>\n",
       "      <td>0.1017</td>\n",
       "      <td>A</td>\n",
       "      <td>36</td>\n",
       "      <td>9</td>\n",
       "      <td>2016-01-05</td>\n",
       "      <td>0</td>\n",
       "      <td>5444.37</td>\n",
       "      <td>-42.80</td>\n",
       "      <td>1376.20</td>\n",
       "      <td>435.24</td>\n",
       "      <td>0.0</td>\n",
       "      <td>0.0</td>\n",
       "      <td>0.0</td>\n",
       "      <td>1</td>\n",
       "      <td>CURRENT</td>\n",
       "      <td>NaN</td>\n",
       "      <td>None</td>\n",
       "      <td>2016-11-05</td>\n",
       "      <td>226.43</td>\n",
       "      <td>226.429421</td>\n",
       "      <td>0.258777</td>\n",
       "      <td>4413385</td>\n",
       "      <td>0</td>\n",
       "      <td>...</td>\n",
       "      <td>234.0</td>\n",
       "      <td>22.0</td>\n",
       "      <td>NaN</td>\n",
       "      <td>1.0</td>\n",
       "      <td>19.0</td>\n",
       "      <td>1.0</td>\n",
       "      <td>0.0</td>\n",
       "      <td>0.0</td>\n",
       "      <td>7.0</td>\n",
       "      <td>0.77</td>\n",
       "      <td>36599.0</td>\n",
       "      <td>NaN</td>\n",
       "      <td>18691.0</td>\n",
       "      <td>NaN</td>\n",
       "      <td>38.0</td>\n",
       "      <td>10</td>\n",
       "      <td>28</td>\n",
       "      <td>23</td>\n",
       "      <td>1</td>\n",
       "      <td>4</td>\n",
       "      <td>None</td>\n",
       "      <td>5</td>\n",
       "      <td>5</td>\n",
       "      <td>19</td>\n",
       "      <td>False</td>\n",
       "    </tr>\n",
       "    <tr>\n",
       "      <th>1</th>\n",
       "      <td>543616</td>\n",
       "      <td>6500.0</td>\n",
       "      <td>0.2095</td>\n",
       "      <td>D</td>\n",
       "      <td>60</td>\n",
       "      <td>9</td>\n",
       "      <td>2016-01-07</td>\n",
       "      <td>0</td>\n",
       "      <td>5900.40</td>\n",
       "      <td>-41.94</td>\n",
       "      <td>526.80</td>\n",
       "      <td>878.48</td>\n",
       "      <td>0.0</td>\n",
       "      <td>0.0</td>\n",
       "      <td>0.0</td>\n",
       "      <td>1</td>\n",
       "      <td>CURRENT</td>\n",
       "      <td>NaN</td>\n",
       "      <td>None</td>\n",
       "      <td>2016-10-07</td>\n",
       "      <td>0.00</td>\n",
       "      <td>175.664067</td>\n",
       "      <td>0.216197</td>\n",
       "      <td>4420264</td>\n",
       "      <td>0</td>\n",
       "      <td>...</td>\n",
       "      <td>135.0</td>\n",
       "      <td>9999.0</td>\n",
       "      <td>0.0</td>\n",
       "      <td>0.0</td>\n",
       "      <td>0.0</td>\n",
       "      <td>0.0</td>\n",
       "      <td>0.0</td>\n",
       "      <td>2.0</td>\n",
       "      <td>6.0</td>\n",
       "      <td>0.89</td>\n",
       "      <td>0.0</td>\n",
       "      <td>0.0</td>\n",
       "      <td>12094.0</td>\n",
       "      <td>0.0</td>\n",
       "      <td>14.0</td>\n",
       "      <td>6</td>\n",
       "      <td>15</td>\n",
       "      <td>14</td>\n",
       "      <td>0</td>\n",
       "      <td>1</td>\n",
       "      <td>None</td>\n",
       "      <td>6</td>\n",
       "      <td>0</td>\n",
       "      <td>0</td>\n",
       "      <td>False</td>\n",
       "    </tr>\n",
       "    <tr>\n",
       "      <th>2</th>\n",
       "      <td>541922</td>\n",
       "      <td>2000.0</td>\n",
       "      <td>0.1512</td>\n",
       "      <td>C</td>\n",
       "      <td>60</td>\n",
       "      <td>9</td>\n",
       "      <td>2016-01-06</td>\n",
       "      <td>0</td>\n",
       "      <td>0.00</td>\n",
       "      <td>-2.41</td>\n",
       "      <td>2000.00</td>\n",
       "      <td>36.34</td>\n",
       "      <td>0.0</td>\n",
       "      <td>0.0</td>\n",
       "      <td>0.0</td>\n",
       "      <td>4</td>\n",
       "      <td>COMPLETED</td>\n",
       "      <td>NaN</td>\n",
       "      <td>None</td>\n",
       "      <td>2016-03-06</td>\n",
       "      <td>47.71</td>\n",
       "      <td>47.705932</td>\n",
       "      <td>1.018170</td>\n",
       "      <td>4437006</td>\n",
       "      <td>0</td>\n",
       "      <td>...</td>\n",
       "      <td>328.0</td>\n",
       "      <td>9999.0</td>\n",
       "      <td>NaN</td>\n",
       "      <td>0.0</td>\n",
       "      <td>0.0</td>\n",
       "      <td>0.0</td>\n",
       "      <td>0.0</td>\n",
       "      <td>0.0</td>\n",
       "      <td>7.0</td>\n",
       "      <td>0.55</td>\n",
       "      <td>6942.0</td>\n",
       "      <td>NaN</td>\n",
       "      <td>5883.0</td>\n",
       "      <td>NaN</td>\n",
       "      <td>53.0</td>\n",
       "      <td>3</td>\n",
       "      <td>20</td>\n",
       "      <td>20</td>\n",
       "      <td>0</td>\n",
       "      <td>0</td>\n",
       "      <td>None</td>\n",
       "      <td>0</td>\n",
       "      <td>0</td>\n",
       "      <td>0</td>\n",
       "      <td>False</td>\n",
       "    </tr>\n",
       "    <tr>\n",
       "      <th>3</th>\n",
       "      <td>544621</td>\n",
       "      <td>18000.0</td>\n",
       "      <td>0.1319</td>\n",
       "      <td>B</td>\n",
       "      <td>36</td>\n",
       "      <td>9</td>\n",
       "      <td>2016-01-08</td>\n",
       "      <td>0</td>\n",
       "      <td>12104.36</td>\n",
       "      <td>-115.29</td>\n",
       "      <td>5895.64</td>\n",
       "      <td>1520.73</td>\n",
       "      <td>0.0</td>\n",
       "      <td>0.0</td>\n",
       "      <td>0.0</td>\n",
       "      <td>1</td>\n",
       "      <td>CURRENT</td>\n",
       "      <td>NaN</td>\n",
       "      <td>None</td>\n",
       "      <td>2016-10-08</td>\n",
       "      <td>0.00</td>\n",
       "      <td>608.139732</td>\n",
       "      <td>0.412021</td>\n",
       "      <td>4433395</td>\n",
       "      <td>0</td>\n",
       "      <td>...</td>\n",
       "      <td>191.0</td>\n",
       "      <td>3.0</td>\n",
       "      <td>NaN</td>\n",
       "      <td>0.0</td>\n",
       "      <td>0.0</td>\n",
       "      <td>0.0</td>\n",
       "      <td>0.0</td>\n",
       "      <td>2.0</td>\n",
       "      <td>11.0</td>\n",
       "      <td>0.51</td>\n",
       "      <td>NaN</td>\n",
       "      <td>NaN</td>\n",
       "      <td>22794.0</td>\n",
       "      <td>NaN</td>\n",
       "      <td>50.0</td>\n",
       "      <td>4</td>\n",
       "      <td>22</td>\n",
       "      <td>21</td>\n",
       "      <td>0</td>\n",
       "      <td>1</td>\n",
       "      <td>None</td>\n",
       "      <td>1</td>\n",
       "      <td>0</td>\n",
       "      <td>0</td>\n",
       "      <td>False</td>\n",
       "    </tr>\n",
       "    <tr>\n",
       "      <th>4</th>\n",
       "      <td>549528</td>\n",
       "      <td>12000.0</td>\n",
       "      <td>0.1280</td>\n",
       "      <td>B</td>\n",
       "      <td>60</td>\n",
       "      <td>9</td>\n",
       "      <td>2016-01-11</td>\n",
       "      <td>0</td>\n",
       "      <td>10808.04</td>\n",
       "      <td>-76.75</td>\n",
       "      <td>1191.96</td>\n",
       "      <td>982.52</td>\n",
       "      <td>0.0</td>\n",
       "      <td>0.0</td>\n",
       "      <td>0.0</td>\n",
       "      <td>1</td>\n",
       "      <td>CURRENT</td>\n",
       "      <td>NaN</td>\n",
       "      <td>None</td>\n",
       "      <td>2016-10-11</td>\n",
       "      <td>271.81</td>\n",
       "      <td>271.809866</td>\n",
       "      <td>0.181207</td>\n",
       "      <td>4459926</td>\n",
       "      <td>0</td>\n",
       "      <td>...</td>\n",
       "      <td>370.0</td>\n",
       "      <td>66.0</td>\n",
       "      <td>286428.0</td>\n",
       "      <td>0.0</td>\n",
       "      <td>3.0</td>\n",
       "      <td>0.0</td>\n",
       "      <td>0.0</td>\n",
       "      <td>1.0</td>\n",
       "      <td>16.0</td>\n",
       "      <td>0.54</td>\n",
       "      <td>37669.0</td>\n",
       "      <td>286428.0</td>\n",
       "      <td>13255.0</td>\n",
       "      <td>1733.0</td>\n",
       "      <td>53.0</td>\n",
       "      <td>2</td>\n",
       "      <td>48</td>\n",
       "      <td>47</td>\n",
       "      <td>0</td>\n",
       "      <td>1</td>\n",
       "      <td>None</td>\n",
       "      <td>1</td>\n",
       "      <td>1</td>\n",
       "      <td>3</td>\n",
       "      <td>True</td>\n",
       "    </tr>\n",
       "  </tbody>\n",
       "</table>\n",
       "<p>5 rows × 62 columns</p>\n",
       "</div>"
      ],
      "text/plain": [
       "   loan_number  amount_borrowed  borrower_rate prosper_rating  term  \\\n",
       "0       541784           7000.0         0.1017              A    36   \n",
       "1       543616           6500.0         0.2095              D    60   \n",
       "2       541922           2000.0         0.1512              C    60   \n",
       "3       544621          18000.0         0.1319              B    36   \n",
       "4       549528          12000.0         0.1280              B    60   \n",
       "\n",
       "   age_in_months origination_date  days_past_due  principal_balance  \\\n",
       "0              9       2016-01-05              0            5444.37   \n",
       "1              9       2016-01-07              0            5900.40   \n",
       "2              9       2016-01-06              0               0.00   \n",
       "3              9       2016-01-08              0           12104.36   \n",
       "4              9       2016-01-11              0           10808.04   \n",
       "\n",
       "   service_fees_paid  principal_paid  interest_paid  prosper_fees_paid  \\\n",
       "0             -42.80         1376.20         435.24                0.0   \n",
       "1             -41.94          526.80         878.48                0.0   \n",
       "2              -2.41         2000.00          36.34                0.0   \n",
       "3            -115.29         5895.64        1520.73                0.0   \n",
       "4             -76.75         1191.96         982.52                0.0   \n",
       "\n",
       "   late_fees_paid  debt_sale_proceeds_received  loan_status  \\\n",
       "0             0.0                          0.0            1   \n",
       "1             0.0                          0.0            1   \n",
       "2             0.0                          0.0            4   \n",
       "3             0.0                          0.0            1   \n",
       "4             0.0                          0.0            1   \n",
       "\n",
       "  loan_status_description  loan_default_reason  \\\n",
       "0                 CURRENT                  NaN   \n",
       "1                 CURRENT                  NaN   \n",
       "2               COMPLETED                  NaN   \n",
       "3                 CURRENT                  NaN   \n",
       "4                 CURRENT                  NaN   \n",
       "\n",
       "  loan_default_reason_description next_payment_due_date  \\\n",
       "0                            None            2016-11-05   \n",
       "1                            None            2016-10-07   \n",
       "2                            None            2016-03-06   \n",
       "3                            None            2016-10-08   \n",
       "4                            None            2016-10-11   \n",
       "\n",
       "   next_payment_due_amount     payment  simple_return  listing_number  \\\n",
       "0                   226.43  226.429421       0.258777         4413385   \n",
       "1                     0.00  175.664067       0.216197         4420264   \n",
       "2                    47.71   47.705932       1.018170         4437006   \n",
       "3                     0.00  608.139732       0.412021         4433395   \n",
       "4                   271.81  271.809866       0.181207         4459926   \n",
       "\n",
       "   analysis_class      ...       all701  all720  real_estate_balance  \\\n",
       "0               0      ...        234.0    22.0                  NaN   \n",
       "1               0      ...        135.0  9999.0                  0.0   \n",
       "2               0      ...        328.0  9999.0                  NaN   \n",
       "3               0      ...        191.0     3.0                  NaN   \n",
       "4               0      ...        370.0    66.0             286428.0   \n",
       "\n",
       "   current_delinquencies  delinquencies_last7_years  \\\n",
       "0                    1.0                       19.0   \n",
       "1                    0.0                        0.0   \n",
       "2                    0.0                        0.0   \n",
       "3                    0.0                        0.0   \n",
       "4                    0.0                        3.0   \n",
       "\n",
       "   public_records_last10_years  public_records_last12_months  \\\n",
       "0                          1.0                           0.0   \n",
       "1                          0.0                           0.0   \n",
       "2                          0.0                           0.0   \n",
       "3                          0.0                           0.0   \n",
       "4                          0.0                           0.0   \n",
       "\n",
       "   inquiries_last6_months  open_credit_lines  bankcard_utilization  \\\n",
       "0                     0.0                7.0                  0.77   \n",
       "1                     2.0                6.0                  0.89   \n",
       "2                     0.0                7.0                  0.55   \n",
       "3                     2.0               11.0                  0.51   \n",
       "4                     1.0               16.0                  0.54   \n",
       "\n",
       "   installment_balance  real_estate_balance  revolving_balance  \\\n",
       "0              36599.0                  NaN            18691.0   \n",
       "1                  0.0                  0.0            12094.0   \n",
       "2               6942.0                  NaN             5883.0   \n",
       "3                  NaN                  NaN            22794.0   \n",
       "4              37669.0             286428.0            13255.0   \n",
       "\n",
       "   real_estate_payment  revolving_available_percent  total_inquiries  \\\n",
       "0                  NaN                         38.0               10   \n",
       "1                  0.0                         14.0                6   \n",
       "2                  NaN                         53.0                3   \n",
       "3                  NaN                         50.0                4   \n",
       "4               1733.0                         53.0                2   \n",
       "\n",
       "   total_trade_items  satisfactory_accounts  now_delinquent_derog  \\\n",
       "0                 28                     23                     1   \n",
       "1                 15                     14                     0   \n",
       "2                 20                     20                     0   \n",
       "3                 22                     21                     0   \n",
       "4                 48                     47                     0   \n",
       "\n",
       "   was_delinquent_derog  oldest_trade_open_date  delinquencies_over30_days  \\\n",
       "0                     4                    None                          5   \n",
       "1                     1                    None                          6   \n",
       "2                     0                    None                          0   \n",
       "3                     1                    None                          1   \n",
       "4                     1                    None                          1   \n",
       "\n",
       "   delinquencies_over60_days  delinquencies_over90_days  is_homeowner  \n",
       "0                          5                         19         False  \n",
       "1                          0                          0         False  \n",
       "2                          0                          0         False  \n",
       "3                          0                          0         False  \n",
       "4                          1                          3          True  \n",
       "\n",
       "[5 rows x 62 columns]"
      ]
     },
     "execution_count": 4,
     "metadata": {},
     "output_type": "execute_result"
    }
   ],
   "source": [
    "#Get data and store in a pandas dataframe\n",
    "rows = cur.fetchall()\n",
    "colnames = [desc[0] for desc in cur.description]\n",
    "Loans = pd.DataFrame(rows,columns =colnames )\n",
    "\n",
    "#Show size and head\n",
    "print Loans.shape\n",
    "Loans.head()"
   ]
  },
  {
   "cell_type": "markdown",
   "metadata": {},
   "source": [
    "<a name=\"3\" style='color:#6698FF'>\n",
    "## Data Cleaning </a>\n",
    "[Back to Table of Contents](#TOC)\n",
    "\n",
    "Add some new fields, change dates to datetime."
   ]
  },
  {
   "cell_type": "code",
   "execution_count": 5,
   "metadata": {
    "collapsed": true
   },
   "outputs": [],
   "source": [
    "#Convert date fields to Python datetimes\n",
    "Loans[\"origination_date\"] = pd.to_datetime(Loans[\"origination_date\"]\n",
    "                                           ,infer_datetime_format=True)\n",
    "Loans[\"next_payment_due_date\"] = pd.to_datetime(Loans[\"next_payment_due_date\"]\n",
    "                                                ,infer_datetime_format=True)\n",
    "\n",
    "#Isolate origination year from the origination date\n",
    "Loans[\"Orig_Year\"] = Loans[\"origination_date\"].map(lambda x: x.year)\n",
    "\n",
    "def get_orig_month(x):\n",
    "    if x.month < 10: return str(x.year)+'0'+str(x.month)\n",
    "    else: return str(x.year)+str(x.month)\n",
    "    \n",
    "#Convert orig date to an orig year_month (yyymm)\n",
    "Loans['orig_month']  = Loans['origination_date'].map(lambda x: get_orig_month(x))\n",
    "\n",
    "#Rank order prosper ratings\n",
    "ratings = [\"AA\", \"A\", \"B\", \"C\", \"D\", \"E\", \"HR\"]\n",
    "Loans['prosper_rating'] = pd.Categorical(Loans['prosper_rating'], ratings)"
   ]
  },
  {
   "cell_type": "code",
   "execution_count": null,
   "metadata": {
    "collapsed": true
   },
   "outputs": [],
   "source": []
  },
  {
   "cell_type": "markdown",
   "metadata": {},
   "source": [
    "<a name=\"4\" style='color:#6698FF'>\n",
    "## Calculate Return in 12 Months </a>\n",
    "[Back to Table of Contents](#TOC)\n",
    "\n",
    "Our metric of performance is the net return in the first 12 months of the loan, but the dataset contains only a snapshot of the loan as of the current date. For loans older than 12 months, we need to determine what proportions of the return occurred in the first year.\n",
    "\n",
    "The two largest components of expected return are **Interest Income** and **Principal Loss**. These are the two components we need to address."
   ]
  },
  {
   "cell_type": "markdown",
   "metadata": {},
   "source": [
    "<a name=\"4.1\">\n",
    "### Add Loss Month </a>\n",
    "[Back to Table of Contents](#TOC)\n",
    "\n",
    "We can identify loans that defaulted but not the time of default. We need to back into the month the customer stopped paying by comparing interest and principal expectations to the actual interest and principal received.\n",
    "\n",
    "#### Loss Month Functions"
   ]
  },
  {
   "cell_type": "code",
   "execution_count": 6,
   "metadata": {
    "collapsed": true
   },
   "outputs": [],
   "source": [
    "#Loan payment calculator based on loan amount, interest rate, and term\n",
    "def loan_payment(loan, ir, n):\n",
    "    payment = loan * ((ir * ((1+ir) ** n)) / ((1+ir) ** n - 1))\n",
    "    return payment\n",
    "\n",
    "#Approximate the month payments stopped using the expected loan amortization schedule\n",
    "def loss_month_approx(loan, ir, n, act_principal_paid, act_int_paid, mob):\n",
    "    try:\n",
    "        pmt = loan_payment(loan,ir,n) #Monthly payment given loan details\n",
    "        current_bal = loan            #Current balance at start of loan is the loan amount\n",
    "        principal_paid = 0            #Principal paid at start is 0\n",
    "        int_paid = 0                  #Interest paid at start is 0\n",
    "    \n",
    "        #For months in term of the loan\n",
    "        for i in range(1,n+1):\n",
    "            current_bal = current_bal*(1+ir)-pmt  #Calculate next months balance\n",
    "            principal_paid = loan - current_bal   #Update total principal paid\n",
    "            int_paid = pmt*i-principal_paid       #Update total interest paid\n",
    "            \n",
    "            #If expected principal paid is greater than actual, we've found the approximate stop month\n",
    "            if principal_paid > act_principal_paid: break\n",
    "            #Or if expected principal is within 5% of the actual\n",
    "            elif abs(principal_paid/act_principal_paid-1) <0.05: break\n",
    "\n",
    "        #If the loop went beyond the Months on Books, return error\n",
    "        if i>mob: return [np.nan,np.nan,np.nan]\n",
    "        \n",
    "        #Else, return the month of stopped payment, the variance in actual and expected principal,\n",
    "        # and the variance in actual and expected interest.\n",
    "        else: return [i, round(principal_paid/act_principal_paid-1,4),\n",
    "                      round(int_paid/act_int_paid-1,4)]\n",
    "    \n",
    "    #For loans missing the necessary information, return error\n",
    "    except:\n",
    "        return [np.nan,np.nan,np.nan]"
   ]
  },
  {
   "cell_type": "markdown",
   "metadata": {},
   "source": [
    "#### Call functions on Charged-off Accounts"
   ]
  },
  {
   "cell_type": "code",
   "execution_count": 7,
   "metadata": {
    "collapsed": false
   },
   "outputs": [
    {
     "name": "stderr",
     "output_type": "stream",
     "text": [
      "/usr/local/lib/python2.7/site-packages/ipykernel/__main__.py:30: RuntimeWarning: divide by zero encountered in double_scalars\n",
      "/usr/local/lib/python2.7/site-packages/ipykernel/__main__.py:31: RuntimeWarning: divide by zero encountered in double_scalars\n"
     ]
    },
    {
     "name": "stdout",
     "output_type": "stream",
     "text": [
      "30.7983949184\n"
     ]
    }
   ],
   "source": [
    "start_time = time.time()\n",
    "\n",
    "#Calculate only on Defaulted and Charged-off population\n",
    "loss_status = [\"CHARGEOFF\",\"DEFAULTED\"]\n",
    "Loss = Loans[Loans[\"loan_status_description\"].isin(loss_status)]\\\n",
    "            [['loan_number', 'amount_borrowed', 'borrower_rate', 'age_in_months', 'term', \n",
    "              'origination_date', 'days_past_due', 'principal_balance','principal_paid', \n",
    "              'interest_paid','late_fees_paid', 'loan_status', 'next_payment_due_date', \n",
    "              'next_payment_due_amount', 'payment', 'Orig_Year']]\\\n",
    "            .reset_index(drop=True)\n",
    "\n",
    "#Loop through all Defaulted loans and calculate month stopped paying\n",
    "output = [] \n",
    "for i in range(0,len(Loss)):\n",
    "    output.append(loss_month_approx(Loss.iloc[i][\"amount_borrowed\"]\n",
    "                                    ,Loss.iloc[i][\"borrower_rate\"]/12\n",
    "                                    ,Loss.iloc[i][\"term\"]\n",
    "                                    ,Loss.iloc[i][\"principal_paid\"]\n",
    "                                    ,Loss.iloc[i][\"interest_paid\"]\n",
    "                                    ,Loss.iloc[i]['age_in_months']))\n",
    "    \n",
    "print time.time() - start_time"
   ]
  },
  {
   "cell_type": "markdown",
   "metadata": {},
   "source": [
    "#### Process Output"
   ]
  },
  {
   "cell_type": "code",
   "execution_count": 8,
   "metadata": {
    "collapsed": false
   },
   "outputs": [
    {
     "data": {
      "text/html": [
       "<div>\n",
       "<table border=\"1\" class=\"dataframe\">\n",
       "  <thead>\n",
       "    <tr style=\"text-align: right;\">\n",
       "      <th></th>\n",
       "      <th>Loss_12M</th>\n",
       "      <th>late_payments</th>\n",
       "      <th>loan_number</th>\n",
       "    </tr>\n",
       "  </thead>\n",
       "  <tbody>\n",
       "    <tr>\n",
       "      <th>0</th>\n",
       "      <td>0</td>\n",
       "      <td>0</td>\n",
       "      <td>9406</td>\n",
       "    </tr>\n",
       "    <tr>\n",
       "      <th>1</th>\n",
       "      <td>0</td>\n",
       "      <td>1</td>\n",
       "      <td>5024</td>\n",
       "    </tr>\n",
       "    <tr>\n",
       "      <th>2</th>\n",
       "      <td>1</td>\n",
       "      <td>0</td>\n",
       "      <td>9216</td>\n",
       "    </tr>\n",
       "    <tr>\n",
       "      <th>3</th>\n",
       "      <td>1</td>\n",
       "      <td>1</td>\n",
       "      <td>2329</td>\n",
       "    </tr>\n",
       "  </tbody>\n",
       "</table>\n",
       "</div>"
      ],
      "text/plain": [
       "   Loss_12M  late_payments  loan_number\n",
       "0         0              0         9406\n",
       "1         0              1         5024\n",
       "2         1              0         9216\n",
       "3         1              1         2329"
      ]
     },
     "execution_count": 8,
     "metadata": {},
     "output_type": "execute_result"
    }
   ],
   "source": [
    "#Add calculated fields back to Loss dataframe\n",
    "output = pd.DataFrame(output, columns=['stopped_payment', 'principal_error','interest_error'])\n",
    "Loss = pd.concat([Loss, output], axis=1, join='outer')\n",
    "\n",
    "#Time of loss given time of stopped payment,\n",
    "Loss[\"loss_month\"] = Loss[\"stopped_payment\"]+3\n",
    "Loss[\"loss_month\"].loc[Loss[\"stopped_payment\"]==-1] =-1\n",
    "\n",
    "#Flag if loss occurred in first 12 months\n",
    "Loss[\"Loss_12M\"]=0\n",
    "Loss[\"Loss_12M\"].loc[(Loss[\"loss_month\"]<=12)&(Loss[\"loss_month\"]>0)] =1\n",
    "\n",
    "#Flag if payment stopped in first 12 months\n",
    "Loss[\"Stopped_Payment_12M\"]=0\n",
    "Loss[\"Stopped_Payment_12M\"].loc[(Loss[\"stopped_payment\"]<=12)&(Loss[\"stopped_payment\"]>0)] =1\n",
    "\n",
    "#Flag for late payments\n",
    "Loss[\"late_payments\"]=0\n",
    "Loss[\"late_payments\"].loc[(Loss[\"late_fees_paid\"]>0)] =1\n",
    "\n",
    "#Replace infinity data with missing\n",
    "Loss['interest_error'] = Loss['interest_error'].replace([np.inf, -np.inf], np.nan)\n",
    "Loss['principal_error'] = Loss['principal_error'].replace([np.inf, -np.inf], np.nan)\n",
    "\n",
    "#Summarize output\n",
    "Loss[[\"loan_number\",'Loss_12M',\"late_payments\"]].groupby(['Loss_12M','late_payments'])\\\n",
    "                .count().reset_index()"
   ]
  },
  {
   "cell_type": "markdown",
   "metadata": {},
   "source": [
    "#### Analyze Output\n",
    "Initial analysis shows that our stopped month principal calculations were within 10% of actuals over 97.5% of the time. This should be expected given the method of our calculation."
   ]
  },
  {
   "cell_type": "code",
   "execution_count": 9,
   "metadata": {
    "collapsed": false,
    "scrolled": false
   },
   "outputs": [
    {
     "data": {
      "image/png": "[encoded data removed]",
      "text/plain": [
       "<matplotlib.figure.Figure at 0x7f15e0147d50>"
      ]
     },
     "metadata": {},
     "output_type": "display_data"
    },
    {
     "name": "stdout",
     "output_type": "stream",
     "text": [
      " % Error    % of Population     \n",
      "    0%            0.00%\n",
      "    5%           87.06%\n",
      "   10%           97.52%\n",
      "   15%           98.13%\n",
      "   20%           98.82%\n"
     ]
    }
   ],
   "source": [
    "data_temp = Loss['principal_error'].dropna()\n",
    "data_temp[data_temp>1] = 1\n",
    "data_temp[data_temp<-1] = -1\n",
    "\n",
    "weights = np.ones_like(data_temp)/len(data_temp)\n",
    "\n",
    "x = plt.hist(data_temp,50,range=[-1,1],weights=weights)\n",
    "plt.title(\"Error on Expected Principal Payment\")\n",
    "plt.xlabel('Expected/Actual Principal - 1')\n",
    "plt.ylabel('Count')\n",
    "plt.show()\n",
    "\n",
    "print \" {0:10}\".format(\"% Error\"), \"{0:20}\".format(\"% of Population\")\n",
    "temp = pd.DataFrame([x[1],x[0]]).T\n",
    "for i in np.arange(0,0.25,0.05):   \n",
    "    print \"{0:5.0f}%\".format(i*100), \"{0:15.2f}%\".format(100.0*temp[temp[0].apply(abs)<i][1].sum())"
   ]
  },
  {
   "cell_type": "markdown",
   "metadata": {},
   "source": [
    "However, that accuracy drops dramatically for expected interest calculations. Only 77% are within 10% accuracy of the actual interest. This error is heavily concentrated on the lower side of the equation, so our projection of month of stopped payment underestimates expected interest."
   ]
  },
  {
   "cell_type": "code",
   "execution_count": 10,
   "metadata": {
    "collapsed": false
   },
   "outputs": [
    {
     "data": {
      "image/png": "[encoded data removed]",
      "text/plain": [
       "<matplotlib.figure.Figure at 0x7f15b5694290>"
      ]
     },
     "metadata": {},
     "output_type": "display_data"
    },
    {
     "name": "stdout",
     "output_type": "stream",
     "text": [
      " % Error    % of Population     \n",
      "    0%            0.00%\n",
      "    5%           70.54%\n",
      "   10%           77.14%\n",
      "   15%           81.50%\n",
      "   20%           87.07%\n"
     ]
    }
   ],
   "source": [
    "data_temp = Loss['interest_error'].dropna()\n",
    "data_temp[data_temp>1] = 1\n",
    "data_temp[data_temp<-1] = -1\n",
    "\n",
    "weights = np.ones_like(data_temp)/len(data_temp)\n",
    "\n",
    "x = plt.hist(data_temp,50,range=[-1,1],weights=weights)\n",
    "plt.title(\"Error on Expected Interest Payment\")\n",
    "plt.xlabel('Expected/Actual Interest - 1')\n",
    "plt.ylabel('Count')\n",
    "plt.show()\n",
    "\n",
    "print \" {0:10}\".format(\"% Error\"), \"{0:20}\".format(\"% of Population\")\n",
    "temp = pd.DataFrame([x[1],x[0]]).T\n",
    "for i in np.arange(0,0.25,0.05):   \n",
    "    print \"{0:5.0f}%\".format(i*100), \"{0:15.2f}%\".format(100.0*temp[temp[0].apply(abs)<i][1].sum())"
   ]
  },
  {
   "cell_type": "markdown",
   "metadata": {},
   "source": [
    "This underprediction can be largely explained by accounts with late fees. These are customers who eventually default and chargeoff, but continue to make payments after missing their first. This will lead to higher accrued interest and thus higher interest income for the lender. Excluding the late fee payers (about 20%), roughly 93% of loans are with 10% accuracy.\n",
    "\n",
    "Because the month of stopped payment is most relevant in determining the amount of principal the lender can expect to receive back, **we determined to take a conservative approach and not push back the actual month of default to adjust for missed payments.** If a borrower paid back 11 months of principal over 13 months, we will include the loss in the first year. The additional revenue will still be incorporated in the expected return segmentation model."
   ]
  },
  {
   "cell_type": "code",
   "execution_count": 11,
   "metadata": {
    "collapsed": false
   },
   "outputs": [
    {
     "data": {
      "image/png": "[encoded data removed]",
      "text/plain": [
       "<matplotlib.figure.Figure at 0x7f15b0263e50>"
      ]
     },
     "metadata": {},
     "output_type": "display_data"
    },
    {
     "name": "stdout",
     "output_type": "stream",
     "text": [
      " % Error    % of Population     \n",
      "    0%            0.00%\n",
      "    5%           90.31%\n",
      "   10%           93.83%\n",
      "   15%           95.28%\n",
      "   20%           96.59%\n"
     ]
    }
   ],
   "source": [
    "data_temp = Loss[Loss.late_payments==0]['interest_error'].dropna()\n",
    "data_temp[data_temp>1] = 1\n",
    "data_temp[data_temp<-1] = -1\n",
    "\n",
    "weights = np.ones_like(data_temp)/len(data_temp)\n",
    "\n",
    "x = plt.hist(data_temp,50,range=[-1,1],weights=weights)\n",
    "plt.title(\"Error on Expected Interest Payment (Excluding Late Fees)\")\n",
    "plt.xlabel('Expected/Actual Interest - 1')\n",
    "plt.ylabel('Count')\n",
    "plt.show()\n",
    "\n",
    "print \" {0:10}\".format(\"% Error\"), \"{0:20}\".format(\"% of Population\")\n",
    "temp = pd.DataFrame([x[1],x[0]]).T\n",
    "for i in np.arange(0,0.25,0.05):   \n",
    "    print \"{0:5.0f}%\".format(i*100), \"{0:15.2f}%\".format(100.0*temp[temp[0].apply(abs)<i][1].sum())"
   ]
  },
  {
   "cell_type": "markdown",
   "metadata": {
    "collapsed": true
   },
   "source": [
    "#### Add Loss Back to Loans Data"
   ]
  },
  {
   "cell_type": "code",
   "execution_count": 12,
   "metadata": {
    "collapsed": true
   },
   "outputs": [],
   "source": [
    "Loans = Loans.merge(Loss[['loan_number','Loss_12M','Stopped_Payment_12M','late_payments'\n",
    "                          ,'stopped_payment','loss_month']]\n",
    "                     ,on='loan_number'\n",
    "                     ,how='left')\n",
    "\n",
    "#Fill missing data with 0\n",
    "Loans[\"Loss_12M\"] = Loans[\"Loss_12M\"].fillna(0)\n",
    "Loans[\"late_payments\"] = Loans[\"late_payments\"].fillna(0)\n",
    "Loans[\"stopped_payment\"] = Loans[\"stopped_payment\"].fillna(0)\n",
    "Loans[\"loss_month\"] = Loans[\"loss_month\"].fillna(0)\n",
    "Loans[\"Stopped_Payment_12M\"] = Loans[\"Stopped_Payment_12M\"].fillna(0)"
   ]
  },
  {
   "cell_type": "code",
   "execution_count": null,
   "metadata": {
    "collapsed": true
   },
   "outputs": [],
   "source": []
  },
  {
   "cell_type": "markdown",
   "metadata": {},
   "source": [
    "<a name=\"4.2\">\n",
    "### Calculate Return </a>\n",
    "[Back to Table of Contents](#TOC)\n",
    "\n",
    "Estimate the expected interest revenue in the first 12 months using the interest rate and payment. Adjust based on the prepayment rates we've observed in the Prosper data in the first year. \n",
    "\n",
    "Combine interest revenue with loss and fees to calculate an expected return.\n",
    "\n",
    "#### Function to Calculate Expected Interest in First 12 Months"
   ]
  },
  {
   "cell_type": "code",
   "execution_count": 13,
   "metadata": {
    "collapsed": true
   },
   "outputs": [],
   "source": [
    "def interest_approx(loan, ir, n, act_principal_paid, act_interest_paid):\n",
    "    \n",
    "    #Inferred from other Prosper data in the first 12 months. \n",
    "    prepayment_rate = 0.1\n",
    "    \n",
    "    try:\n",
    "        pmt = loan_payment(loan,ir,n)  #Monthly payment given loan details\n",
    "        current_bal = loan             #Current balance at start of loan is the loan amount\n",
    "        exp_principal_paid = 0         #Principal paid at start is 0\n",
    "        exp_interest_paid = 0          #Interest paid at start is 0\n",
    "         \n",
    "        #For the first 12 months\n",
    "        for i in range(1,13):\n",
    "            current_bal = current_bal*(1+ir)-pmt             #Calculate next months balance\n",
    "            exp_principal_paid = loan - current_bal          #Update total principal paid\n",
    "            exp_interest_paid = pmt*12 - exp_principal_paid  #Update total interest paid\n",
    " \n",
    "        #Return the expected interest less the prepayment expecations.\n",
    "        return exp_interest_paid*(1-prepayment_rate)\n",
    "    \n",
    "    #For loans missing the necessary information, return error\n",
    "    except:\n",
    "        return -1"
   ]
  },
  {
   "cell_type": "markdown",
   "metadata": {},
   "source": [
    "#### Applying the interest function on all loans"
   ]
  },
  {
   "cell_type": "code",
   "execution_count": 14,
   "metadata": {
    "collapsed": true
   },
   "outputs": [],
   "source": [
    "Loans[\"exp_interest_paid_12M\"] = Loans.apply(lambda x: interest_approx(x['amount_borrowed'], \n",
    "                                                         x['borrower_rate']/12,\n",
    "                                                         x['term'],\n",
    "                                                         x['principal_paid'],\n",
    "                                                         x['interest_paid']), axis=1)"
   ]
  },
  {
   "cell_type": "markdown",
   "metadata": {},
   "source": [
    "#### Expected Return Calculation\n",
    "We define expected return for the first year as interest received in the first 12 months less principal lost due to lack of repayment, plus any applicable fees."
   ]
  },
  {
   "cell_type": "code",
   "execution_count": 15,
   "metadata": {
    "collapsed": false
   },
   "outputs": [
    {
     "data": {
      "text/html": [
       "<div>\n",
       "<table border=\"1\" class=\"dataframe\">\n",
       "  <thead>\n",
       "    <tr style=\"text-align: right;\">\n",
       "      <th></th>\n",
       "      <th>prosper_rating</th>\n",
       "      <th>Loss_12M</th>\n",
       "      <th>Return</th>\n",
       "    </tr>\n",
       "  </thead>\n",
       "  <tbody>\n",
       "    <tr>\n",
       "      <th>0</th>\n",
       "      <td>A</td>\n",
       "      <td>0.017797</td>\n",
       "      <td>0.053693</td>\n",
       "    </tr>\n",
       "    <tr>\n",
       "      <th>1</th>\n",
       "      <td>AA</td>\n",
       "      <td>0.009203</td>\n",
       "      <td>0.037623</td>\n",
       "    </tr>\n",
       "    <tr>\n",
       "      <th>2</th>\n",
       "      <td>B</td>\n",
       "      <td>0.031971</td>\n",
       "      <td>0.067949</td>\n",
       "    </tr>\n",
       "    <tr>\n",
       "      <th>3</th>\n",
       "      <td>C</td>\n",
       "      <td>0.051597</td>\n",
       "      <td>0.081715</td>\n",
       "    </tr>\n",
       "    <tr>\n",
       "      <th>4</th>\n",
       "      <td>D</td>\n",
       "      <td>0.076332</td>\n",
       "      <td>0.097452</td>\n",
       "    </tr>\n",
       "    <tr>\n",
       "      <th>5</th>\n",
       "      <td>E</td>\n",
       "      <td>0.100557</td>\n",
       "      <td>0.116200</td>\n",
       "    </tr>\n",
       "    <tr>\n",
       "      <th>6</th>\n",
       "      <td>HR</td>\n",
       "      <td>0.149433</td>\n",
       "      <td>0.038009</td>\n",
       "    </tr>\n",
       "  </tbody>\n",
       "</table>\n",
       "</div>"
      ],
      "text/plain": [
       "  prosper_rating  Loss_12M    Return\n",
       "0              A  0.017797  0.053693\n",
       "1             AA  0.009203  0.037623\n",
       "2              B  0.031971  0.067949\n",
       "3              C  0.051597  0.081715\n",
       "4              D  0.076332  0.097452\n",
       "5              E  0.100557  0.116200\n",
       "6             HR  0.149433  0.038009"
      ]
     },
     "execution_count": 15,
     "metadata": {},
     "output_type": "execute_result"
    }
   ],
   "source": [
    "#Use actual interest paid instead of predicted for loans that stopped payment in first 12M\n",
    "Loans[\"exp_interest_paid_12M\"].loc[Loans[\"Stopped_Payment_12M\"]==1] = Loans[\"interest_paid\"]\n",
    "\n",
    "#Calculate a dollar loss amount\n",
    "Loans[\"loss\"] = 0\n",
    "Loans[\"loss\"]= (Loans[\"amount_borrowed\"]-Loans[\"principal_paid\"])*Loans['Loss_12M']\n",
    "\n",
    "#Calculate an expected dollar return in the first 12M\n",
    "Loans[\"exp_return_12M\"] = Loans[\"exp_interest_paid_12M\"] - Loans[\"loss\"] + \\\n",
    "                            Loans[\"prosper_fees_paid\"] + Loans[\"late_fees_paid\"] +\\\n",
    "                            Loans[\"service_fees_paid\"] + Loans[\"debt_sale_proceeds_received\"]\n",
    "        \n",
    "#Calculate as a rate of original loan amount\n",
    "Loans[\"Return\"] = Loans[\"exp_return_12M\"]/Loans[\"amount_borrowed\"]\n",
    "\n",
    "#Show average Loss and Return rates by Prosper Rating Grade\n",
    "Loans[Loans[\"age_in_months\"]>=12][[\"prosper_rating\",\"Loss_12M\",'Return']]\\\n",
    "        .groupby([\"prosper_rating\"]).mean().reset_index()"
   ]
  },
  {
   "cell_type": "code",
   "execution_count": null,
   "metadata": {
    "collapsed": true
   },
   "outputs": [],
   "source": []
  },
  {
   "cell_type": "markdown",
   "metadata": {},
   "source": [
    "<a name=\"5\" style='color:#6698FF'>\n",
    "## Model: Decision Tree Regressor </a>\n",
    "[Back to Table of Contents](#TOC)\n",
    "\n",
    "Our model is built using a Decision Tree Regressor. This approach allows us to model a continuous variable (rate of expected return), while maintaining the explainability of a tree. The decision tree structure also classifies each loan in the portfolio into a end node, which is conducive to our end goal of dividing the portfolio into high-performance and low-performance pools.\n",
    "\n",
    "#### Field Selection and Preparation"
   ]
  },
  {
   "cell_type": "code",
   "execution_count": 16,
   "metadata": {
    "collapsed": false
   },
   "outputs": [
    {
     "data": {
      "text/plain": [
       "LabelEncoder()"
      ]
     },
     "execution_count": 16,
     "metadata": {},
     "output_type": "execute_result"
    }
   ],
   "source": [
    "fields = ['prosper_rating','borrower_state', 'months_employed',\n",
    "          'dti_wprosper_loan','total_inquiries','bankcard_utilization','all208',\n",
    "          'revolving_balance','all701','installment_balance']\n",
    "\n",
    "#Build Encoder for categorical variables for SKlearn model\n",
    "enc = preprocessing.LabelEncoder()\n",
    "enc.fit(Loans['prosper_rating'])\n",
    "\n",
    "enc2 = preprocessing.LabelEncoder()\n",
    "enc2.fit(Loans['borrower_state'])"
   ]
  },
  {
   "cell_type": "markdown",
   "metadata": {},
   "source": [
    "#### Function to Calculate the Standard Deviation by Group in Data"
   ]
  },
  {
   "cell_type": "code",
   "execution_count": 17,
   "metadata": {
    "collapsed": true
   },
   "outputs": [],
   "source": [
    "# \"group\" is the segmentation to pool by\n",
    "# \"data\" is the pandas dataframe with the loan level returns\n",
    "def std_by_group(group, data, n=25, samples=100):\n",
    "    #Create a dataframe for results\n",
    "    group_returns = pd.DataFrame(columns = [group,'avg_return','std_return'])    \n",
    "    \n",
    "    #For each unique category in the group field\n",
    "    for i in data[group].unique():\n",
    "        returns = [] #Empty list for storing average returns\n",
    "        \n",
    "        x = data[data[group]==i] #Select only the current category\n",
    "\n",
    "        #For the number of samples specified (default is 100)\n",
    "        for j in range(0,samples):\n",
    "            #Select a random sample of n loans within the current category, default is 25\n",
    "            z = x[[group,'exp_return_12M','amount_borrowed']].sample(n=min(n,len(x))).sum()\n",
    "            \n",
    "            #Append the average return to the returns array\n",
    "            returns.append(z['exp_return_12M']/z['amount_borrowed'])\n",
    "\n",
    "        #Calculate the average return and standard deviation of returns, and store in a \n",
    "        # temporary data frame with the category name\n",
    "        temp = pd.DataFrame([[i, x['exp_return_12M'].sum()/x['amount_borrowed'].sum()\n",
    "                              ,np.std(returns)]]\n",
    "                            ,columns=[group,'avg_return','std_return'])\n",
    "        \n",
    "        #Append the current category results to the total dataframe\n",
    "        group_returns = group_returns.append(temp)    \n",
    "    \n",
    "    #Return the dataframe of returns and standard deviations by group\n",
    "    return group_returns.reset_index(drop=True)"
   ]
  },
  {
   "cell_type": "markdown",
   "metadata": {},
   "source": [
    "<a name=\"5.1\">\n",
    "### Build OptiLender and Benchmark Model </a>\n",
    "[Back to Table of Contents](#TOC)\n",
    "\n",
    "We build one model for each origination year. We took only loans that were at least 12 months old at the beginning of the origination year. For example, the 2010 model uses only 2007 and 2008 originations because the 2009 data is too young. At the start of each new origination year, we update the model with another 12 months of data and recalibrate. Prosper’s exponential growth creates a natural weighting system for the age of the data, so that newer loans have a much higher weight in the model calibration but we still retain older performance for stability.\n",
    "\n",
    "\n",
    "Our benchmark model is built in the same way, but only using the Prosper Rating as an independent variable. The only other difference is that the actual return of C, D, and E ratings shifted drastically after 2008 originations, possibly due to a change in the rating grade model at Prosper following the economic crash. Due to this, we exclude 2007 and 2008 data when 2009 becomes available for use. Otherwise, this older performance data heavily drags down the expected return."
   ]
  },
  {
   "cell_type": "code",
   "execution_count": 18,
   "metadata": {
    "collapsed": false,
    "scrolled": true
   },
   "outputs": [
    {
     "name": "stdout",
     "output_type": "stream",
     "text": [
      "2010 runtime is 14.67s\n",
      "\n",
      "2011 runtime is 16.13s\n",
      "\n",
      "2012 runtime is 20.67s\n",
      "\n",
      "2013 runtime is 27.70s\n",
      "\n",
      "2014 runtime is 40.93s\n",
      "\n",
      "2015 runtime is 64.08s\n",
      "\n"
     ]
    }
   ],
   "source": [
    "for year in [2010,2011,2012,2013,2014,2015]:\n",
    "    #Start timer\n",
    "    start_time = time.time()    \n",
    "    \n",
    "    #-------------------#\n",
    "    #----BUILD MODEL----#\n",
    "    #-------------------#\n",
    "    \n",
    "    #Set train and test populations\n",
    "    Train_Data = Loans.loc[(Loans[\"age_in_months\"]>=12) & (Loans['Orig_Year']<year-1)]\n",
    "    test =  Loans.loc[(Loans[\"age_in_months\"]>=12) & (Loans['Orig_Year']==year)]\n",
    "#     print year, \":\", Train_Data.shape[0], test.shape[0]\n",
    "\n",
    "    #Encode categorical variables\n",
    "    Train_Data['prosper_rating'] = enc.transform(Train_Data['prosper_rating'])\n",
    "    test['prosper_rating'] = enc.transform(test['prosper_rating'])\n",
    "    Train_Data['borrower_state'] = enc2.transform(Train_Data['borrower_state'])\n",
    "    test['borrower_state'] = enc2.transform(test['borrower_state'])\n",
    "\n",
    "    #Dependent and independent variables\n",
    "    train_Y = Train_Data['Return']\n",
    "    train_X = Train_Data[fields].fillna(0)\n",
    "    test_Y = test['exp_return_12M']\n",
    "    test_X = test[fields].fillna(0)\n",
    "\n",
    "    #Build model on train data\n",
    "    DTC = DecisionTreeRegressor(min_samples_leaf =100)    \n",
    "    DTC = DTC.fit(train_X, train_Y)\n",
    "    Train_Data['leaf'] = DTC.apply(train_X)\n",
    "\n",
    "    #Run model on test data\n",
    "    test[\"pred\"] = DTC.predict(test_X)\n",
    "    test[\"pred_return\"] = test[\"pred\"]*test['amount_borrowed']\n",
    "    test['leaf'] = DTC.apply(test_X)\n",
    "    \n",
    "    \n",
    "    #------------------------------------------------------#\n",
    "    #----CALCULATE EXPECTED AND AVERAGE RETURNS BY LEAF----#\n",
    "    #------------------------------------------------------#  \n",
    "    \n",
    "    #Aggregate returns to the leaf level\n",
    "    returns = test.groupby('leaf').sum().reset_index()\\\n",
    "            [['leaf','pred_return','exp_return_12M','amount_borrowed']]\n",
    "    \n",
    "    #Calculate expected and actual returns by leaf\n",
    "    returns['pred_return_rate'] = returns['pred_return']/returns['amount_borrowed']\n",
    "    returns['exp_return_rate'] = returns['exp_return_12M']/returns['amount_borrowed']\n",
    "    returns=returns.drop(['pred_return'], axis=1)\n",
    "\n",
    "    #Calculate expected standard deviations of returns by leaf\n",
    "    sd = std_by_group('leaf', Train_Data, n=25, samples=100)\n",
    "    sd.leaf = sd.leaf.astype(int)\n",
    "    returns = returns.merge(sd, on='leaf')\n",
    "    \n",
    "    #Rename columns\n",
    "    returns = returns.drop(['avg_return'], axis=1)\n",
    "    returns.columns = ['leaf','Act_Return_Dollars','Amount_Borrowed','Pred_Return_Rate',\n",
    "                               'Act_Return_Rate','Pred_Std']\n",
    "    \n",
    "    #Add year, node, and list of loans within the leaf\n",
    "    returns['year'] = year\n",
    "    returns['Node_ID'] = returns['year'].astype(str) + returns['leaf'].astype(str)\n",
    "    returns['Loans'] = test.groupby('leaf')['loan_number'].apply(list).reset_index(drop=True)\n",
    "    \n",
    "    \n",
    "    #-----------------------------#\n",
    "    #----BUILD BENCHMARK MODEL----#\n",
    "    #-----------------------------#\n",
    "    \n",
    "    #Exclude 2007-2008 data after 20101\n",
    "    if year>=2011:\n",
    "        Train_Data = Train_Data.loc[(Train_Data['Orig_Year']>=2009)]\n",
    "        \n",
    "    #Calculate expected returns and standard deviations of returns by Prosper Rating\n",
    "    rating_returns = std_by_group('prosper_rating', Train_Data, n=25, samples=100)\n",
    "    rating_returns.prosper_rating = enc.inverse_transform(rating_returns.prosper_rating.astype(int))\n",
    "\n",
    "    #Calculate actual returns and standard deviations of returns by Prosper Rating\n",
    "    rating_sd = std_by_group('prosper_rating', test, n=25, samples=100)\n",
    "    rating_sd.prosper_rating = enc.inverse_transform(rating_sd.prosper_rating.astype(int))    \n",
    "    rating_returns = rating_returns.merge(rating_sd, on='prosper_rating')\n",
    "    \n",
    "    #Add year and node\n",
    "    rating_returns.columns = ['prosper_rating','Prev_Return','Prev_SD','Act_Return', 'Act_SD']\n",
    "    rating_returns['year'] = year\n",
    "    \n",
    "    \n",
    "    #-----------------------#\n",
    "    #----COMBINE RESULTS----#\n",
    "    #-----------------------#    \n",
    "    \n",
    "    #Merge results from different years\n",
    "    if year==2010: \n",
    "        total_returns = returns.copy()\n",
    "        total_rating_returns = rating_returns.copy()\n",
    "    else: \n",
    "        total_returns = pd.concat([total_returns, returns])\n",
    "        total_rating_returns = pd.concat([total_rating_returns, rating_returns])\n",
    "        \n",
    "    #Print runtime for each origination year\n",
    "    print '%i runtime is %0.2fs' %(year,time.time() - start_time)\n",
    "    print ''   \n",
    "    \n",
    "#Reset indexes\n",
    "total_returns = total_returns.reset_index(drop=True)\n",
    "total_rating_returns = total_rating_returns.reset_index(drop=True)"
   ]
  },
  {
   "cell_type": "markdown",
   "metadata": {},
   "source": [
    "#### Feature Weights"
   ]
  },
  {
   "cell_type": "code",
   "execution_count": 19,
   "metadata": {
    "collapsed": false
   },
   "outputs": [
    {
     "name": "stdout",
     "output_type": "stream",
     "text": [
      "Feature ranking:\n",
      "1. feature 0, prosper_rating (0.276160)\n",
      "2. feature 4, total_inquiries (0.106184)\n",
      "3. feature 6, all208 (0.097782)\n",
      "4. feature 7, revolving_balance (0.092201)\n",
      "5. feature 2, months_employed (0.090805)\n",
      "6. feature 9, installment_balance (0.082156)\n",
      "7. feature 3, dti_wprosper_loan (0.075490)\n",
      "8. feature 5, bankcard_utilization (0.075127)\n",
      "9. feature 8, all701 (0.054239)\n",
      "10. feature 1, borrower_state (0.049854)\n"
     ]
    }
   ],
   "source": [
    "#Get variable importance, standard deviation of importance, and variable index\n",
    "importances = DTC.feature_importances_\n",
    "indices = np.argsort(importances)[::-1]\n",
    "\n",
    "#Convert variable index into a name\n",
    "names = np.array(train_X.columns.values)\n",
    "dt_names = []\n",
    "for i in indices:\n",
    "    dt_names.append(names[i])\n",
    "\n",
    "# Print the feature ranking\n",
    "print(\"Feature ranking:\")\n",
    "for f in range(0,10):\n",
    "    print(\"%d. feature %d, %s (%f)\" % (f + 1, indices[f], dt_names[f], importances[indices[f]]))"
   ]
  },
  {
   "cell_type": "code",
   "execution_count": null,
   "metadata": {
    "collapsed": true
   },
   "outputs": [],
   "source": []
  },
  {
   "cell_type": "markdown",
   "metadata": {},
   "source": [
    "<a name=\"6\" style='color:#6698FF'>\n",
    "## Model Results and Comparison </a>\n",
    "[Back to Table of Contents](#TOC)\n",
    "\n",
    "To evaluate the performance of the model, we compare to the Benchmark model built using only Prosper Rating grade as a feature. The user of our tool would select a distribution of Prosper Rating grades according to their risk appetite. Our model would select pools with comparable or lower expected standard deviation of returns (RISK) and comparable or higher average returns (RETURNS). We then compare actual returns over the next 12 months.\n",
    "\n",
    "The model performs best on the lowest risk ratings (AA, A, B), providing substantial lift in expected returns by identifying pockets of the best return. The model performs comparably for medium risk ratings (C), and underperforms for the highest risk ratings (D, E)."
   ]
  },
  {
   "cell_type": "code",
   "execution_count": 20,
   "metadata": {
    "collapsed": false,
    "scrolled": false
   },
   "outputs": [
    {
     "name": "stdout",
     "output_type": "stream",
     "text": [
      "         RATING  AA        \n",
      "-----------------------------------\n",
      "Year    Model  Benchmark Variance\n",
      "-----------------------------------\n",
      "2010    9.82%    4.76%    5.06%\n",
      "2011    8.95%    4.60%    4.35%\n",
      "2012    8.40%    4.71%    3.69%\n",
      "2013    8.58%    4.21%    4.38%\n",
      "2014    6.44%    3.65%    2.79%\n",
      "2015    5.76%    3.41%    2.36%\n",
      "====================================\n",
      "         RATING  A        \n",
      "-----------------------------------\n",
      "Year    Model  Benchmark Variance\n",
      "-----------------------------------\n",
      "2010    9.62%    5.34%    4.28%\n",
      "2011    9.43%    6.42%    3.01%\n",
      "2012    8.13%    5.85%    2.29%\n",
      "2013    9.06%    6.43%    2.63%\n",
      "2014    6.89%    5.63%    1.25%\n",
      "2015    6.09%    5.00%    1.10%\n",
      "====================================\n",
      "         RATING  B        \n",
      "-----------------------------------\n",
      "Year    Model  Benchmark Variance\n",
      "-----------------------------------\n",
      "2010   10.54%    8.83%    1.71%\n",
      "2011    9.80%    8.78%    1.02%\n",
      "2012   10.48%    7.93%    2.55%\n",
      "2013   10.24%    8.86%    1.38%\n",
      "2014    7.92%    6.98%    0.94%\n",
      "2015    6.85%    5.91%    0.94%\n",
      "====================================\n",
      "         RATING  C        \n",
      "-----------------------------------\n",
      "Year    Model  Benchmark Variance\n",
      "-----------------------------------\n",
      "2010   10.14%   11.36%   -1.22%\n",
      "2011   11.53%   10.84%    0.69%\n",
      "2012   10.48%    9.91%    0.57%\n",
      "2013   10.58%   10.77%   -0.19%\n",
      "2014    8.36%    8.04%    0.32%\n",
      "2015    7.02%    6.80%    0.21%\n",
      "====================================\n",
      "         RATING  D        \n",
      "-----------------------------------\n",
      "Year    Model  Benchmark Variance\n",
      "-----------------------------------\n",
      "2010    9.89%   14.18%   -4.29%\n",
      "2011   15.78%   12.65%    3.13%\n",
      "2012   11.34%   10.67%    0.67%\n",
      "2013   11.02%   12.54%   -1.52%\n",
      "2014    8.74%    9.32%   -0.58%\n",
      "2015    7.55%    7.95%   -0.40%\n",
      "====================================\n",
      "         RATING  E        \n",
      "-----------------------------------\n",
      "Year    Model  Benchmark Variance\n",
      "-----------------------------------\n",
      "2010    9.88%   17.35%   -7.48%\n",
      "2011   15.78%   10.34%    5.44%\n",
      "2012    9.80%   13.01%   -3.22%\n",
      "2013   11.52%   12.59%   -1.07%\n",
      "2014    8.85%   11.45%   -2.60%\n",
      "2015    7.63%   10.39%   -2.77%\n",
      "====================================\n"
     ]
    },
    {
     "data": {
      "image/png": "[encoded data removed]",
      "text/plain": [
       "<matplotlib.figure.Figure at 0x7f15b02631d0>"
      ]
     },
     "metadata": {},
     "output_type": "display_data"
    }
   ],
   "source": [
    "years = [2010,2011,2012,2013,2014,2015]\n",
    "fig, ax = plt.subplots()\n",
    "\n",
    "#Evaluate the model by comparing performance to the benchmark at each Rating\n",
    "for rating in ['AA','A','B','C','D','E']:\n",
    "    #Print formatting\n",
    "    print \"         RATING  \" + rating + '        '\n",
    "    print \"-\"*35\n",
    "    print \"{0:7} {1:6} {2:7} {3:7}\".format(\"Year\", \"Model\", \"Benchmark\", \"Variance\")\n",
    "    print \"-\"*35\n",
    "\n",
    "    cumulative_return = 100\n",
    "    variances = [100]\n",
    "    \n",
    "    # For each origination year (and model)\n",
    "    for year in years:\n",
    "        \n",
    "        # Minimum required return is the average expected return for the current Rating\n",
    "        min_return = total_rating_returns[(total_rating_returns.prosper_rating==rating) \n",
    "                                          & (total_rating_returns.year == year)]['Prev_Return'].iloc[0]\n",
    "        \n",
    "        # Maximum risk is the average standard deviation of returns for the current Rating\n",
    "        max_sd = total_rating_returns[(total_rating_returns.prosper_rating==rating) \n",
    "                                          & (total_rating_returns.year == year)]['Prev_SD'].iloc[0]\n",
    "\n",
    "        #Select pools that meet the minimum return and maximum risk requirements\n",
    "        recommendations = total_returns[(total_returns.Pred_Return_Rate >= min_return) \n",
    "                             & (total_returns.Pred_Std <= max_sd)\n",
    "                             & (total_returns.year == year)]\n",
    "\n",
    "        #Calculate weighted average actual return for recommended pools\n",
    "        recommendations['Pred_Dollars'] = recommendations['Pred_Return_Rate'] \\\n",
    "                                            *recommendations['Amount_Borrowed']\n",
    "        model_return = recommendations['Act_Return_Dollars'].sum()\\\n",
    "                            /recommendations['Amount_Borrowed'].sum()\n",
    "\n",
    "        #Select average actual return for Prosper Rating\n",
    "        rating_return = total_rating_returns[(total_rating_returns.prosper_rating==rating) \n",
    "                                          & (total_rating_returns.year == year)]['Act_Return'].iloc[0]\n",
    "\n",
    "        #Calculate variance between model and benchmark\n",
    "        variance = model_return - rating_return\n",
    "        \n",
    "        #Updated cumulative return\n",
    "        cumulative_return*=(1+variance)\n",
    "        variances.append(cumulative_return)\n",
    "\n",
    "        #Print table of actual returns and variances\n",
    "        print \"{0:0.0f} {1:7.2f}% {2:7.2f}% {3:7.2f}%\".format(year, model_return*100\n",
    "                                                    , rating_return*100 ,variance*100) \n",
    "    print '=='*18\n",
    "    \n",
    "    #Plot the cumulative returns over time\n",
    "    ax.plot(years+[2016],variances, label=rating)\n",
    "\n",
    "#Duplicate y-axis on right side of chart\n",
    "ax2 = ax.twinx()\n",
    "ax2.set_ylim(ax.get_ylim())\n",
    "    \n",
    "#Plot formatting\n",
    "ax.ticklabel_format(useOffset=False)\n",
    "ax.legend(loc=0,prop={'size':8})\n",
    "plt.title(\"Additional Return Beyond Prosper Rating\")\n",
    "plt.show()"
   ]
  },
  {
   "cell_type": "markdown",
   "metadata": {},
   "source": [
    "### Efficient Frontier"
   ]
  },
  {
   "cell_type": "code",
   "execution_count": 21,
   "metadata": {
    "collapsed": false
   },
   "outputs": [
    {
     "data": {
      "image/png": "[encoded data removed]",
      "text/plain": [
       "<matplotlib.figure.Figure at 0x7f15b026ba50>"
      ]
     },
     "metadata": {},
     "output_type": "display_data"
    }
   ],
   "source": [
    "#Summarize leaf data\n",
    "temp_leaf = total_returns.groupby('leaf')[['Pred_Return_Rate','Pred_Std']].mean().reset_index()\n",
    "temp_leaf2 = total_returns.groupby('leaf')[['Amount_Borrowed']].sum().reset_index()\n",
    "temp_leaf = temp_leaf.merge(temp_leaf2, on='leaf')\n",
    "\n",
    "#Summarize Rating data\n",
    "temp_rr = total_rating_returns[(total_rating_returns.year>2010)\\\n",
    "                               &(total_rating_returns.prosper_rating<>'HR')]\\\n",
    "            .groupby('prosper_rating')[['Prev_Return','Prev_SD']].mean().reset_index()\n",
    "\n",
    "\n",
    "#Make marker size proportionate to leaf exposure\n",
    "x = temp_leaf['Amount_Borrowed']/300000    \n",
    "\n",
    "#Plot risk vs return for Leaf and Prosper Ratings\n",
    "plt.scatter(temp_leaf['Pred_Std'],temp_leaf['Pred_Return_Rate']\n",
    "            ,s=x ,c='b', label='Decision Tree Leaves')\n",
    "plt.scatter(temp_rr['Prev_SD'],temp_rr['Prev_Return'],s=200, c='red', label='Rating Grades')\n",
    "\n",
    "\n",
    "#Prosper Rating Grade curve\n",
    "temp_range = np.arange(0.01,0.12,0.0001)\n",
    "temp_y = []\n",
    "for i in temp_range:\n",
    "    temp_y.append(0.08*math.log(i) + 0.35)\n",
    "plt.scatter(temp_range,temp_y ,c='black', s=5)\n",
    "\n",
    "#Cutoff < 0.5% Std Deviation. Below that we assume too little data\n",
    "plt.xlim([0.005,0.1])\n",
    "plt.ylim([-0.1,0.2])\n",
    "\n",
    "#Plot formatting\n",
    "plt.legend(loc=0,prop={'size':8})\n",
    "plt.xlabel('Standard Deviation of Returns')\n",
    "plt.ylabel('Average Returns')\n",
    "plt.title('Risk vs Return by Decision Tree Leaves')\n",
    "plt.show()"
   ]
  },
  {
   "cell_type": "code",
   "execution_count": null,
   "metadata": {
    "collapsed": true
   },
   "outputs": [],
   "source": []
  },
  {
   "cell_type": "markdown",
   "metadata": {},
   "source": [
    "<a name=\"7\" style='color:#6698FF'>\n",
    "## Generate Output Files </a>\n",
    "[Back to Table of Contents](#TOC)\n"
   ]
  },
  {
   "cell_type": "code",
   "execution_count": 22,
   "metadata": {
    "collapsed": false
   },
   "outputs": [],
   "source": [
    "Loan_Data = Loans[(Loans[\"age_in_months\"]>=12) & (Loans[\"Orig_Year\"]>=2010)]\\\n",
    "                [['loan_number','Orig_Year']+fields]\\\n",
    "                .reset_index(drop=True)\n",
    "        \n",
    "for i in range(0,len(total_returns)):\n",
    "    leaf = total_returns.ix[i]['leaf']\n",
    "    loans = total_returns.ix[i]['Loans']\n",
    "    Loan_Data.loc[Loan_Data.loan_number.isin(loans), 'leaf'] = leaf\n",
    "    \n",
    "Loan_Data['leaf'] = Loan_Data['leaf'].astype(int)\n",
    "Loan_Data['Node_ID'] = Loan_Data['Orig_Year'].astype(str) + Loan_Data['leaf'].astype(str)\n"
   ]
  },
  {
   "cell_type": "code",
   "execution_count": 23,
   "metadata": {
    "collapsed": false
   },
   "outputs": [],
   "source": [
    "Loan_Data.to_csv('Loan_Data.csv', index=0)\n",
    "total_returns.to_csv('total_returns.csv', index=0)\n",
    "total_rating_returns.to_csv('total_rating_returns.csv', index=0)"
   ]
  },
  {
   "cell_type": "code",
   "execution_count": null,
   "metadata": {
    "collapsed": true
   },
   "outputs": [],
   "source": []
  }
 ],
 "metadata": {
  "kernelspec": {
   "display_name": "Python 2",
   "language": "python",
   "name": "python2"
  },
  "language_info": {
   "codemirror_mode": {
    "name": "ipython",
    "version": 2
   },
   "file_extension": ".py",
   "mimetype": "text/x-python",
   "name": "python",
   "nbconvert_exporter": "python",
   "pygments_lexer": "ipython2",
   "version": "2.7.12"
  }
 },
 "nbformat": 4,
 "nbformat_minor": 1
}
